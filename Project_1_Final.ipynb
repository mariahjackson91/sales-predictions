{
  "nbformat": 4,
  "nbformat_minor": 0,
  "metadata": {
    "colab": {
      "name": "Project_1_Final.ipynb",
      "provenance": [],
      "mount_file_id": "1PrLW4HdAA5N6OdJJm8h1EWDMfXV4lC7s",
      "authorship_tag": "ABX9TyPFwSPHGIqMPwb4I79g3+Zp",
      "include_colab_link": true
    },
    "kernelspec": {
      "name": "python3",
      "display_name": "Python 3"
    },
    "language_info": {
      "name": "python"
    }
  },
  "cells": [
    {
      "cell_type": "markdown",
      "metadata": {
        "id": "view-in-github",
        "colab_type": "text"
      },
      "source": [
        "<a href=\"https://colab.research.google.com/github/mariahjackson91/sales-predictions/blob/main/Project_1_Final.ipynb\" target=\"_parent\"><img src=\"https://colab.research.google.com/assets/colab-badge.svg\" alt=\"Open In Colab\"/></a>"
      ]
    },
    {
      "cell_type": "code",
      "execution_count": 1,
      "metadata": {
        "id": "yx2AcXvsf7r1"
      },
      "outputs": [],
      "source": [
        "# Import Pandas\n",
        "import matplotlib.pyplot as plt\n",
        "import seaborn as sns\n",
        "import pandas as pd\n",
        "import numpy as np\n",
        "filename = '/content/drive/MyDrive/Coding Dojo- Data Science/01 Week 1: Python/sales_predictions.csv'"
      ]
    },
    {
      "cell_type": "code",
      "source": [
        "# Load the Data\n",
        "df = pd.read_csv(filename)\n",
        "df.head()"
      ],
      "metadata": {
        "colab": {
          "base_uri": "https://localhost:8080/",
          "height": 313
        },
        "id": "FVYRti7bhCLh",
        "outputId": "d0cc585e-9521-4d58-e084-882b9b81270b"
      },
      "execution_count": 2,
      "outputs": [
        {
          "output_type": "execute_result",
          "data": {
            "text/plain": [
              "  Item_Identifier  Item_Weight Item_Fat_Content  Item_Visibility  \\\n",
              "0           FDA15         9.30          Low Fat         0.016047   \n",
              "1           DRC01         5.92          Regular         0.019278   \n",
              "2           FDN15        17.50          Low Fat         0.016760   \n",
              "3           FDX07        19.20          Regular         0.000000   \n",
              "4           NCD19         8.93          Low Fat         0.000000   \n",
              "\n",
              "               Item_Type  Item_MRP Outlet_Identifier  \\\n",
              "0                  Dairy  249.8092            OUT049   \n",
              "1            Soft Drinks   48.2692            OUT018   \n",
              "2                   Meat  141.6180            OUT049   \n",
              "3  Fruits and Vegetables  182.0950            OUT010   \n",
              "4              Household   53.8614            OUT013   \n",
              "\n",
              "   Outlet_Establishment_Year Outlet_Size Outlet_Location_Type  \\\n",
              "0                       1999      Medium               Tier 1   \n",
              "1                       2009      Medium               Tier 3   \n",
              "2                       1999      Medium               Tier 1   \n",
              "3                       1998         NaN               Tier 3   \n",
              "4                       1987        High               Tier 3   \n",
              "\n",
              "         Outlet_Type  Item_Outlet_Sales  \n",
              "0  Supermarket Type1          3735.1380  \n",
              "1  Supermarket Type2           443.4228  \n",
              "2  Supermarket Type1          2097.2700  \n",
              "3      Grocery Store           732.3800  \n",
              "4  Supermarket Type1           994.7052  "
            ],
            "text/html": [
              "<div>\n",
              "<style scoped>\n",
              "    .dataframe tbody tr th:only-of-type {\n",
              "        vertical-align: middle;\n",
              "    }\n",
              "\n",
              "    .dataframe tbody tr th {\n",
              "        vertical-align: top;\n",
              "    }\n",
              "\n",
              "    .dataframe thead th {\n",
              "        text-align: right;\n",
              "    }\n",
              "</style>\n",
              "<table border=\"1\" class=\"dataframe\">\n",
              "  <thead>\n",
              "    <tr style=\"text-align: right;\">\n",
              "      <th></th>\n",
              "      <th>Item_Identifier</th>\n",
              "      <th>Item_Weight</th>\n",
              "      <th>Item_Fat_Content</th>\n",
              "      <th>Item_Visibility</th>\n",
              "      <th>Item_Type</th>\n",
              "      <th>Item_MRP</th>\n",
              "      <th>Outlet_Identifier</th>\n",
              "      <th>Outlet_Establishment_Year</th>\n",
              "      <th>Outlet_Size</th>\n",
              "      <th>Outlet_Location_Type</th>\n",
              "      <th>Outlet_Type</th>\n",
              "      <th>Item_Outlet_Sales</th>\n",
              "    </tr>\n",
              "  </thead>\n",
              "  <tbody>\n",
              "    <tr>\n",
              "      <th>0</th>\n",
              "      <td>FDA15</td>\n",
              "      <td>9.30</td>\n",
              "      <td>Low Fat</td>\n",
              "      <td>0.016047</td>\n",
              "      <td>Dairy</td>\n",
              "      <td>249.8092</td>\n",
              "      <td>OUT049</td>\n",
              "      <td>1999</td>\n",
              "      <td>Medium</td>\n",
              "      <td>Tier 1</td>\n",
              "      <td>Supermarket Type1</td>\n",
              "      <td>3735.1380</td>\n",
              "    </tr>\n",
              "    <tr>\n",
              "      <th>1</th>\n",
              "      <td>DRC01</td>\n",
              "      <td>5.92</td>\n",
              "      <td>Regular</td>\n",
              "      <td>0.019278</td>\n",
              "      <td>Soft Drinks</td>\n",
              "      <td>48.2692</td>\n",
              "      <td>OUT018</td>\n",
              "      <td>2009</td>\n",
              "      <td>Medium</td>\n",
              "      <td>Tier 3</td>\n",
              "      <td>Supermarket Type2</td>\n",
              "      <td>443.4228</td>\n",
              "    </tr>\n",
              "    <tr>\n",
              "      <th>2</th>\n",
              "      <td>FDN15</td>\n",
              "      <td>17.50</td>\n",
              "      <td>Low Fat</td>\n",
              "      <td>0.016760</td>\n",
              "      <td>Meat</td>\n",
              "      <td>141.6180</td>\n",
              "      <td>OUT049</td>\n",
              "      <td>1999</td>\n",
              "      <td>Medium</td>\n",
              "      <td>Tier 1</td>\n",
              "      <td>Supermarket Type1</td>\n",
              "      <td>2097.2700</td>\n",
              "    </tr>\n",
              "    <tr>\n",
              "      <th>3</th>\n",
              "      <td>FDX07</td>\n",
              "      <td>19.20</td>\n",
              "      <td>Regular</td>\n",
              "      <td>0.000000</td>\n",
              "      <td>Fruits and Vegetables</td>\n",
              "      <td>182.0950</td>\n",
              "      <td>OUT010</td>\n",
              "      <td>1998</td>\n",
              "      <td>NaN</td>\n",
              "      <td>Tier 3</td>\n",
              "      <td>Grocery Store</td>\n",
              "      <td>732.3800</td>\n",
              "    </tr>\n",
              "    <tr>\n",
              "      <th>4</th>\n",
              "      <td>NCD19</td>\n",
              "      <td>8.93</td>\n",
              "      <td>Low Fat</td>\n",
              "      <td>0.000000</td>\n",
              "      <td>Household</td>\n",
              "      <td>53.8614</td>\n",
              "      <td>OUT013</td>\n",
              "      <td>1987</td>\n",
              "      <td>High</td>\n",
              "      <td>Tier 3</td>\n",
              "      <td>Supermarket Type1</td>\n",
              "      <td>994.7052</td>\n",
              "    </tr>\n",
              "  </tbody>\n",
              "</table>\n",
              "</div>"
            ]
          },
          "metadata": {},
          "execution_count": 2
        }
      ]
    },
    {
      "cell_type": "code",
      "source": [
        "# Check for duplicates\n",
        "df.duplicated()"
      ],
      "metadata": {
        "id": "5_i7X3MXMU5P",
        "colab": {
          "base_uri": "https://localhost:8080/"
        },
        "outputId": "4afc794c-8f35-47c2-e0c5-ff4029da741d"
      },
      "execution_count": 3,
      "outputs": [
        {
          "output_type": "execute_result",
          "data": {
            "text/plain": [
              "0       False\n",
              "1       False\n",
              "2       False\n",
              "3       False\n",
              "4       False\n",
              "        ...  \n",
              "8518    False\n",
              "8519    False\n",
              "8520    False\n",
              "8521    False\n",
              "8522    False\n",
              "Length: 8523, dtype: bool"
            ]
          },
          "metadata": {},
          "execution_count": 3
        }
      ]
    },
    {
      "cell_type": "code",
      "source": [
        "# no duplicates\n",
        "df.duplicated().sum()"
      ],
      "metadata": {
        "colab": {
          "base_uri": "https://localhost:8080/"
        },
        "id": "_1_cIARqNT0d",
        "outputId": "4fd96300-e336-4283-ba9c-595f913db0dc"
      },
      "execution_count": 4,
      "outputs": [
        {
          "output_type": "execute_result",
          "data": {
            "text/plain": [
              "0"
            ]
          },
          "metadata": {},
          "execution_count": 4
        }
      ]
    },
    {
      "cell_type": "code",
      "source": [
        "# no duplicates to drop but just in case\n",
        "df = df.drop_duplicates()\n",
        "df.duplicated().sum()"
      ],
      "metadata": {
        "colab": {
          "base_uri": "https://localhost:8080/"
        },
        "id": "bvjoiCndNY3x",
        "outputId": "693f457c-b6ef-4fca-f143-77ca2344e4b9"
      },
      "execution_count": 5,
      "outputs": [
        {
          "output_type": "execute_result",
          "data": {
            "text/plain": [
              "0"
            ]
          },
          "metadata": {},
          "execution_count": 5
        }
      ]
    },
    {
      "cell_type": "code",
      "source": [
        "# Check for duplicates\n",
        "df.nunique()"
      ],
      "metadata": {
        "colab": {
          "base_uri": "https://localhost:8080/"
        },
        "id": "UBkRoEZ4NdFK",
        "outputId": "3f9727e8-5ec6-4474-dc32-c22ac2b0462d"
      },
      "execution_count": 6,
      "outputs": [
        {
          "output_type": "execute_result",
          "data": {
            "text/plain": [
              "Item_Identifier              1559\n",
              "Item_Weight                   415\n",
              "Item_Fat_Content                5\n",
              "Item_Visibility              7880\n",
              "Item_Type                      16\n",
              "Item_MRP                     5938\n",
              "Outlet_Identifier              10\n",
              "Outlet_Establishment_Year       9\n",
              "Outlet_Size                     3\n",
              "Outlet_Location_Type            3\n",
              "Outlet_Type                     4\n",
              "Item_Outlet_Sales            3493\n",
              "dtype: int64"
            ]
          },
          "metadata": {},
          "execution_count": 6
        }
      ]
    },
    {
      "cell_type": "code",
      "source": [
        "# Check columns, rows, data types, and missing values\n",
        "df.info()"
      ],
      "metadata": {
        "colab": {
          "base_uri": "https://localhost:8080/"
        },
        "id": "g3ZObtXsNyW-",
        "outputId": "8062bc9b-7157-4e53-8c79-321ba2ccc1d6"
      },
      "execution_count": 7,
      "outputs": [
        {
          "output_type": "stream",
          "name": "stdout",
          "text": [
            "<class 'pandas.core.frame.DataFrame'>\n",
            "Int64Index: 8523 entries, 0 to 8522\n",
            "Data columns (total 12 columns):\n",
            " #   Column                     Non-Null Count  Dtype  \n",
            "---  ------                     --------------  -----  \n",
            " 0   Item_Identifier            8523 non-null   object \n",
            " 1   Item_Weight                7060 non-null   float64\n",
            " 2   Item_Fat_Content           8523 non-null   object \n",
            " 3   Item_Visibility            8523 non-null   float64\n",
            " 4   Item_Type                  8523 non-null   object \n",
            " 5   Item_MRP                   8523 non-null   float64\n",
            " 6   Outlet_Identifier          8523 non-null   object \n",
            " 7   Outlet_Establishment_Year  8523 non-null   int64  \n",
            " 8   Outlet_Size                6113 non-null   object \n",
            " 9   Outlet_Location_Type       8523 non-null   object \n",
            " 10  Outlet_Type                8523 non-null   object \n",
            " 11  Item_Outlet_Sales          8523 non-null   float64\n",
            "dtypes: float64(4), int64(1), object(7)\n",
            "memory usage: 865.6+ KB\n"
          ]
        }
      ]
    },
    {
      "cell_type": "code",
      "source": [
        "# identify missing values\n",
        "df.isna().sum()"
      ],
      "metadata": {
        "colab": {
          "base_uri": "https://localhost:8080/"
        },
        "id": "qLC-bpHLOGTc",
        "outputId": "474f6090-9b68-4b1e-ccbc-7f606de12aad"
      },
      "execution_count": 8,
      "outputs": [
        {
          "output_type": "execute_result",
          "data": {
            "text/plain": [
              "Item_Identifier                 0\n",
              "Item_Weight                  1463\n",
              "Item_Fat_Content                0\n",
              "Item_Visibility                 0\n",
              "Item_Type                       0\n",
              "Item_MRP                        0\n",
              "Outlet_Identifier               0\n",
              "Outlet_Establishment_Year       0\n",
              "Outlet_Size                  2410\n",
              "Outlet_Location_Type            0\n",
              "Outlet_Type                     0\n",
              "Item_Outlet_Sales               0\n",
              "dtype: int64"
            ]
          },
          "metadata": {},
          "execution_count": 8
        }
      ]
    },
    {
      "cell_type": "code",
      "source": [
        "# drop item weight & outlet size due to insignificance\n",
        "df.drop(columns= ['Item_Weight','Outlet_Size'], inplace= True)"
      ],
      "metadata": {
        "id": "WiXNmORyPiTn"
      },
      "execution_count": 9,
      "outputs": []
    },
    {
      "cell_type": "code",
      "source": [
        "# check to ensure there are no missing values\n",
        "df.isna().sum()"
      ],
      "metadata": {
        "colab": {
          "base_uri": "https://localhost:8080/"
        },
        "id": "oA8mfLjpQPXR",
        "outputId": "c0f8e6b1-7dd0-45a6-a419-6e92e0e93b62"
      },
      "execution_count": 10,
      "outputs": [
        {
          "output_type": "execute_result",
          "data": {
            "text/plain": [
              "Item_Identifier              0\n",
              "Item_Fat_Content             0\n",
              "Item_Visibility              0\n",
              "Item_Type                    0\n",
              "Item_MRP                     0\n",
              "Outlet_Identifier            0\n",
              "Outlet_Establishment_Year    0\n",
              "Outlet_Location_Type         0\n",
              "Outlet_Type                  0\n",
              "Item_Outlet_Sales            0\n",
              "dtype: int64"
            ]
          },
          "metadata": {},
          "execution_count": 10
        }
      ]
    },
    {
      "cell_type": "code",
      "source": [
        "df.describe()\n"
      ],
      "metadata": {
        "colab": {
          "base_uri": "https://localhost:8080/",
          "height": 300
        },
        "id": "9KtSm849QS0Y",
        "outputId": "94d1184e-f883-4bdc-c6de-6690b9ee72e1"
      },
      "execution_count": 11,
      "outputs": [
        {
          "output_type": "execute_result",
          "data": {
            "text/plain": [
              "       Item_Visibility     Item_MRP  Outlet_Establishment_Year  \\\n",
              "count      8523.000000  8523.000000                8523.000000   \n",
              "mean          0.066132   140.992782                1997.831867   \n",
              "std           0.051598    62.275067                   8.371760   \n",
              "min           0.000000    31.290000                1985.000000   \n",
              "25%           0.026989    93.826500                1987.000000   \n",
              "50%           0.053931   143.012800                1999.000000   \n",
              "75%           0.094585   185.643700                2004.000000   \n",
              "max           0.328391   266.888400                2009.000000   \n",
              "\n",
              "       Item_Outlet_Sales  \n",
              "count        8523.000000  \n",
              "mean         2181.288914  \n",
              "std          1706.499616  \n",
              "min            33.290000  \n",
              "25%           834.247400  \n",
              "50%          1794.331000  \n",
              "75%          3101.296400  \n",
              "max         13086.964800  "
            ],
            "text/html": [
              "<div>\n",
              "<style scoped>\n",
              "    .dataframe tbody tr th:only-of-type {\n",
              "        vertical-align: middle;\n",
              "    }\n",
              "\n",
              "    .dataframe tbody tr th {\n",
              "        vertical-align: top;\n",
              "    }\n",
              "\n",
              "    .dataframe thead th {\n",
              "        text-align: right;\n",
              "    }\n",
              "</style>\n",
              "<table border=\"1\" class=\"dataframe\">\n",
              "  <thead>\n",
              "    <tr style=\"text-align: right;\">\n",
              "      <th></th>\n",
              "      <th>Item_Visibility</th>\n",
              "      <th>Item_MRP</th>\n",
              "      <th>Outlet_Establishment_Year</th>\n",
              "      <th>Item_Outlet_Sales</th>\n",
              "    </tr>\n",
              "  </thead>\n",
              "  <tbody>\n",
              "    <tr>\n",
              "      <th>count</th>\n",
              "      <td>8523.000000</td>\n",
              "      <td>8523.000000</td>\n",
              "      <td>8523.000000</td>\n",
              "      <td>8523.000000</td>\n",
              "    </tr>\n",
              "    <tr>\n",
              "      <th>mean</th>\n",
              "      <td>0.066132</td>\n",
              "      <td>140.992782</td>\n",
              "      <td>1997.831867</td>\n",
              "      <td>2181.288914</td>\n",
              "    </tr>\n",
              "    <tr>\n",
              "      <th>std</th>\n",
              "      <td>0.051598</td>\n",
              "      <td>62.275067</td>\n",
              "      <td>8.371760</td>\n",
              "      <td>1706.499616</td>\n",
              "    </tr>\n",
              "    <tr>\n",
              "      <th>min</th>\n",
              "      <td>0.000000</td>\n",
              "      <td>31.290000</td>\n",
              "      <td>1985.000000</td>\n",
              "      <td>33.290000</td>\n",
              "    </tr>\n",
              "    <tr>\n",
              "      <th>25%</th>\n",
              "      <td>0.026989</td>\n",
              "      <td>93.826500</td>\n",
              "      <td>1987.000000</td>\n",
              "      <td>834.247400</td>\n",
              "    </tr>\n",
              "    <tr>\n",
              "      <th>50%</th>\n",
              "      <td>0.053931</td>\n",
              "      <td>143.012800</td>\n",
              "      <td>1999.000000</td>\n",
              "      <td>1794.331000</td>\n",
              "    </tr>\n",
              "    <tr>\n",
              "      <th>75%</th>\n",
              "      <td>0.094585</td>\n",
              "      <td>185.643700</td>\n",
              "      <td>2004.000000</td>\n",
              "      <td>3101.296400</td>\n",
              "    </tr>\n",
              "    <tr>\n",
              "      <th>max</th>\n",
              "      <td>0.328391</td>\n",
              "      <td>266.888400</td>\n",
              "      <td>2009.000000</td>\n",
              "      <td>13086.964800</td>\n",
              "    </tr>\n",
              "  </tbody>\n",
              "</table>\n",
              "</div>"
            ]
          },
          "metadata": {},
          "execution_count": 11
        }
      ]
    },
    {
      "cell_type": "markdown",
      "source": [
        ""
      ],
      "metadata": {
        "id": "RZS8xcwMyR_5"
      }
    },
    {
      "cell_type": "code",
      "source": [
        "# Check the unique values and counts of the 'Item_Fat_Content' column\n",
        "df['Item_Fat_Content'].value_counts\n"
      ],
      "metadata": {
        "colab": {
          "base_uri": "https://localhost:8080/"
        },
        "id": "SQwP65fhbw8U",
        "outputId": "a88d4ff8-681f-46b0-dd6a-c4f3efde9c24"
      },
      "execution_count": 12,
      "outputs": [
        {
          "output_type": "execute_result",
          "data": {
            "text/plain": [
              "<bound method IndexOpsMixin.value_counts of 0       Low Fat\n",
              "1       Regular\n",
              "2       Low Fat\n",
              "3       Regular\n",
              "4       Low Fat\n",
              "         ...   \n",
              "8518    Low Fat\n",
              "8519    Regular\n",
              "8520    Low Fat\n",
              "8521    Regular\n",
              "8522    Low Fat\n",
              "Name: Item_Fat_Content, Length: 8523, dtype: object>"
            ]
          },
          "metadata": {},
          "execution_count": 12
        }
      ]
    },
    {
      "cell_type": "code",
      "source": [
        "# Standardize the values in the Item_Fat_Content column\n",
        "df['Item_Fat_Content'].replace({'LF' : 'Low Fat', 'reg' : 'Regular', 'low fat' : 'Low Fat'}, inplace= True)"
      ],
      "metadata": {
        "id": "llwmL_tDcNbs"
      },
      "execution_count": 13,
      "outputs": []
    },
    {
      "cell_type": "code",
      "source": [
        "# Check the unique values and counts of the 'Item_Fat_Content' column\n",
        "df['Item_Fat_Content'].value_counts()"
      ],
      "metadata": {
        "id": "0jDL9PCTdnxm",
        "outputId": "86696203-b6b1-4064-9956-f6b9184086e9",
        "colab": {
          "base_uri": "https://localhost:8080/"
        }
      },
      "execution_count": 14,
      "outputs": [
        {
          "output_type": "execute_result",
          "data": {
            "text/plain": [
              "Low Fat    5517\n",
              "Regular    3006\n",
              "Name: Item_Fat_Content, dtype: int64"
            ]
          },
          "metadata": {},
          "execution_count": 14
        }
      ]
    },
    {
      "cell_type": "code",
      "source": [
        "sns.boxplot(x='Item_Type', y='Item_Outlet_Sales', data=df)\n",
        "plt.xticks(rotation = 90)\n"
      ],
      "metadata": {
        "colab": {
          "base_uri": "https://localhost:8080/",
          "height": 413
        },
        "id": "B-sdYykFT8pi",
        "outputId": "c298ab73-38f8-4429-ce97-6698f41f2f80"
      },
      "execution_count": 15,
      "outputs": [
        {
          "output_type": "execute_result",
          "data": {
            "text/plain": [
              "(array([ 0,  1,  2,  3,  4,  5,  6,  7,  8,  9, 10, 11, 12, 13, 14, 15]),\n",
              " <a list of 16 Text major ticklabel objects>)"
            ]
          },
          "metadata": {},
          "execution_count": 15
        },
        {
          "output_type": "display_data",
          "data": {
            "text/plain": [
              "<Figure size 432x288 with 1 Axes>"
            ],
            "image/png": "[encoded data removed]"
          },
          "metadata": {
            "needs_background": "light"
          }
        }
      ]
    },
    {
      "cell_type": "code",
      "source": [
        "sns.boxplot(x='Item_Fat_Content', y='Item_Outlet_Sales', data=df)"
      ],
      "metadata": {
        "colab": {
          "base_uri": "https://localhost:8080/",
          "height": 297
        },
        "id": "wkv-aKe-VbsN",
        "outputId": "6d0198aa-f4c5-42ae-e273-beac77384a04"
      },
      "execution_count": 16,
      "outputs": [
        {
          "output_type": "execute_result",
          "data": {
            "text/plain": [
              "<matplotlib.axes._subplots.AxesSubplot at 0x7f6d2c75f690>"
            ]
          },
          "metadata": {},
          "execution_count": 16
        },
        {
          "output_type": "display_data",
          "data": {
            "text/plain": [
              "<Figure size 432x288 with 1 Axes>"
            ],
            "image/png": "[encoded data removed]"
          },
          "metadata": {
            "needs_background": "light"
          }
        }
      ]
    },
    {
      "cell_type": "code",
      "source": [
        "df['Item_Outlet_Sales'].head()"
      ],
      "metadata": {
        "colab": {
          "base_uri": "https://localhost:8080/"
        },
        "id": "U3DYtIwAV3pd",
        "outputId": "14237588-e448-44a3-ee99-3d3c1ce8e8e3"
      },
      "execution_count": 17,
      "outputs": [
        {
          "output_type": "execute_result",
          "data": {
            "text/plain": [
              "0    3735.1380\n",
              "1     443.4228\n",
              "2    2097.2700\n",
              "3     732.3800\n",
              "4     994.7052\n",
              "Name: Item_Outlet_Sales, dtype: float64"
            ]
          },
          "metadata": {},
          "execution_count": 17
        }
      ]
    },
    {
      "cell_type": "code",
      "source": [
        "df['Item_Outlet_Sales'].hist()"
      ],
      "metadata": {
        "colab": {
          "base_uri": "https://localhost:8080/",
          "height": 282
        },
        "id": "lo9J04sfWCQM",
        "outputId": "2005804b-185c-494e-fd1d-b37ee3ec0ec0"
      },
      "execution_count": 18,
      "outputs": [
        {
          "output_type": "execute_result",
          "data": {
            "text/plain": [
              "<matplotlib.axes._subplots.AxesSubplot at 0x7f6d2c6c78d0>"
            ]
          },
          "metadata": {},
          "execution_count": 18
        },
        {
          "output_type": "display_data",
          "data": {
            "text/plain": [
              "<Figure size 432x288 with 1 Axes>"
            ],
            "image/png": "[encoded data removed]"
          },
          "metadata": {
            "needs_background": "light"
          }
        }
      ]
    },
    {
      "cell_type": "code",
      "source": [
        "corr = df.corr()"
      ],
      "metadata": {
        "id": "QYdSIZ5tXlAq"
      },
      "execution_count": 19,
      "outputs": []
    },
    {
      "cell_type": "code",
      "source": [
        "sns.heatmap(corr, cmap = 'Greens')"
      ],
      "metadata": {
        "colab": {
          "base_uri": "https://localhost:8080/",
          "height": 409
        },
        "id": "np5DTJaIXmpK",
        "outputId": "042d49e8-1cce-4cfc-dd48-728e95cdf1bc"
      },
      "execution_count": 20,
      "outputs": [
        {
          "output_type": "execute_result",
          "data": {
            "text/plain": [
              "<matplotlib.axes._subplots.AxesSubplot at 0x7f6d2c5e5490>"
            ]
          },
          "metadata": {},
          "execution_count": 20
        },
        {
          "output_type": "display_data",
          "data": {
            "text/plain": [
              "<Figure size 432x288 with 2 Axes>"
            ],
            "image/png": "[encoded data removed]"
          },
          "metadata": {
            "needs_background": "light"
          }
        }
      ]
    },
    {
      "cell_type": "code",
      "source": [
        "sns.heatmap(corr, cmap = 'Greens', annot = True)"
      ],
      "metadata": {
        "colab": {
          "base_uri": "https://localhost:8080/",
          "height": 409
        },
        "id": "nDj7e55GXsiV",
        "outputId": "9ec1daaf-bc59-4b47-c3ed-2cc2d11e2f0d"
      },
      "execution_count": 21,
      "outputs": [
        {
          "output_type": "execute_result",
          "data": {
            "text/plain": [
              "<matplotlib.axes._subplots.AxesSubplot at 0x7f6d2c5e6a90>"
            ]
          },
          "metadata": {},
          "execution_count": 21
        },
        {
          "output_type": "display_data",
          "data": {
            "text/plain": [
              "<Figure size 432x288 with 2 Axes>"
            ],
            "image/png": "[encoded data removed]"
          },
          "metadata": {
            "needs_background": "light"
          }
        }
      ]
    },
    {
      "cell_type": "code",
      "source": [
        "#Plot 1: Item Outlet Sale Price Distribution - pandas .hist\n",
        "ax = df['Item_Outlet_Sales'].hist(figsize=(8,4), bins='auto')\n",
        "\n",
        "ax.set(xlabel = 'Item Type', ylabel = 'Item Sales', \n",
        "       title = 'Item Outlet Sales')\n",
        "\n",
        "median = df['Item_Outlet_Sales'].median()\n",
        "ax.axvline(median, color='k', ls='--', \n",
        "            label=f\"Median Price={median}\")\n",
        "ax.legend();"
      ],
      "metadata": {
        "colab": {
          "base_uri": "https://localhost:8080/",
          "height": 295
        },
        "id": "KPy0EyH_mfQp",
        "outputId": "ac53cad4-fa59-4d63-cc66-630d97c0dbb7"
      },
      "execution_count": 22,
      "outputs": [
        {
          "output_type": "display_data",
          "data": {
            "text/plain": [
              "<Figure size 576x288 with 1 Axes>"
            ],
            "image/png": "[encoded data removed]"
          },
          "metadata": {
            "needs_background": "light"
          }
        }
      ]
    },
    {
      "cell_type": "code",
      "source": [
        "sns.boxplot(x='Item_Type', y='Item_Outlet_Sales', data=df)\n",
        "ax.set(xlabel = 'Item Type', ylabel = 'Item Sales',\n",
        "       title = 'Item Outlet Sales')\n",
        "plt.xticks(rotation = 90)\n"
      ],
      "metadata": {
        "colab": {
          "base_uri": "https://localhost:8080/",
          "height": 413
        },
        "id": "mJhN9bDvohn8",
        "outputId": "9769f23a-9c0e-43ef-d2fe-9d05a5be6f69"
      },
      "execution_count": 23,
      "outputs": [
        {
          "output_type": "execute_result",
          "data": {
            "text/plain": [
              "(array([ 0,  1,  2,  3,  4,  5,  6,  7,  8,  9, 10, 11, 12, 13, 14, 15]),\n",
              " <a list of 16 Text major ticklabel objects>)"
            ]
          },
          "metadata": {},
          "execution_count": 23
        },
        {
          "output_type": "display_data",
          "data": {
            "text/plain": [
              "<Figure size 432x288 with 1 Axes>"
            ],
            "image/png": "[encoded data removed]"
          },
          "metadata": {
            "needs_background": "light"
          }
        }
      ]
    },
    {
      "cell_type": "code",
      "source": [
        "# imports\n",
        "import pandas as pd\n",
        "import numpy as np\n",
        "from sklearn.preprocessing import StandardScaler, OneHotEncoder\n",
        "from sklearn.impute import SimpleImputer\n",
        "from sklearn.compose import make_column_transformer, make_column_selector\n",
        "from sklearn.pipeline import make_pipeline\n",
        "from sklearn.model_selection import train_test_split\n",
        "from sklearn import set_config\n",
        "set_config(display='diagram')"
      ],
      "metadata": {
        "id": "AM4CKPFdqGyK"
      },
      "execution_count": 24,
      "outputs": []
    },
    {
      "cell_type": "code",
      "source": [
        "X = df.drop(columns=['Item_Outlet_Sales'])\n",
        "y = df['Item_Outlet_Sales']\n",
        "# Train Test Split\n",
        "X_train, X_test, y_train, y_test = train_test_split(X, y, random_state=42)"
      ],
      "metadata": {
        "id": "6nFPHxPJqbIg"
      },
      "execution_count": 25,
      "outputs": []
    },
    {
      "cell_type": "code",
      "source": [
        "#instantiate the selectors to for numeric and categorical data types\n",
        "num_selector = make_column_selector(dtype_include='number')\n",
        "cat_selector = make_column_selector(dtype_include='object')\n",
        "#select the numeric columns of each type\n",
        "num_columns = num_selector(X_train)\n",
        "cat_columns = cat_selector(X_train)\n",
        "#check our lists\n",
        "print('numeric columns are', num_columns)\n",
        "print('categorical columns are', cat_columns)"
      ],
      "metadata": {
        "id": "rmqi4P_eq-Ug",
        "outputId": "961c5ed0-d423-4fe8-8172-30266b37901e",
        "colab": {
          "base_uri": "https://localhost:8080/"
        }
      },
      "execution_count": 26,
      "outputs": [
        {
          "output_type": "stream",
          "name": "stdout",
          "text": [
            "numeric columns are ['Item_Visibility', 'Item_MRP', 'Outlet_Establishment_Year']\n",
            "categorical columns are ['Item_Identifier', 'Item_Fat_Content', 'Item_Type', 'Outlet_Identifier', 'Outlet_Location_Type', 'Outlet_Type']\n"
          ]
        }
      ]
    },
    {
      "cell_type": "code",
      "source": [
        "# Instantiate the categorical and numeric column selectors to select appropriate columns\n",
        "cat_selector = make_column_selector(dtype_include='object')\n",
        "num_selector = make_column_selector(dtype_include='number')"
      ],
      "metadata": {
        "id": "LDg5yZ6Pn2wX"
      },
      "execution_count": 27,
      "outputs": []
    },
    {
      "cell_type": "code",
      "source": [
        "from scipy import sparse\n",
        "# Instantiate the Standard Scaler and the One hot encoder\n",
        "scaler = StandardScaler()\n",
        "ohe = OneHotEncoder(handle_unknown='ignore', sparse= False)"
      ],
      "metadata": {
        "id": "ORWZXM_Jn9T8"
      },
      "execution_count": 28,
      "outputs": []
    },
    {
      "cell_type": "code",
      "source": [
        "# Make tuples for preprocessing the categorical and numeric columns\n",
        "num_tuple = (scaler, num_selector)\n",
        "cat_tuple = (ohe, cat_selector)"
      ],
      "metadata": {
        "id": "ocaPJljLoB9M"
      },
      "execution_count": 29,
      "outputs": []
    },
    {
      "cell_type": "code",
      "source": [
        "from sklearn.compose import make_column_transformer\n",
        "col_transformer = make_column_transformer(num_tuple, cat_tuple, remainder = 'passthrough')"
      ],
      "metadata": {
        "id": "WLJg6IsToH6v"
      },
      "execution_count": 30,
      "outputs": []
    },
    {
      "cell_type": "code",
      "source": [
        "col_transformer.fit(X_train)"
      ],
      "metadata": {
        "colab": {
          "base_uri": "https://localhost:8080/",
          "height": 118
        },
        "id": "qp4VxV79oPLN",
        "outputId": "3c1fbbb5-1ad6-43e3-b578-6ed81bfb297c"
      },
      "execution_count": 31,
      "outputs": [
        {
          "output_type": "execute_result",
          "data": {
            "text/plain": [
              "ColumnTransformer(remainder='passthrough',\n",
              "                  transformers=[('standardscaler', StandardScaler(),\n",
              "                                 <sklearn.compose._column_transformer.make_column_selector object at 0x7f6d28a90310>),\n",
              "                                ('onehotencoder',\n",
              "                                 OneHotEncoder(handle_unknown='ignore',\n",
              "                                               sparse=False),\n",
              "                                 <sklearn.compose._column_transformer.make_column_selector object at 0x7f6d28a90350>)])"
            ],
            "text/html": [
              "<style>#sk-f9877f9f-023d-437b-9729-409eb4ee87e1 {color: black;background-color: white;}#sk-f9877f9f-023d-437b-9729-409eb4ee87e1 pre{padding: 0;}#sk-f9877f9f-023d-437b-9729-409eb4ee87e1 div.sk-toggleable {background-color: white;}#sk-f9877f9f-023d-437b-9729-409eb4ee87e1 label.sk-toggleable__label {cursor: pointer;display: block;width: 100%;margin-bottom: 0;padding: 0.3em;box-sizing: border-box;text-align: center;}#sk-f9877f9f-023d-437b-9729-409eb4ee87e1 label.sk-toggleable__label-arrow:before {content: \"▸\";float: left;margin-right: 0.25em;color: #696969;}#sk-f9877f9f-023d-437b-9729-409eb4ee87e1 label.sk-toggleable__label-arrow:hover:before {color: black;}#sk-f9877f9f-023d-437b-9729-409eb4ee87e1 div.sk-estimator:hover label.sk-toggleable__label-arrow:before {color: black;}#sk-f9877f9f-023d-437b-9729-409eb4ee87e1 div.sk-toggleable__content {max-height: 0;max-width: 0;overflow: hidden;text-align: left;background-color: #f0f8ff;}#sk-f9877f9f-023d-437b-9729-409eb4ee87e1 div.sk-toggleable__content pre {margin: 0.2em;color: black;border-radius: 0.25em;background-color: #f0f8ff;}#sk-f9877f9f-023d-437b-9729-409eb4ee87e1 input.sk-toggleable__control:checked~div.sk-toggleable__content {max-height: 200px;max-width: 100%;overflow: auto;}#sk-f9877f9f-023d-437b-9729-409eb4ee87e1 input.sk-toggleable__control:checked~label.sk-toggleable__label-arrow:before {content: \"▾\";}#sk-f9877f9f-023d-437b-9729-409eb4ee87e1 div.sk-estimator input.sk-toggleable__control:checked~label.sk-toggleable__label {background-color: #d4ebff;}#sk-f9877f9f-023d-437b-9729-409eb4ee87e1 div.sk-label input.sk-toggleable__control:checked~label.sk-toggleable__label {background-color: #d4ebff;}#sk-f9877f9f-023d-437b-9729-409eb4ee87e1 input.sk-hidden--visually {border: 0;clip: rect(1px 1px 1px 1px);clip: rect(1px, 1px, 1px, 1px);height: 1px;margin: -1px;overflow: hidden;padding: 0;position: absolute;width: 1px;}#sk-f9877f9f-023d-437b-9729-409eb4ee87e1 div.sk-estimator {font-family: monospace;background-color: #f0f8ff;border: 1px dotted black;border-radius: 0.25em;box-sizing: border-box;margin-bottom: 0.5em;}#sk-f9877f9f-023d-437b-9729-409eb4ee87e1 div.sk-estimator:hover {background-color: #d4ebff;}#sk-f9877f9f-023d-437b-9729-409eb4ee87e1 div.sk-parallel-item::after {content: \"\";width: 100%;border-bottom: 1px solid gray;flex-grow: 1;}#sk-f9877f9f-023d-437b-9729-409eb4ee87e1 div.sk-label:hover label.sk-toggleable__label {background-color: #d4ebff;}#sk-f9877f9f-023d-437b-9729-409eb4ee87e1 div.sk-serial::before {content: \"\";position: absolute;border-left: 1px solid gray;box-sizing: border-box;top: 2em;bottom: 0;left: 50%;}#sk-f9877f9f-023d-437b-9729-409eb4ee87e1 div.sk-serial {display: flex;flex-direction: column;align-items: center;background-color: white;padding-right: 0.2em;padding-left: 0.2em;}#sk-f9877f9f-023d-437b-9729-409eb4ee87e1 div.sk-item {z-index: 1;}#sk-f9877f9f-023d-437b-9729-409eb4ee87e1 div.sk-parallel {display: flex;align-items: stretch;justify-content: center;background-color: white;}#sk-f9877f9f-023d-437b-9729-409eb4ee87e1 div.sk-parallel::before {content: \"\";position: absolute;border-left: 1px solid gray;box-sizing: border-box;top: 2em;bottom: 0;left: 50%;}#sk-f9877f9f-023d-437b-9729-409eb4ee87e1 div.sk-parallel-item {display: flex;flex-direction: column;position: relative;background-color: white;}#sk-f9877f9f-023d-437b-9729-409eb4ee87e1 div.sk-parallel-item:first-child::after {align-self: flex-end;width: 50%;}#sk-f9877f9f-023d-437b-9729-409eb4ee87e1 div.sk-parallel-item:last-child::after {align-self: flex-start;width: 50%;}#sk-f9877f9f-023d-437b-9729-409eb4ee87e1 div.sk-parallel-item:only-child::after {width: 0;}#sk-f9877f9f-023d-437b-9729-409eb4ee87e1 div.sk-dashed-wrapped {border: 1px dashed gray;margin: 0 0.4em 0.5em 0.4em;box-sizing: border-box;padding-bottom: 0.4em;background-color: white;position: relative;}#sk-f9877f9f-023d-437b-9729-409eb4ee87e1 div.sk-label label {font-family: monospace;font-weight: bold;background-color: white;display: inline-block;line-height: 1.2em;}#sk-f9877f9f-023d-437b-9729-409eb4ee87e1 div.sk-label-container {position: relative;z-index: 2;text-align: center;}#sk-f9877f9f-023d-437b-9729-409eb4ee87e1 div.sk-container {/* jupyter's `normalize.less` sets `[hidden] { display: none; }` but bootstrap.min.css set `[hidden] { display: none !important; }` so we also need the `!important` here to be able to override the default hidden behavior on the sphinx rendered scikit-learn.org. See: https://github.com/scikit-learn/scikit-learn/issues/21755 */display: inline-block !important;position: relative;}#sk-f9877f9f-023d-437b-9729-409eb4ee87e1 div.sk-text-repr-fallback {display: none;}</style><div id=\"sk-f9877f9f-023d-437b-9729-409eb4ee87e1\" class=\"sk-top-container\"><div class=\"sk-text-repr-fallback\"><pre>ColumnTransformer(remainder=&#x27;passthrough&#x27;,\n",
              "                  transformers=[(&#x27;standardscaler&#x27;, StandardScaler(),\n",
              "                                 &lt;sklearn.compose._column_transformer.make_column_selector object at 0x7f6d28a90310&gt;),\n",
              "                                (&#x27;onehotencoder&#x27;,\n",
              "                                 OneHotEncoder(handle_unknown=&#x27;ignore&#x27;,\n",
              "                                               sparse=False),\n",
              "                                 &lt;sklearn.compose._column_transformer.make_column_selector object at 0x7f6d28a90350&gt;)])</pre><b>Please rerun this cell to show the HTML repr or trust the notebook.</b></div><div class=\"sk-container\" hidden><div class=\"sk-item sk-dashed-wrapped\"><div class=\"sk-label-container\"><div class=\"sk-label sk-toggleable\"><input class=\"sk-toggleable__control sk-hidden--visually\" id=\"48f647c9-5eb3-481d-b012-60c4d1f91420\" type=\"checkbox\" ><label for=\"48f647c9-5eb3-481d-b012-60c4d1f91420\" class=\"sk-toggleable__label sk-toggleable__label-arrow\">ColumnTransformer</label><div class=\"sk-toggleable__content\"><pre>ColumnTransformer(remainder=&#x27;passthrough&#x27;,\n",
              "                  transformers=[(&#x27;standardscaler&#x27;, StandardScaler(),\n",
              "                                 &lt;sklearn.compose._column_transformer.make_column_selector object at 0x7f6d28a90310&gt;),\n",
              "                                (&#x27;onehotencoder&#x27;,\n",
              "                                 OneHotEncoder(handle_unknown=&#x27;ignore&#x27;,\n",
              "                                               sparse=False),\n",
              "                                 &lt;sklearn.compose._column_transformer.make_column_selector object at 0x7f6d28a90350&gt;)])</pre></div></div></div><div class=\"sk-parallel\"><div class=\"sk-parallel-item\"><div class=\"sk-item\"><div class=\"sk-label-container\"><div class=\"sk-label sk-toggleable\"><input class=\"sk-toggleable__control sk-hidden--visually\" id=\"7e364bf1-342e-4911-8a94-ea2a7100d0aa\" type=\"checkbox\" ><label for=\"7e364bf1-342e-4911-8a94-ea2a7100d0aa\" class=\"sk-toggleable__label sk-toggleable__label-arrow\">standardscaler</label><div class=\"sk-toggleable__content\"><pre>&lt;sklearn.compose._column_transformer.make_column_selector object at 0x7f6d28a90310&gt;</pre></div></div></div><div class=\"sk-serial\"><div class=\"sk-item\"><div class=\"sk-estimator sk-toggleable\"><input class=\"sk-toggleable__control sk-hidden--visually\" id=\"6c3dbae3-de2f-4a99-b982-f2e8bfef90f4\" type=\"checkbox\" ><label for=\"6c3dbae3-de2f-4a99-b982-f2e8bfef90f4\" class=\"sk-toggleable__label sk-toggleable__label-arrow\">StandardScaler</label><div class=\"sk-toggleable__content\"><pre>StandardScaler()</pre></div></div></div></div></div></div><div class=\"sk-parallel-item\"><div class=\"sk-item\"><div class=\"sk-label-container\"><div class=\"sk-label sk-toggleable\"><input class=\"sk-toggleable__control sk-hidden--visually\" id=\"dbc5e786-9b76-4db5-b164-57f7df1bd0a5\" type=\"checkbox\" ><label for=\"dbc5e786-9b76-4db5-b164-57f7df1bd0a5\" class=\"sk-toggleable__label sk-toggleable__label-arrow\">onehotencoder</label><div class=\"sk-toggleable__content\"><pre>&lt;sklearn.compose._column_transformer.make_column_selector object at 0x7f6d28a90350&gt;</pre></div></div></div><div class=\"sk-serial\"><div class=\"sk-item\"><div class=\"sk-estimator sk-toggleable\"><input class=\"sk-toggleable__control sk-hidden--visually\" id=\"6f73561a-761d-455f-ad0b-a9c979773bb6\" type=\"checkbox\" ><label for=\"6f73561a-761d-455f-ad0b-a9c979773bb6\" class=\"sk-toggleable__label sk-toggleable__label-arrow\">OneHotEncoder</label><div class=\"sk-toggleable__content\"><pre>OneHotEncoder(handle_unknown=&#x27;ignore&#x27;, sparse=False)</pre></div></div></div></div></div></div><div class=\"sk-parallel-item\"><div class=\"sk-item\"><div class=\"sk-label-container\"><div class=\"sk-label sk-toggleable\"><input class=\"sk-toggleable__control sk-hidden--visually\" id=\"eb394e1b-7e24-47d8-9adb-648a4db128fc\" type=\"checkbox\" ><label for=\"eb394e1b-7e24-47d8-9adb-648a4db128fc\" class=\"sk-toggleable__label sk-toggleable__label-arrow\">remainder</label><div class=\"sk-toggleable__content\"><pre>[]</pre></div></div></div><div class=\"sk-serial\"><div class=\"sk-item\"><div class=\"sk-estimator sk-toggleable\"><input class=\"sk-toggleable__control sk-hidden--visually\" id=\"6bc76367-7c37-4e0a-9972-837b761c22a7\" type=\"checkbox\" ><label for=\"6bc76367-7c37-4e0a-9972-837b761c22a7\" class=\"sk-toggleable__label sk-toggleable__label-arrow\">passthrough</label><div class=\"sk-toggleable__content\"><pre>passthrough</pre></div></div></div></div></div></div></div></div></div></div>"
            ]
          },
          "metadata": {},
          "execution_count": 31
        }
      ]
    },
    {
      "cell_type": "code",
      "source": [
        "X_train_processed = col_transformer.transform(X_train)\n",
        "X_test_processed = col_transformer.transform(X_test)"
      ],
      "metadata": {
        "id": "Xbl_g4vuqREW"
      },
      "execution_count": 32,
      "outputs": []
    },
    {
      "cell_type": "code",
      "source": [
        "X_train_df = pd.DataFrame(X_train_processed)\n",
        "X_train_df.head()"
      ],
      "metadata": {
        "colab": {
          "base_uri": "https://localhost:8080/",
          "height": 236
        },
        "id": "nUmm8nDDo1Jp",
        "outputId": "51176d81-def6-4720-f04a-7dbce995b5f1"
      },
      "execution_count": 33,
      "outputs": [
        {
          "output_type": "execute_result",
          "data": {
            "text/plain": [
              "       0         1         2     3     4     5     6     7     8     9     \\\n",
              "0 -0.712775  1.828109  1.327849   0.0   0.0   0.0   0.0   0.0   0.0   0.0   \n",
              "1 -1.291052  0.603369  1.327849   0.0   0.0   0.0   0.0   0.0   0.0   0.0   \n",
              "2  1.813319  0.244541  0.136187   0.0   0.0   0.0   0.0   0.0   0.0   0.0   \n",
              "3 -1.004931 -0.952591  0.732018   0.0   0.0   0.0   0.0   0.0   0.0   0.0   \n",
              "4 -0.965484 -0.336460  0.493686   0.0   0.0   0.0   0.0   0.0   0.0   0.0   \n",
              "\n",
              "   ...  1578  1579  1580  1581  1582  1583  1584  1585  1586  1587  \n",
              "0  ...   0.0   0.0   0.0   0.0   0.0   1.0   0.0   0.0   1.0   0.0  \n",
              "1  ...   0.0   0.0   0.0   0.0   0.0   1.0   0.0   0.0   1.0   0.0  \n",
              "2  ...   0.0   0.0   1.0   1.0   0.0   0.0   0.0   1.0   0.0   0.0  \n",
              "3  ...   0.0   0.0   0.0   0.0   1.0   0.0   0.0   1.0   0.0   0.0  \n",
              "4  ...   1.0   0.0   0.0   0.0   1.0   0.0   0.0   1.0   0.0   0.0  \n",
              "\n",
              "[5 rows x 1588 columns]"
            ],
            "text/html": [
              "<div>\n",
              "<style scoped>\n",
              "    .dataframe tbody tr th:only-of-type {\n",
              "        vertical-align: middle;\n",
              "    }\n",
              "\n",
              "    .dataframe tbody tr th {\n",
              "        vertical-align: top;\n",
              "    }\n",
              "\n",
              "    .dataframe thead th {\n",
              "        text-align: right;\n",
              "    }\n",
              "</style>\n",
              "<table border=\"1\" class=\"dataframe\">\n",
              "  <thead>\n",
              "    <tr style=\"text-align: right;\">\n",
              "      <th></th>\n",
              "      <th>0</th>\n",
              "      <th>1</th>\n",
              "      <th>2</th>\n",
              "      <th>3</th>\n",
              "      <th>4</th>\n",
              "      <th>5</th>\n",
              "      <th>6</th>\n",
              "      <th>7</th>\n",
              "      <th>8</th>\n",
              "      <th>9</th>\n",
              "      <th>...</th>\n",
              "      <th>1578</th>\n",
              "      <th>1579</th>\n",
              "      <th>1580</th>\n",
              "      <th>1581</th>\n",
              "      <th>1582</th>\n",
              "      <th>1583</th>\n",
              "      <th>1584</th>\n",
              "      <th>1585</th>\n",
              "      <th>1586</th>\n",
              "      <th>1587</th>\n",
              "    </tr>\n",
              "  </thead>\n",
              "  <tbody>\n",
              "    <tr>\n",
              "      <th>0</th>\n",
              "      <td>-0.712775</td>\n",
              "      <td>1.828109</td>\n",
              "      <td>1.327849</td>\n",
              "      <td>0.0</td>\n",
              "      <td>0.0</td>\n",
              "      <td>0.0</td>\n",
              "      <td>0.0</td>\n",
              "      <td>0.0</td>\n",
              "      <td>0.0</td>\n",
              "      <td>0.0</td>\n",
              "      <td>...</td>\n",
              "      <td>0.0</td>\n",
              "      <td>0.0</td>\n",
              "      <td>0.0</td>\n",
              "      <td>0.0</td>\n",
              "      <td>0.0</td>\n",
              "      <td>1.0</td>\n",
              "      <td>0.0</td>\n",
              "      <td>0.0</td>\n",
              "      <td>1.0</td>\n",
              "      <td>0.0</td>\n",
              "    </tr>\n",
              "    <tr>\n",
              "      <th>1</th>\n",
              "      <td>-1.291052</td>\n",
              "      <td>0.603369</td>\n",
              "      <td>1.327849</td>\n",
              "      <td>0.0</td>\n",
              "      <td>0.0</td>\n",
              "      <td>0.0</td>\n",
              "      <td>0.0</td>\n",
              "      <td>0.0</td>\n",
              "      <td>0.0</td>\n",
              "      <td>0.0</td>\n",
              "      <td>...</td>\n",
              "      <td>0.0</td>\n",
              "      <td>0.0</td>\n",
              "      <td>0.0</td>\n",
              "      <td>0.0</td>\n",
              "      <td>0.0</td>\n",
              "      <td>1.0</td>\n",
              "      <td>0.0</td>\n",
              "      <td>0.0</td>\n",
              "      <td>1.0</td>\n",
              "      <td>0.0</td>\n",
              "    </tr>\n",
              "    <tr>\n",
              "      <th>2</th>\n",
              "      <td>1.813319</td>\n",
              "      <td>0.244541</td>\n",
              "      <td>0.136187</td>\n",
              "      <td>0.0</td>\n",
              "      <td>0.0</td>\n",
              "      <td>0.0</td>\n",
              "      <td>0.0</td>\n",
              "      <td>0.0</td>\n",
              "      <td>0.0</td>\n",
              "      <td>0.0</td>\n",
              "      <td>...</td>\n",
              "      <td>0.0</td>\n",
              "      <td>0.0</td>\n",
              "      <td>1.0</td>\n",
              "      <td>1.0</td>\n",
              "      <td>0.0</td>\n",
              "      <td>0.0</td>\n",
              "      <td>0.0</td>\n",
              "      <td>1.0</td>\n",
              "      <td>0.0</td>\n",
              "      <td>0.0</td>\n",
              "    </tr>\n",
              "    <tr>\n",
              "      <th>3</th>\n",
              "      <td>-1.004931</td>\n",
              "      <td>-0.952591</td>\n",
              "      <td>0.732018</td>\n",
              "      <td>0.0</td>\n",
              "      <td>0.0</td>\n",
              "      <td>0.0</td>\n",
              "      <td>0.0</td>\n",
              "      <td>0.0</td>\n",
              "      <td>0.0</td>\n",
              "      <td>0.0</td>\n",
              "      <td>...</td>\n",
              "      <td>0.0</td>\n",
              "      <td>0.0</td>\n",
              "      <td>0.0</td>\n",
              "      <td>0.0</td>\n",
              "      <td>1.0</td>\n",
              "      <td>0.0</td>\n",
              "      <td>0.0</td>\n",
              "      <td>1.0</td>\n",
              "      <td>0.0</td>\n",
              "      <td>0.0</td>\n",
              "    </tr>\n",
              "    <tr>\n",
              "      <th>4</th>\n",
              "      <td>-0.965484</td>\n",
              "      <td>-0.336460</td>\n",
              "      <td>0.493686</td>\n",
              "      <td>0.0</td>\n",
              "      <td>0.0</td>\n",
              "      <td>0.0</td>\n",
              "      <td>0.0</td>\n",
              "      <td>0.0</td>\n",
              "      <td>0.0</td>\n",
              "      <td>0.0</td>\n",
              "      <td>...</td>\n",
              "      <td>1.0</td>\n",
              "      <td>0.0</td>\n",
              "      <td>0.0</td>\n",
              "      <td>0.0</td>\n",
              "      <td>1.0</td>\n",
              "      <td>0.0</td>\n",
              "      <td>0.0</td>\n",
              "      <td>1.0</td>\n",
              "      <td>0.0</td>\n",
              "      <td>0.0</td>\n",
              "    </tr>\n",
              "  </tbody>\n",
              "</table>\n",
              "<p>5 rows × 1588 columns</p>\n",
              "</div>"
            ]
          },
          "metadata": {},
          "execution_count": 33
        }
      ]
    },
    {
      "cell_type": "code",
      "source": [
        "X_train_df.info()"
      ],
      "metadata": {
        "colab": {
          "base_uri": "https://localhost:8080/"
        },
        "id": "qw9OJbXIo3rr",
        "outputId": "931152e7-bf1e-49dd-f148-ecbcebee9d4c"
      },
      "execution_count": 34,
      "outputs": [
        {
          "output_type": "stream",
          "name": "stdout",
          "text": [
            "<class 'pandas.core.frame.DataFrame'>\n",
            "RangeIndex: 6392 entries, 0 to 6391\n",
            "Columns: 1588 entries, 0 to 1587\n",
            "dtypes: float64(1588)\n",
            "memory usage: 77.4 MB\n"
          ]
        }
      ]
    },
    {
      "cell_type": "code",
      "source": [
        " # Imputers\n",
        "freq_imputer = SimpleImputer(strategy='most_frequent')\n",
        "mean_imputer = SimpleImputer(strategy='mean')\n",
        "# Scaler\n",
        "scaler = StandardScaler()\n",
        "# One-hot encoder\n",
        "ohe = OneHotEncoder(handle_unknown='ignore', sparse=False)"
      ],
      "metadata": {
        "id": "NGSxtRP8yBx-"
      },
      "execution_count": 35,
      "outputs": []
    },
    {
      "cell_type": "code",
      "source": [
        "# Numeric pipeline\n",
        "numeric_pipe = make_pipeline(mean_imputer, scaler)\n",
        "numeric_pipe"
      ],
      "metadata": {
        "colab": {
          "base_uri": "https://localhost:8080/",
          "height": 126
        },
        "id": "4ocNPM57ykdw",
        "outputId": "e48923a0-b263-43ef-a241-807cba942c2e"
      },
      "execution_count": 36,
      "outputs": [
        {
          "output_type": "execute_result",
          "data": {
            "text/plain": [
              "Pipeline(steps=[('simpleimputer', SimpleImputer()),\n",
              "                ('standardscaler', StandardScaler())])"
            ],
            "text/html": [
              "<style>#sk-ea15a139-aacd-4171-a2fe-5d0bcb633871 {color: black;background-color: white;}#sk-ea15a139-aacd-4171-a2fe-5d0bcb633871 pre{padding: 0;}#sk-ea15a139-aacd-4171-a2fe-5d0bcb633871 div.sk-toggleable {background-color: white;}#sk-ea15a139-aacd-4171-a2fe-5d0bcb633871 label.sk-toggleable__label {cursor: pointer;display: block;width: 100%;margin-bottom: 0;padding: 0.3em;box-sizing: border-box;text-align: center;}#sk-ea15a139-aacd-4171-a2fe-5d0bcb633871 label.sk-toggleable__label-arrow:before {content: \"▸\";float: left;margin-right: 0.25em;color: #696969;}#sk-ea15a139-aacd-4171-a2fe-5d0bcb633871 label.sk-toggleable__label-arrow:hover:before {color: black;}#sk-ea15a139-aacd-4171-a2fe-5d0bcb633871 div.sk-estimator:hover label.sk-toggleable__label-arrow:before {color: black;}#sk-ea15a139-aacd-4171-a2fe-5d0bcb633871 div.sk-toggleable__content {max-height: 0;max-width: 0;overflow: hidden;text-align: left;background-color: #f0f8ff;}#sk-ea15a139-aacd-4171-a2fe-5d0bcb633871 div.sk-toggleable__content pre {margin: 0.2em;color: black;border-radius: 0.25em;background-color: #f0f8ff;}#sk-ea15a139-aacd-4171-a2fe-5d0bcb633871 input.sk-toggleable__control:checked~div.sk-toggleable__content {max-height: 200px;max-width: 100%;overflow: auto;}#sk-ea15a139-aacd-4171-a2fe-5d0bcb633871 input.sk-toggleable__control:checked~label.sk-toggleable__label-arrow:before {content: \"▾\";}#sk-ea15a139-aacd-4171-a2fe-5d0bcb633871 div.sk-estimator input.sk-toggleable__control:checked~label.sk-toggleable__label {background-color: #d4ebff;}#sk-ea15a139-aacd-4171-a2fe-5d0bcb633871 div.sk-label input.sk-toggleable__control:checked~label.sk-toggleable__label {background-color: #d4ebff;}#sk-ea15a139-aacd-4171-a2fe-5d0bcb633871 input.sk-hidden--visually {border: 0;clip: rect(1px 1px 1px 1px);clip: rect(1px, 1px, 1px, 1px);height: 1px;margin: -1px;overflow: hidden;padding: 0;position: absolute;width: 1px;}#sk-ea15a139-aacd-4171-a2fe-5d0bcb633871 div.sk-estimator {font-family: monospace;background-color: #f0f8ff;border: 1px dotted black;border-radius: 0.25em;box-sizing: border-box;margin-bottom: 0.5em;}#sk-ea15a139-aacd-4171-a2fe-5d0bcb633871 div.sk-estimator:hover {background-color: #d4ebff;}#sk-ea15a139-aacd-4171-a2fe-5d0bcb633871 div.sk-parallel-item::after {content: \"\";width: 100%;border-bottom: 1px solid gray;flex-grow: 1;}#sk-ea15a139-aacd-4171-a2fe-5d0bcb633871 div.sk-label:hover label.sk-toggleable__label {background-color: #d4ebff;}#sk-ea15a139-aacd-4171-a2fe-5d0bcb633871 div.sk-serial::before {content: \"\";position: absolute;border-left: 1px solid gray;box-sizing: border-box;top: 2em;bottom: 0;left: 50%;}#sk-ea15a139-aacd-4171-a2fe-5d0bcb633871 div.sk-serial {display: flex;flex-direction: column;align-items: center;background-color: white;padding-right: 0.2em;padding-left: 0.2em;}#sk-ea15a139-aacd-4171-a2fe-5d0bcb633871 div.sk-item {z-index: 1;}#sk-ea15a139-aacd-4171-a2fe-5d0bcb633871 div.sk-parallel {display: flex;align-items: stretch;justify-content: center;background-color: white;}#sk-ea15a139-aacd-4171-a2fe-5d0bcb633871 div.sk-parallel::before {content: \"\";position: absolute;border-left: 1px solid gray;box-sizing: border-box;top: 2em;bottom: 0;left: 50%;}#sk-ea15a139-aacd-4171-a2fe-5d0bcb633871 div.sk-parallel-item {display: flex;flex-direction: column;position: relative;background-color: white;}#sk-ea15a139-aacd-4171-a2fe-5d0bcb633871 div.sk-parallel-item:first-child::after {align-self: flex-end;width: 50%;}#sk-ea15a139-aacd-4171-a2fe-5d0bcb633871 div.sk-parallel-item:last-child::after {align-self: flex-start;width: 50%;}#sk-ea15a139-aacd-4171-a2fe-5d0bcb633871 div.sk-parallel-item:only-child::after {width: 0;}#sk-ea15a139-aacd-4171-a2fe-5d0bcb633871 div.sk-dashed-wrapped {border: 1px dashed gray;margin: 0 0.4em 0.5em 0.4em;box-sizing: border-box;padding-bottom: 0.4em;background-color: white;position: relative;}#sk-ea15a139-aacd-4171-a2fe-5d0bcb633871 div.sk-label label {font-family: monospace;font-weight: bold;background-color: white;display: inline-block;line-height: 1.2em;}#sk-ea15a139-aacd-4171-a2fe-5d0bcb633871 div.sk-label-container {position: relative;z-index: 2;text-align: center;}#sk-ea15a139-aacd-4171-a2fe-5d0bcb633871 div.sk-container {/* jupyter's `normalize.less` sets `[hidden] { display: none; }` but bootstrap.min.css set `[hidden] { display: none !important; }` so we also need the `!important` here to be able to override the default hidden behavior on the sphinx rendered scikit-learn.org. See: https://github.com/scikit-learn/scikit-learn/issues/21755 */display: inline-block !important;position: relative;}#sk-ea15a139-aacd-4171-a2fe-5d0bcb633871 div.sk-text-repr-fallback {display: none;}</style><div id=\"sk-ea15a139-aacd-4171-a2fe-5d0bcb633871\" class=\"sk-top-container\"><div class=\"sk-text-repr-fallback\"><pre>Pipeline(steps=[(&#x27;simpleimputer&#x27;, SimpleImputer()),\n",
              "                (&#x27;standardscaler&#x27;, StandardScaler())])</pre><b>Please rerun this cell to show the HTML repr or trust the notebook.</b></div><div class=\"sk-container\" hidden><div class=\"sk-item sk-dashed-wrapped\"><div class=\"sk-label-container\"><div class=\"sk-label sk-toggleable\"><input class=\"sk-toggleable__control sk-hidden--visually\" id=\"e96a95d8-3c8a-406f-8016-2a69a6929cb8\" type=\"checkbox\" ><label for=\"e96a95d8-3c8a-406f-8016-2a69a6929cb8\" class=\"sk-toggleable__label sk-toggleable__label-arrow\">Pipeline</label><div class=\"sk-toggleable__content\"><pre>Pipeline(steps=[(&#x27;simpleimputer&#x27;, SimpleImputer()),\n",
              "                (&#x27;standardscaler&#x27;, StandardScaler())])</pre></div></div></div><div class=\"sk-serial\"><div class=\"sk-item\"><div class=\"sk-estimator sk-toggleable\"><input class=\"sk-toggleable__control sk-hidden--visually\" id=\"2d56d894-43f3-4348-9149-4f59d780f2d8\" type=\"checkbox\" ><label for=\"2d56d894-43f3-4348-9149-4f59d780f2d8\" class=\"sk-toggleable__label sk-toggleable__label-arrow\">SimpleImputer</label><div class=\"sk-toggleable__content\"><pre>SimpleImputer()</pre></div></div></div><div class=\"sk-item\"><div class=\"sk-estimator sk-toggleable\"><input class=\"sk-toggleable__control sk-hidden--visually\" id=\"c070083d-b06c-466b-863d-3a983fd8d209\" type=\"checkbox\" ><label for=\"c070083d-b06c-466b-863d-3a983fd8d209\" class=\"sk-toggleable__label sk-toggleable__label-arrow\">StandardScaler</label><div class=\"sk-toggleable__content\"><pre>StandardScaler()</pre></div></div></div></div></div></div></div>"
            ]
          },
          "metadata": {},
          "execution_count": 36
        }
      ]
    },
    {
      "cell_type": "code",
      "source": [
        "# Categorical pipeline\n",
        "categorical_pipe = make_pipeline(freq_imputer, ohe)\n",
        "categorical_pipe"
      ],
      "metadata": {
        "colab": {
          "base_uri": "https://localhost:8080/",
          "height": 126
        },
        "id": "T1hcOHMGymua",
        "outputId": "47092cdc-a0bd-4fa6-fdfc-926a9adb92ca"
      },
      "execution_count": 37,
      "outputs": [
        {
          "output_type": "execute_result",
          "data": {
            "text/plain": [
              "Pipeline(steps=[('simpleimputer', SimpleImputer(strategy='most_frequent')),\n",
              "                ('onehotencoder',\n",
              "                 OneHotEncoder(handle_unknown='ignore', sparse=False))])"
            ],
            "text/html": [
              "<style>#sk-31f49824-0d23-4a8c-8bb2-a1f761e540ca {color: black;background-color: white;}#sk-31f49824-0d23-4a8c-8bb2-a1f761e540ca pre{padding: 0;}#sk-31f49824-0d23-4a8c-8bb2-a1f761e540ca div.sk-toggleable {background-color: white;}#sk-31f49824-0d23-4a8c-8bb2-a1f761e540ca label.sk-toggleable__label {cursor: pointer;display: block;width: 100%;margin-bottom: 0;padding: 0.3em;box-sizing: border-box;text-align: center;}#sk-31f49824-0d23-4a8c-8bb2-a1f761e540ca label.sk-toggleable__label-arrow:before {content: \"▸\";float: left;margin-right: 0.25em;color: #696969;}#sk-31f49824-0d23-4a8c-8bb2-a1f761e540ca label.sk-toggleable__label-arrow:hover:before {color: black;}#sk-31f49824-0d23-4a8c-8bb2-a1f761e540ca div.sk-estimator:hover label.sk-toggleable__label-arrow:before {color: black;}#sk-31f49824-0d23-4a8c-8bb2-a1f761e540ca div.sk-toggleable__content {max-height: 0;max-width: 0;overflow: hidden;text-align: left;background-color: #f0f8ff;}#sk-31f49824-0d23-4a8c-8bb2-a1f761e540ca div.sk-toggleable__content pre {margin: 0.2em;color: black;border-radius: 0.25em;background-color: #f0f8ff;}#sk-31f49824-0d23-4a8c-8bb2-a1f761e540ca input.sk-toggleable__control:checked~div.sk-toggleable__content {max-height: 200px;max-width: 100%;overflow: auto;}#sk-31f49824-0d23-4a8c-8bb2-a1f761e540ca input.sk-toggleable__control:checked~label.sk-toggleable__label-arrow:before {content: \"▾\";}#sk-31f49824-0d23-4a8c-8bb2-a1f761e540ca div.sk-estimator input.sk-toggleable__control:checked~label.sk-toggleable__label {background-color: #d4ebff;}#sk-31f49824-0d23-4a8c-8bb2-a1f761e540ca div.sk-label input.sk-toggleable__control:checked~label.sk-toggleable__label {background-color: #d4ebff;}#sk-31f49824-0d23-4a8c-8bb2-a1f761e540ca input.sk-hidden--visually {border: 0;clip: rect(1px 1px 1px 1px);clip: rect(1px, 1px, 1px, 1px);height: 1px;margin: -1px;overflow: hidden;padding: 0;position: absolute;width: 1px;}#sk-31f49824-0d23-4a8c-8bb2-a1f761e540ca div.sk-estimator {font-family: monospace;background-color: #f0f8ff;border: 1px dotted black;border-radius: 0.25em;box-sizing: border-box;margin-bottom: 0.5em;}#sk-31f49824-0d23-4a8c-8bb2-a1f761e540ca div.sk-estimator:hover {background-color: #d4ebff;}#sk-31f49824-0d23-4a8c-8bb2-a1f761e540ca div.sk-parallel-item::after {content: \"\";width: 100%;border-bottom: 1px solid gray;flex-grow: 1;}#sk-31f49824-0d23-4a8c-8bb2-a1f761e540ca div.sk-label:hover label.sk-toggleable__label {background-color: #d4ebff;}#sk-31f49824-0d23-4a8c-8bb2-a1f761e540ca div.sk-serial::before {content: \"\";position: absolute;border-left: 1px solid gray;box-sizing: border-box;top: 2em;bottom: 0;left: 50%;}#sk-31f49824-0d23-4a8c-8bb2-a1f761e540ca div.sk-serial {display: flex;flex-direction: column;align-items: center;background-color: white;padding-right: 0.2em;padding-left: 0.2em;}#sk-31f49824-0d23-4a8c-8bb2-a1f761e540ca div.sk-item {z-index: 1;}#sk-31f49824-0d23-4a8c-8bb2-a1f761e540ca div.sk-parallel {display: flex;align-items: stretch;justify-content: center;background-color: white;}#sk-31f49824-0d23-4a8c-8bb2-a1f761e540ca div.sk-parallel::before {content: \"\";position: absolute;border-left: 1px solid gray;box-sizing: border-box;top: 2em;bottom: 0;left: 50%;}#sk-31f49824-0d23-4a8c-8bb2-a1f761e540ca div.sk-parallel-item {display: flex;flex-direction: column;position: relative;background-color: white;}#sk-31f49824-0d23-4a8c-8bb2-a1f761e540ca div.sk-parallel-item:first-child::after {align-self: flex-end;width: 50%;}#sk-31f49824-0d23-4a8c-8bb2-a1f761e540ca div.sk-parallel-item:last-child::after {align-self: flex-start;width: 50%;}#sk-31f49824-0d23-4a8c-8bb2-a1f761e540ca div.sk-parallel-item:only-child::after {width: 0;}#sk-31f49824-0d23-4a8c-8bb2-a1f761e540ca div.sk-dashed-wrapped {border: 1px dashed gray;margin: 0 0.4em 0.5em 0.4em;box-sizing: border-box;padding-bottom: 0.4em;background-color: white;position: relative;}#sk-31f49824-0d23-4a8c-8bb2-a1f761e540ca div.sk-label label {font-family: monospace;font-weight: bold;background-color: white;display: inline-block;line-height: 1.2em;}#sk-31f49824-0d23-4a8c-8bb2-a1f761e540ca div.sk-label-container {position: relative;z-index: 2;text-align: center;}#sk-31f49824-0d23-4a8c-8bb2-a1f761e540ca div.sk-container {/* jupyter's `normalize.less` sets `[hidden] { display: none; }` but bootstrap.min.css set `[hidden] { display: none !important; }` so we also need the `!important` here to be able to override the default hidden behavior on the sphinx rendered scikit-learn.org. See: https://github.com/scikit-learn/scikit-learn/issues/21755 */display: inline-block !important;position: relative;}#sk-31f49824-0d23-4a8c-8bb2-a1f761e540ca div.sk-text-repr-fallback {display: none;}</style><div id=\"sk-31f49824-0d23-4a8c-8bb2-a1f761e540ca\" class=\"sk-top-container\"><div class=\"sk-text-repr-fallback\"><pre>Pipeline(steps=[(&#x27;simpleimputer&#x27;, SimpleImputer(strategy=&#x27;most_frequent&#x27;)),\n",
              "                (&#x27;onehotencoder&#x27;,\n",
              "                 OneHotEncoder(handle_unknown=&#x27;ignore&#x27;, sparse=False))])</pre><b>Please rerun this cell to show the HTML repr or trust the notebook.</b></div><div class=\"sk-container\" hidden><div class=\"sk-item sk-dashed-wrapped\"><div class=\"sk-label-container\"><div class=\"sk-label sk-toggleable\"><input class=\"sk-toggleable__control sk-hidden--visually\" id=\"b09b8df4-07a7-41af-9a92-5ca7fd0f6345\" type=\"checkbox\" ><label for=\"b09b8df4-07a7-41af-9a92-5ca7fd0f6345\" class=\"sk-toggleable__label sk-toggleable__label-arrow\">Pipeline</label><div class=\"sk-toggleable__content\"><pre>Pipeline(steps=[(&#x27;simpleimputer&#x27;, SimpleImputer(strategy=&#x27;most_frequent&#x27;)),\n",
              "                (&#x27;onehotencoder&#x27;,\n",
              "                 OneHotEncoder(handle_unknown=&#x27;ignore&#x27;, sparse=False))])</pre></div></div></div><div class=\"sk-serial\"><div class=\"sk-item\"><div class=\"sk-estimator sk-toggleable\"><input class=\"sk-toggleable__control sk-hidden--visually\" id=\"23161b4e-5c37-4f7c-b2c8-0768fabf259a\" type=\"checkbox\" ><label for=\"23161b4e-5c37-4f7c-b2c8-0768fabf259a\" class=\"sk-toggleable__label sk-toggleable__label-arrow\">SimpleImputer</label><div class=\"sk-toggleable__content\"><pre>SimpleImputer(strategy=&#x27;most_frequent&#x27;)</pre></div></div></div><div class=\"sk-item\"><div class=\"sk-estimator sk-toggleable\"><input class=\"sk-toggleable__control sk-hidden--visually\" id=\"e89e19a1-ac8e-4898-b0bd-82050c9ec94c\" type=\"checkbox\" ><label for=\"e89e19a1-ac8e-4898-b0bd-82050c9ec94c\" class=\"sk-toggleable__label sk-toggleable__label-arrow\">OneHotEncoder</label><div class=\"sk-toggleable__content\"><pre>OneHotEncoder(handle_unknown=&#x27;ignore&#x27;, sparse=False)</pre></div></div></div></div></div></div></div>"
            ]
          },
          "metadata": {},
          "execution_count": 37
        }
      ]
    },
    {
      "cell_type": "code",
      "source": [
        "# Tuples for Column Transformer\n",
        "number_tuple = (numeric_pipe, num_selector)\n",
        "category_tuple = (categorical_pipe, cat_selector)\n",
        "# ColumnTransformer\n",
        "preprocessor = make_column_transformer(number_tuple, category_tuple)\n",
        "preprocessor"
      ],
      "metadata": {
        "colab": {
          "base_uri": "https://localhost:8080/",
          "height": 152
        },
        "id": "MSva_RGEyqpH",
        "outputId": "c210fe22-a381-4f31-efef-c7acaff7c33e"
      },
      "execution_count": 38,
      "outputs": [
        {
          "output_type": "execute_result",
          "data": {
            "text/plain": [
              "ColumnTransformer(transformers=[('pipeline-1',\n",
              "                                 Pipeline(steps=[('simpleimputer',\n",
              "                                                  SimpleImputer()),\n",
              "                                                 ('standardscaler',\n",
              "                                                  StandardScaler())]),\n",
              "                                 <sklearn.compose._column_transformer.make_column_selector object at 0x7f6d28a90310>),\n",
              "                                ('pipeline-2',\n",
              "                                 Pipeline(steps=[('simpleimputer',\n",
              "                                                  SimpleImputer(strategy='most_frequent')),\n",
              "                                                 ('onehotencoder',\n",
              "                                                  OneHotEncoder(handle_unknown='ignore',\n",
              "                                                                sparse=False))]),\n",
              "                                 <sklearn.compose._column_transformer.make_column_selector object at 0x7f6d28a90350>)])"
            ],
            "text/html": [
              "<style>#sk-d45008c2-6712-44e6-b3b9-19b82fbebed2 {color: black;background-color: white;}#sk-d45008c2-6712-44e6-b3b9-19b82fbebed2 pre{padding: 0;}#sk-d45008c2-6712-44e6-b3b9-19b82fbebed2 div.sk-toggleable {background-color: white;}#sk-d45008c2-6712-44e6-b3b9-19b82fbebed2 label.sk-toggleable__label {cursor: pointer;display: block;width: 100%;margin-bottom: 0;padding: 0.3em;box-sizing: border-box;text-align: center;}#sk-d45008c2-6712-44e6-b3b9-19b82fbebed2 label.sk-toggleable__label-arrow:before {content: \"▸\";float: left;margin-right: 0.25em;color: #696969;}#sk-d45008c2-6712-44e6-b3b9-19b82fbebed2 label.sk-toggleable__label-arrow:hover:before {color: black;}#sk-d45008c2-6712-44e6-b3b9-19b82fbebed2 div.sk-estimator:hover label.sk-toggleable__label-arrow:before {color: black;}#sk-d45008c2-6712-44e6-b3b9-19b82fbebed2 div.sk-toggleable__content {max-height: 0;max-width: 0;overflow: hidden;text-align: left;background-color: #f0f8ff;}#sk-d45008c2-6712-44e6-b3b9-19b82fbebed2 div.sk-toggleable__content pre {margin: 0.2em;color: black;border-radius: 0.25em;background-color: #f0f8ff;}#sk-d45008c2-6712-44e6-b3b9-19b82fbebed2 input.sk-toggleable__control:checked~div.sk-toggleable__content {max-height: 200px;max-width: 100%;overflow: auto;}#sk-d45008c2-6712-44e6-b3b9-19b82fbebed2 input.sk-toggleable__control:checked~label.sk-toggleable__label-arrow:before {content: \"▾\";}#sk-d45008c2-6712-44e6-b3b9-19b82fbebed2 div.sk-estimator input.sk-toggleable__control:checked~label.sk-toggleable__label {background-color: #d4ebff;}#sk-d45008c2-6712-44e6-b3b9-19b82fbebed2 div.sk-label input.sk-toggleable__control:checked~label.sk-toggleable__label {background-color: #d4ebff;}#sk-d45008c2-6712-44e6-b3b9-19b82fbebed2 input.sk-hidden--visually {border: 0;clip: rect(1px 1px 1px 1px);clip: rect(1px, 1px, 1px, 1px);height: 1px;margin: -1px;overflow: hidden;padding: 0;position: absolute;width: 1px;}#sk-d45008c2-6712-44e6-b3b9-19b82fbebed2 div.sk-estimator {font-family: monospace;background-color: #f0f8ff;border: 1px dotted black;border-radius: 0.25em;box-sizing: border-box;margin-bottom: 0.5em;}#sk-d45008c2-6712-44e6-b3b9-19b82fbebed2 div.sk-estimator:hover {background-color: #d4ebff;}#sk-d45008c2-6712-44e6-b3b9-19b82fbebed2 div.sk-parallel-item::after {content: \"\";width: 100%;border-bottom: 1px solid gray;flex-grow: 1;}#sk-d45008c2-6712-44e6-b3b9-19b82fbebed2 div.sk-label:hover label.sk-toggleable__label {background-color: #d4ebff;}#sk-d45008c2-6712-44e6-b3b9-19b82fbebed2 div.sk-serial::before {content: \"\";position: absolute;border-left: 1px solid gray;box-sizing: border-box;top: 2em;bottom: 0;left: 50%;}#sk-d45008c2-6712-44e6-b3b9-19b82fbebed2 div.sk-serial {display: flex;flex-direction: column;align-items: center;background-color: white;padding-right: 0.2em;padding-left: 0.2em;}#sk-d45008c2-6712-44e6-b3b9-19b82fbebed2 div.sk-item {z-index: 1;}#sk-d45008c2-6712-44e6-b3b9-19b82fbebed2 div.sk-parallel {display: flex;align-items: stretch;justify-content: center;background-color: white;}#sk-d45008c2-6712-44e6-b3b9-19b82fbebed2 div.sk-parallel::before {content: \"\";position: absolute;border-left: 1px solid gray;box-sizing: border-box;top: 2em;bottom: 0;left: 50%;}#sk-d45008c2-6712-44e6-b3b9-19b82fbebed2 div.sk-parallel-item {display: flex;flex-direction: column;position: relative;background-color: white;}#sk-d45008c2-6712-44e6-b3b9-19b82fbebed2 div.sk-parallel-item:first-child::after {align-self: flex-end;width: 50%;}#sk-d45008c2-6712-44e6-b3b9-19b82fbebed2 div.sk-parallel-item:last-child::after {align-self: flex-start;width: 50%;}#sk-d45008c2-6712-44e6-b3b9-19b82fbebed2 div.sk-parallel-item:only-child::after {width: 0;}#sk-d45008c2-6712-44e6-b3b9-19b82fbebed2 div.sk-dashed-wrapped {border: 1px dashed gray;margin: 0 0.4em 0.5em 0.4em;box-sizing: border-box;padding-bottom: 0.4em;background-color: white;position: relative;}#sk-d45008c2-6712-44e6-b3b9-19b82fbebed2 div.sk-label label {font-family: monospace;font-weight: bold;background-color: white;display: inline-block;line-height: 1.2em;}#sk-d45008c2-6712-44e6-b3b9-19b82fbebed2 div.sk-label-container {position: relative;z-index: 2;text-align: center;}#sk-d45008c2-6712-44e6-b3b9-19b82fbebed2 div.sk-container {/* jupyter's `normalize.less` sets `[hidden] { display: none; }` but bootstrap.min.css set `[hidden] { display: none !important; }` so we also need the `!important` here to be able to override the default hidden behavior on the sphinx rendered scikit-learn.org. See: https://github.com/scikit-learn/scikit-learn/issues/21755 */display: inline-block !important;position: relative;}#sk-d45008c2-6712-44e6-b3b9-19b82fbebed2 div.sk-text-repr-fallback {display: none;}</style><div id=\"sk-d45008c2-6712-44e6-b3b9-19b82fbebed2\" class=\"sk-top-container\"><div class=\"sk-text-repr-fallback\"><pre>ColumnTransformer(transformers=[(&#x27;pipeline-1&#x27;,\n",
              "                                 Pipeline(steps=[(&#x27;simpleimputer&#x27;,\n",
              "                                                  SimpleImputer()),\n",
              "                                                 (&#x27;standardscaler&#x27;,\n",
              "                                                  StandardScaler())]),\n",
              "                                 &lt;sklearn.compose._column_transformer.make_column_selector object at 0x7f6d28a90310&gt;),\n",
              "                                (&#x27;pipeline-2&#x27;,\n",
              "                                 Pipeline(steps=[(&#x27;simpleimputer&#x27;,\n",
              "                                                  SimpleImputer(strategy=&#x27;most_frequent&#x27;)),\n",
              "                                                 (&#x27;onehotencoder&#x27;,\n",
              "                                                  OneHotEncoder(handle_unknown=&#x27;ignore&#x27;,\n",
              "                                                                sparse=False))]),\n",
              "                                 &lt;sklearn.compose._column_transformer.make_column_selector object at 0x7f6d28a90350&gt;)])</pre><b>Please rerun this cell to show the HTML repr or trust the notebook.</b></div><div class=\"sk-container\" hidden><div class=\"sk-item sk-dashed-wrapped\"><div class=\"sk-label-container\"><div class=\"sk-label sk-toggleable\"><input class=\"sk-toggleable__control sk-hidden--visually\" id=\"d3d7d8f7-af53-4e3c-bab9-8c6b0ad067b4\" type=\"checkbox\" ><label for=\"d3d7d8f7-af53-4e3c-bab9-8c6b0ad067b4\" class=\"sk-toggleable__label sk-toggleable__label-arrow\">ColumnTransformer</label><div class=\"sk-toggleable__content\"><pre>ColumnTransformer(transformers=[(&#x27;pipeline-1&#x27;,\n",
              "                                 Pipeline(steps=[(&#x27;simpleimputer&#x27;,\n",
              "                                                  SimpleImputer()),\n",
              "                                                 (&#x27;standardscaler&#x27;,\n",
              "                                                  StandardScaler())]),\n",
              "                                 &lt;sklearn.compose._column_transformer.make_column_selector object at 0x7f6d28a90310&gt;),\n",
              "                                (&#x27;pipeline-2&#x27;,\n",
              "                                 Pipeline(steps=[(&#x27;simpleimputer&#x27;,\n",
              "                                                  SimpleImputer(strategy=&#x27;most_frequent&#x27;)),\n",
              "                                                 (&#x27;onehotencoder&#x27;,\n",
              "                                                  OneHotEncoder(handle_unknown=&#x27;ignore&#x27;,\n",
              "                                                                sparse=False))]),\n",
              "                                 &lt;sklearn.compose._column_transformer.make_column_selector object at 0x7f6d28a90350&gt;)])</pre></div></div></div><div class=\"sk-parallel\"><div class=\"sk-parallel-item\"><div class=\"sk-item\"><div class=\"sk-label-container\"><div class=\"sk-label sk-toggleable\"><input class=\"sk-toggleable__control sk-hidden--visually\" id=\"c2bda4b0-eec0-4452-93ce-d352fadd145c\" type=\"checkbox\" ><label for=\"c2bda4b0-eec0-4452-93ce-d352fadd145c\" class=\"sk-toggleable__label sk-toggleable__label-arrow\">pipeline-1</label><div class=\"sk-toggleable__content\"><pre>&lt;sklearn.compose._column_transformer.make_column_selector object at 0x7f6d28a90310&gt;</pre></div></div></div><div class=\"sk-serial\"><div class=\"sk-item\"><div class=\"sk-serial\"><div class=\"sk-item\"><div class=\"sk-estimator sk-toggleable\"><input class=\"sk-toggleable__control sk-hidden--visually\" id=\"b6b65da9-7921-4f64-ac14-b8e1a8290a33\" type=\"checkbox\" ><label for=\"b6b65da9-7921-4f64-ac14-b8e1a8290a33\" class=\"sk-toggleable__label sk-toggleable__label-arrow\">SimpleImputer</label><div class=\"sk-toggleable__content\"><pre>SimpleImputer()</pre></div></div></div><div class=\"sk-item\"><div class=\"sk-estimator sk-toggleable\"><input class=\"sk-toggleable__control sk-hidden--visually\" id=\"312054ac-a3d0-46b5-a982-a995c878b718\" type=\"checkbox\" ><label for=\"312054ac-a3d0-46b5-a982-a995c878b718\" class=\"sk-toggleable__label sk-toggleable__label-arrow\">StandardScaler</label><div class=\"sk-toggleable__content\"><pre>StandardScaler()</pre></div></div></div></div></div></div></div></div><div class=\"sk-parallel-item\"><div class=\"sk-item\"><div class=\"sk-label-container\"><div class=\"sk-label sk-toggleable\"><input class=\"sk-toggleable__control sk-hidden--visually\" id=\"2106c58c-fa12-44bc-b3bc-eae80f3c5d7f\" type=\"checkbox\" ><label for=\"2106c58c-fa12-44bc-b3bc-eae80f3c5d7f\" class=\"sk-toggleable__label sk-toggleable__label-arrow\">pipeline-2</label><div class=\"sk-toggleable__content\"><pre>&lt;sklearn.compose._column_transformer.make_column_selector object at 0x7f6d28a90350&gt;</pre></div></div></div><div class=\"sk-serial\"><div class=\"sk-item\"><div class=\"sk-serial\"><div class=\"sk-item\"><div class=\"sk-estimator sk-toggleable\"><input class=\"sk-toggleable__control sk-hidden--visually\" id=\"7268a674-2b01-4505-a879-e13b00655337\" type=\"checkbox\" ><label for=\"7268a674-2b01-4505-a879-e13b00655337\" class=\"sk-toggleable__label sk-toggleable__label-arrow\">SimpleImputer</label><div class=\"sk-toggleable__content\"><pre>SimpleImputer(strategy=&#x27;most_frequent&#x27;)</pre></div></div></div><div class=\"sk-item\"><div class=\"sk-estimator sk-toggleable\"><input class=\"sk-toggleable__control sk-hidden--visually\" id=\"ec60deb3-c795-43bb-b791-4ce623777b6b\" type=\"checkbox\" ><label for=\"ec60deb3-c795-43bb-b791-4ce623777b6b\" class=\"sk-toggleable__label sk-toggleable__label-arrow\">OneHotEncoder</label><div class=\"sk-toggleable__content\"><pre>OneHotEncoder(handle_unknown=&#x27;ignore&#x27;, sparse=False)</pre></div></div></div></div></div></div></div></div></div></div></div></div>"
            ]
          },
          "metadata": {},
          "execution_count": 38
        }
      ]
    },
    {
      "cell_type": "code",
      "source": [
        "# fit on train\n",
        "preprocessor.fit(X_train)"
      ],
      "metadata": {
        "colab": {
          "base_uri": "https://localhost:8080/",
          "height": 152
        },
        "id": "Y4g9gefeywHS",
        "outputId": "1fd3f049-6377-4327-9c84-7dc59284dec9"
      },
      "execution_count": 39,
      "outputs": [
        {
          "output_type": "execute_result",
          "data": {
            "text/plain": [
              "ColumnTransformer(transformers=[('pipeline-1',\n",
              "                                 Pipeline(steps=[('simpleimputer',\n",
              "                                                  SimpleImputer()),\n",
              "                                                 ('standardscaler',\n",
              "                                                  StandardScaler())]),\n",
              "                                 <sklearn.compose._column_transformer.make_column_selector object at 0x7f6d28a90310>),\n",
              "                                ('pipeline-2',\n",
              "                                 Pipeline(steps=[('simpleimputer',\n",
              "                                                  SimpleImputer(strategy='most_frequent')),\n",
              "                                                 ('onehotencoder',\n",
              "                                                  OneHotEncoder(handle_unknown='ignore',\n",
              "                                                                sparse=False))]),\n",
              "                                 <sklearn.compose._column_transformer.make_column_selector object at 0x7f6d28a90350>)])"
            ],
            "text/html": [
              "<style>#sk-cf2d33d2-d266-4381-aa6e-fa3fcfc607c6 {color: black;background-color: white;}#sk-cf2d33d2-d266-4381-aa6e-fa3fcfc607c6 pre{padding: 0;}#sk-cf2d33d2-d266-4381-aa6e-fa3fcfc607c6 div.sk-toggleable {background-color: white;}#sk-cf2d33d2-d266-4381-aa6e-fa3fcfc607c6 label.sk-toggleable__label {cursor: pointer;display: block;width: 100%;margin-bottom: 0;padding: 0.3em;box-sizing: border-box;text-align: center;}#sk-cf2d33d2-d266-4381-aa6e-fa3fcfc607c6 label.sk-toggleable__label-arrow:before {content: \"▸\";float: left;margin-right: 0.25em;color: #696969;}#sk-cf2d33d2-d266-4381-aa6e-fa3fcfc607c6 label.sk-toggleable__label-arrow:hover:before {color: black;}#sk-cf2d33d2-d266-4381-aa6e-fa3fcfc607c6 div.sk-estimator:hover label.sk-toggleable__label-arrow:before {color: black;}#sk-cf2d33d2-d266-4381-aa6e-fa3fcfc607c6 div.sk-toggleable__content {max-height: 0;max-width: 0;overflow: hidden;text-align: left;background-color: #f0f8ff;}#sk-cf2d33d2-d266-4381-aa6e-fa3fcfc607c6 div.sk-toggleable__content pre {margin: 0.2em;color: black;border-radius: 0.25em;background-color: #f0f8ff;}#sk-cf2d33d2-d266-4381-aa6e-fa3fcfc607c6 input.sk-toggleable__control:checked~div.sk-toggleable__content {max-height: 200px;max-width: 100%;overflow: auto;}#sk-cf2d33d2-d266-4381-aa6e-fa3fcfc607c6 input.sk-toggleable__control:checked~label.sk-toggleable__label-arrow:before {content: \"▾\";}#sk-cf2d33d2-d266-4381-aa6e-fa3fcfc607c6 div.sk-estimator input.sk-toggleable__control:checked~label.sk-toggleable__label {background-color: #d4ebff;}#sk-cf2d33d2-d266-4381-aa6e-fa3fcfc607c6 div.sk-label input.sk-toggleable__control:checked~label.sk-toggleable__label {background-color: #d4ebff;}#sk-cf2d33d2-d266-4381-aa6e-fa3fcfc607c6 input.sk-hidden--visually {border: 0;clip: rect(1px 1px 1px 1px);clip: rect(1px, 1px, 1px, 1px);height: 1px;margin: -1px;overflow: hidden;padding: 0;position: absolute;width: 1px;}#sk-cf2d33d2-d266-4381-aa6e-fa3fcfc607c6 div.sk-estimator {font-family: monospace;background-color: #f0f8ff;border: 1px dotted black;border-radius: 0.25em;box-sizing: border-box;margin-bottom: 0.5em;}#sk-cf2d33d2-d266-4381-aa6e-fa3fcfc607c6 div.sk-estimator:hover {background-color: #d4ebff;}#sk-cf2d33d2-d266-4381-aa6e-fa3fcfc607c6 div.sk-parallel-item::after {content: \"\";width: 100%;border-bottom: 1px solid gray;flex-grow: 1;}#sk-cf2d33d2-d266-4381-aa6e-fa3fcfc607c6 div.sk-label:hover label.sk-toggleable__label {background-color: #d4ebff;}#sk-cf2d33d2-d266-4381-aa6e-fa3fcfc607c6 div.sk-serial::before {content: \"\";position: absolute;border-left: 1px solid gray;box-sizing: border-box;top: 2em;bottom: 0;left: 50%;}#sk-cf2d33d2-d266-4381-aa6e-fa3fcfc607c6 div.sk-serial {display: flex;flex-direction: column;align-items: center;background-color: white;padding-right: 0.2em;padding-left: 0.2em;}#sk-cf2d33d2-d266-4381-aa6e-fa3fcfc607c6 div.sk-item {z-index: 1;}#sk-cf2d33d2-d266-4381-aa6e-fa3fcfc607c6 div.sk-parallel {display: flex;align-items: stretch;justify-content: center;background-color: white;}#sk-cf2d33d2-d266-4381-aa6e-fa3fcfc607c6 div.sk-parallel::before {content: \"\";position: absolute;border-left: 1px solid gray;box-sizing: border-box;top: 2em;bottom: 0;left: 50%;}#sk-cf2d33d2-d266-4381-aa6e-fa3fcfc607c6 div.sk-parallel-item {display: flex;flex-direction: column;position: relative;background-color: white;}#sk-cf2d33d2-d266-4381-aa6e-fa3fcfc607c6 div.sk-parallel-item:first-child::after {align-self: flex-end;width: 50%;}#sk-cf2d33d2-d266-4381-aa6e-fa3fcfc607c6 div.sk-parallel-item:last-child::after {align-self: flex-start;width: 50%;}#sk-cf2d33d2-d266-4381-aa6e-fa3fcfc607c6 div.sk-parallel-item:only-child::after {width: 0;}#sk-cf2d33d2-d266-4381-aa6e-fa3fcfc607c6 div.sk-dashed-wrapped {border: 1px dashed gray;margin: 0 0.4em 0.5em 0.4em;box-sizing: border-box;padding-bottom: 0.4em;background-color: white;position: relative;}#sk-cf2d33d2-d266-4381-aa6e-fa3fcfc607c6 div.sk-label label {font-family: monospace;font-weight: bold;background-color: white;display: inline-block;line-height: 1.2em;}#sk-cf2d33d2-d266-4381-aa6e-fa3fcfc607c6 div.sk-label-container {position: relative;z-index: 2;text-align: center;}#sk-cf2d33d2-d266-4381-aa6e-fa3fcfc607c6 div.sk-container {/* jupyter's `normalize.less` sets `[hidden] { display: none; }` but bootstrap.min.css set `[hidden] { display: none !important; }` so we also need the `!important` here to be able to override the default hidden behavior on the sphinx rendered scikit-learn.org. See: https://github.com/scikit-learn/scikit-learn/issues/21755 */display: inline-block !important;position: relative;}#sk-cf2d33d2-d266-4381-aa6e-fa3fcfc607c6 div.sk-text-repr-fallback {display: none;}</style><div id=\"sk-cf2d33d2-d266-4381-aa6e-fa3fcfc607c6\" class=\"sk-top-container\"><div class=\"sk-text-repr-fallback\"><pre>ColumnTransformer(transformers=[(&#x27;pipeline-1&#x27;,\n",
              "                                 Pipeline(steps=[(&#x27;simpleimputer&#x27;,\n",
              "                                                  SimpleImputer()),\n",
              "                                                 (&#x27;standardscaler&#x27;,\n",
              "                                                  StandardScaler())]),\n",
              "                                 &lt;sklearn.compose._column_transformer.make_column_selector object at 0x7f6d28a90310&gt;),\n",
              "                                (&#x27;pipeline-2&#x27;,\n",
              "                                 Pipeline(steps=[(&#x27;simpleimputer&#x27;,\n",
              "                                                  SimpleImputer(strategy=&#x27;most_frequent&#x27;)),\n",
              "                                                 (&#x27;onehotencoder&#x27;,\n",
              "                                                  OneHotEncoder(handle_unknown=&#x27;ignore&#x27;,\n",
              "                                                                sparse=False))]),\n",
              "                                 &lt;sklearn.compose._column_transformer.make_column_selector object at 0x7f6d28a90350&gt;)])</pre><b>Please rerun this cell to show the HTML repr or trust the notebook.</b></div><div class=\"sk-container\" hidden><div class=\"sk-item sk-dashed-wrapped\"><div class=\"sk-label-container\"><div class=\"sk-label sk-toggleable\"><input class=\"sk-toggleable__control sk-hidden--visually\" id=\"fc3d6723-949a-4fb7-9a8c-3ff67f89101b\" type=\"checkbox\" ><label for=\"fc3d6723-949a-4fb7-9a8c-3ff67f89101b\" class=\"sk-toggleable__label sk-toggleable__label-arrow\">ColumnTransformer</label><div class=\"sk-toggleable__content\"><pre>ColumnTransformer(transformers=[(&#x27;pipeline-1&#x27;,\n",
              "                                 Pipeline(steps=[(&#x27;simpleimputer&#x27;,\n",
              "                                                  SimpleImputer()),\n",
              "                                                 (&#x27;standardscaler&#x27;,\n",
              "                                                  StandardScaler())]),\n",
              "                                 &lt;sklearn.compose._column_transformer.make_column_selector object at 0x7f6d28a90310&gt;),\n",
              "                                (&#x27;pipeline-2&#x27;,\n",
              "                                 Pipeline(steps=[(&#x27;simpleimputer&#x27;,\n",
              "                                                  SimpleImputer(strategy=&#x27;most_frequent&#x27;)),\n",
              "                                                 (&#x27;onehotencoder&#x27;,\n",
              "                                                  OneHotEncoder(handle_unknown=&#x27;ignore&#x27;,\n",
              "                                                                sparse=False))]),\n",
              "                                 &lt;sklearn.compose._column_transformer.make_column_selector object at 0x7f6d28a90350&gt;)])</pre></div></div></div><div class=\"sk-parallel\"><div class=\"sk-parallel-item\"><div class=\"sk-item\"><div class=\"sk-label-container\"><div class=\"sk-label sk-toggleable\"><input class=\"sk-toggleable__control sk-hidden--visually\" id=\"b935e05e-7f4c-4897-9835-33b3b0d61e6b\" type=\"checkbox\" ><label for=\"b935e05e-7f4c-4897-9835-33b3b0d61e6b\" class=\"sk-toggleable__label sk-toggleable__label-arrow\">pipeline-1</label><div class=\"sk-toggleable__content\"><pre>&lt;sklearn.compose._column_transformer.make_column_selector object at 0x7f6d28a90310&gt;</pre></div></div></div><div class=\"sk-serial\"><div class=\"sk-item\"><div class=\"sk-serial\"><div class=\"sk-item\"><div class=\"sk-estimator sk-toggleable\"><input class=\"sk-toggleable__control sk-hidden--visually\" id=\"ec6d445f-33a2-478a-b48d-15349b917b7a\" type=\"checkbox\" ><label for=\"ec6d445f-33a2-478a-b48d-15349b917b7a\" class=\"sk-toggleable__label sk-toggleable__label-arrow\">SimpleImputer</label><div class=\"sk-toggleable__content\"><pre>SimpleImputer()</pre></div></div></div><div class=\"sk-item\"><div class=\"sk-estimator sk-toggleable\"><input class=\"sk-toggleable__control sk-hidden--visually\" id=\"47166f1c-2ca5-485c-bd79-699899dbae80\" type=\"checkbox\" ><label for=\"47166f1c-2ca5-485c-bd79-699899dbae80\" class=\"sk-toggleable__label sk-toggleable__label-arrow\">StandardScaler</label><div class=\"sk-toggleable__content\"><pre>StandardScaler()</pre></div></div></div></div></div></div></div></div><div class=\"sk-parallel-item\"><div class=\"sk-item\"><div class=\"sk-label-container\"><div class=\"sk-label sk-toggleable\"><input class=\"sk-toggleable__control sk-hidden--visually\" id=\"5434dc09-e2c8-49af-af7a-65220c5923e1\" type=\"checkbox\" ><label for=\"5434dc09-e2c8-49af-af7a-65220c5923e1\" class=\"sk-toggleable__label sk-toggleable__label-arrow\">pipeline-2</label><div class=\"sk-toggleable__content\"><pre>&lt;sklearn.compose._column_transformer.make_column_selector object at 0x7f6d28a90350&gt;</pre></div></div></div><div class=\"sk-serial\"><div class=\"sk-item\"><div class=\"sk-serial\"><div class=\"sk-item\"><div class=\"sk-estimator sk-toggleable\"><input class=\"sk-toggleable__control sk-hidden--visually\" id=\"771954f3-4bf9-4d69-9648-10ab9716abc3\" type=\"checkbox\" ><label for=\"771954f3-4bf9-4d69-9648-10ab9716abc3\" class=\"sk-toggleable__label sk-toggleable__label-arrow\">SimpleImputer</label><div class=\"sk-toggleable__content\"><pre>SimpleImputer(strategy=&#x27;most_frequent&#x27;)</pre></div></div></div><div class=\"sk-item\"><div class=\"sk-estimator sk-toggleable\"><input class=\"sk-toggleable__control sk-hidden--visually\" id=\"005423f0-cde5-4bc2-94cd-7273f7fc9842\" type=\"checkbox\" ><label for=\"005423f0-cde5-4bc2-94cd-7273f7fc9842\" class=\"sk-toggleable__label sk-toggleable__label-arrow\">OneHotEncoder</label><div class=\"sk-toggleable__content\"><pre>OneHotEncoder(handle_unknown=&#x27;ignore&#x27;, sparse=False)</pre></div></div></div></div></div></div></div></div></div></div></div></div>"
            ]
          },
          "metadata": {},
          "execution_count": 39
        }
      ]
    },
    {
      "cell_type": "code",
      "source": [
        "# transform train and test\n",
        "X_train_processed = preprocessor.transform(X_train)\n",
        "X_test_processed = preprocessor.transform(X_test)"
      ],
      "metadata": {
        "id": "TP2osfY4yxrr"
      },
      "execution_count": 40,
      "outputs": []
    },
    {
      "cell_type": "code",
      "source": [
        "# Check for missing values and that data is scaled and one-hot encoded\n",
        "print(np.isnan(X_train_processed).sum().sum(), 'missing values in training data')\n",
        "print(np.isnan(X_test_processed).sum().sum(), 'missing values in testing data')\n",
        "print('\\n')\n",
        "print('All data in X_train_processed are', X_train_processed.dtype)\n",
        "print('All data in X_test_processed are', X_test_processed.dtype)\n",
        "print('\\n')\n",
        "print('shape of data is', X_train_processed.shape)\n",
        "print('\\n')\n",
        "X_train_processed"
      ],
      "metadata": {
        "colab": {
          "base_uri": "https://localhost:8080/"
        },
        "id": "cK2g3vMqy3d5",
        "outputId": "cd1a0f68-9afa-4523-82f2-65cd65add97c"
      },
      "execution_count": 41,
      "outputs": [
        {
          "output_type": "stream",
          "name": "stdout",
          "text": [
            "0 missing values in training data\n",
            "0 missing values in testing data\n",
            "\n",
            "\n",
            "All data in X_train_processed are float64\n",
            "All data in X_test_processed are float64\n",
            "\n",
            "\n",
            "shape of data is (6392, 1588)\n",
            "\n",
            "\n"
          ]
        },
        {
          "output_type": "execute_result",
          "data": {
            "text/plain": [
              "array([[-0.71277507,  1.82810922,  1.32784893, ...,  0.        ,\n",
              "         1.        ,  0.        ],\n",
              "       [-1.29105225,  0.60336888,  1.32784893, ...,  0.        ,\n",
              "         1.        ,  0.        ],\n",
              "       [ 1.81331864,  0.24454056,  0.13618724, ...,  1.        ,\n",
              "         0.        ,  0.        ],\n",
              "       ...,\n",
              "       [-0.92052713,  1.52302674,  0.49368575, ...,  1.        ,\n",
              "         0.        ,  0.        ],\n",
              "       [-0.2277552 , -0.38377708,  1.0895166 , ...,  1.        ,\n",
              "         0.        ,  0.        ],\n",
              "       [-0.95867683, -0.73836105, -0.10214509, ...,  1.        ,\n",
              "         0.        ,  0.        ]])"
            ]
          },
          "metadata": {},
          "execution_count": 41
        }
      ]
    },
    {
      "cell_type": "code",
      "source": [
        "# Step 1: Import the and instantiate the model\n",
        "from sklearn.linear_model import LinearRegression\n",
        "reg = LinearRegression()"
      ],
      "metadata": {
        "id": "NscKtr-Joa_T"
      },
      "execution_count": 42,
      "outputs": []
    },
    {
      "cell_type": "code",
      "source": [
        "# Step 2: Create a modeling pipeline\n",
        "from sklearn.pipeline import make_pipeline\n",
        "reg_pipe = make_pipeline(preprocessor, reg)"
      ],
      "metadata": {
        "id": "VN6cBdc-om5E"
      },
      "execution_count": 43,
      "outputs": []
    },
    {
      "cell_type": "code",
      "source": [
        "# Step 3: Train the model on your training data.   \n",
        "# Model is learning the relationship between X and Y\n",
        "reg_pipe.fit(X_train,y_train)"
      ],
      "metadata": {
        "colab": {
          "base_uri": "https://localhost:8080/",
          "height": 227
        },
        "id": "lQMU5tol1lmb",
        "outputId": "021a819d-2eb6-4323-c193-0d36d1f1a837"
      },
      "execution_count": 44,
      "outputs": [
        {
          "output_type": "execute_result",
          "data": {
            "text/plain": [
              "Pipeline(steps=[('columntransformer',\n",
              "                 ColumnTransformer(transformers=[('pipeline-1',\n",
              "                                                  Pipeline(steps=[('simpleimputer',\n",
              "                                                                   SimpleImputer()),\n",
              "                                                                  ('standardscaler',\n",
              "                                                                   StandardScaler())]),\n",
              "                                                  <sklearn.compose._column_transformer.make_column_selector object at 0x7f6d28a90310>),\n",
              "                                                 ('pipeline-2',\n",
              "                                                  Pipeline(steps=[('simpleimputer',\n",
              "                                                                   SimpleImputer(strategy='most_frequent')),\n",
              "                                                                  ('onehotencoder',\n",
              "                                                                   OneHotEncoder(handle_unknown='ignore',\n",
              "                                                                                 sparse=False))]),\n",
              "                                                  <sklearn.compose._column_transformer.make_column_selector object at 0x7f6d28a90350>)])),\n",
              "                ('linearregression', LinearRegression())])"
            ],
            "text/html": [
              "<style>#sk-2e5da439-ace0-4aa8-a5fb-641769eb1ae4 {color: black;background-color: white;}#sk-2e5da439-ace0-4aa8-a5fb-641769eb1ae4 pre{padding: 0;}#sk-2e5da439-ace0-4aa8-a5fb-641769eb1ae4 div.sk-toggleable {background-color: white;}#sk-2e5da439-ace0-4aa8-a5fb-641769eb1ae4 label.sk-toggleable__label {cursor: pointer;display: block;width: 100%;margin-bottom: 0;padding: 0.3em;box-sizing: border-box;text-align: center;}#sk-2e5da439-ace0-4aa8-a5fb-641769eb1ae4 label.sk-toggleable__label-arrow:before {content: \"▸\";float: left;margin-right: 0.25em;color: #696969;}#sk-2e5da439-ace0-4aa8-a5fb-641769eb1ae4 label.sk-toggleable__label-arrow:hover:before {color: black;}#sk-2e5da439-ace0-4aa8-a5fb-641769eb1ae4 div.sk-estimator:hover label.sk-toggleable__label-arrow:before {color: black;}#sk-2e5da439-ace0-4aa8-a5fb-641769eb1ae4 div.sk-toggleable__content {max-height: 0;max-width: 0;overflow: hidden;text-align: left;background-color: #f0f8ff;}#sk-2e5da439-ace0-4aa8-a5fb-641769eb1ae4 div.sk-toggleable__content pre {margin: 0.2em;color: black;border-radius: 0.25em;background-color: #f0f8ff;}#sk-2e5da439-ace0-4aa8-a5fb-641769eb1ae4 input.sk-toggleable__control:checked~div.sk-toggleable__content {max-height: 200px;max-width: 100%;overflow: auto;}#sk-2e5da439-ace0-4aa8-a5fb-641769eb1ae4 input.sk-toggleable__control:checked~label.sk-toggleable__label-arrow:before {content: \"▾\";}#sk-2e5da439-ace0-4aa8-a5fb-641769eb1ae4 div.sk-estimator input.sk-toggleable__control:checked~label.sk-toggleable__label {background-color: #d4ebff;}#sk-2e5da439-ace0-4aa8-a5fb-641769eb1ae4 div.sk-label input.sk-toggleable__control:checked~label.sk-toggleable__label {background-color: #d4ebff;}#sk-2e5da439-ace0-4aa8-a5fb-641769eb1ae4 input.sk-hidden--visually {border: 0;clip: rect(1px 1px 1px 1px);clip: rect(1px, 1px, 1px, 1px);height: 1px;margin: -1px;overflow: hidden;padding: 0;position: absolute;width: 1px;}#sk-2e5da439-ace0-4aa8-a5fb-641769eb1ae4 div.sk-estimator {font-family: monospace;background-color: #f0f8ff;border: 1px dotted black;border-radius: 0.25em;box-sizing: border-box;margin-bottom: 0.5em;}#sk-2e5da439-ace0-4aa8-a5fb-641769eb1ae4 div.sk-estimator:hover {background-color: #d4ebff;}#sk-2e5da439-ace0-4aa8-a5fb-641769eb1ae4 div.sk-parallel-item::after {content: \"\";width: 100%;border-bottom: 1px solid gray;flex-grow: 1;}#sk-2e5da439-ace0-4aa8-a5fb-641769eb1ae4 div.sk-label:hover label.sk-toggleable__label {background-color: #d4ebff;}#sk-2e5da439-ace0-4aa8-a5fb-641769eb1ae4 div.sk-serial::before {content: \"\";position: absolute;border-left: 1px solid gray;box-sizing: border-box;top: 2em;bottom: 0;left: 50%;}#sk-2e5da439-ace0-4aa8-a5fb-641769eb1ae4 div.sk-serial {display: flex;flex-direction: column;align-items: center;background-color: white;padding-right: 0.2em;padding-left: 0.2em;}#sk-2e5da439-ace0-4aa8-a5fb-641769eb1ae4 div.sk-item {z-index: 1;}#sk-2e5da439-ace0-4aa8-a5fb-641769eb1ae4 div.sk-parallel {display: flex;align-items: stretch;justify-content: center;background-color: white;}#sk-2e5da439-ace0-4aa8-a5fb-641769eb1ae4 div.sk-parallel::before {content: \"\";position: absolute;border-left: 1px solid gray;box-sizing: border-box;top: 2em;bottom: 0;left: 50%;}#sk-2e5da439-ace0-4aa8-a5fb-641769eb1ae4 div.sk-parallel-item {display: flex;flex-direction: column;position: relative;background-color: white;}#sk-2e5da439-ace0-4aa8-a5fb-641769eb1ae4 div.sk-parallel-item:first-child::after {align-self: flex-end;width: 50%;}#sk-2e5da439-ace0-4aa8-a5fb-641769eb1ae4 div.sk-parallel-item:last-child::after {align-self: flex-start;width: 50%;}#sk-2e5da439-ace0-4aa8-a5fb-641769eb1ae4 div.sk-parallel-item:only-child::after {width: 0;}#sk-2e5da439-ace0-4aa8-a5fb-641769eb1ae4 div.sk-dashed-wrapped {border: 1px dashed gray;margin: 0 0.4em 0.5em 0.4em;box-sizing: border-box;padding-bottom: 0.4em;background-color: white;position: relative;}#sk-2e5da439-ace0-4aa8-a5fb-641769eb1ae4 div.sk-label label {font-family: monospace;font-weight: bold;background-color: white;display: inline-block;line-height: 1.2em;}#sk-2e5da439-ace0-4aa8-a5fb-641769eb1ae4 div.sk-label-container {position: relative;z-index: 2;text-align: center;}#sk-2e5da439-ace0-4aa8-a5fb-641769eb1ae4 div.sk-container {/* jupyter's `normalize.less` sets `[hidden] { display: none; }` but bootstrap.min.css set `[hidden] { display: none !important; }` so we also need the `!important` here to be able to override the default hidden behavior on the sphinx rendered scikit-learn.org. See: https://github.com/scikit-learn/scikit-learn/issues/21755 */display: inline-block !important;position: relative;}#sk-2e5da439-ace0-4aa8-a5fb-641769eb1ae4 div.sk-text-repr-fallback {display: none;}</style><div id=\"sk-2e5da439-ace0-4aa8-a5fb-641769eb1ae4\" class=\"sk-top-container\"><div class=\"sk-text-repr-fallback\"><pre>Pipeline(steps=[(&#x27;columntransformer&#x27;,\n",
              "                 ColumnTransformer(transformers=[(&#x27;pipeline-1&#x27;,\n",
              "                                                  Pipeline(steps=[(&#x27;simpleimputer&#x27;,\n",
              "                                                                   SimpleImputer()),\n",
              "                                                                  (&#x27;standardscaler&#x27;,\n",
              "                                                                   StandardScaler())]),\n",
              "                                                  &lt;sklearn.compose._column_transformer.make_column_selector object at 0x7f6d28a90310&gt;),\n",
              "                                                 (&#x27;pipeline-2&#x27;,\n",
              "                                                  Pipeline(steps=[(&#x27;simpleimputer&#x27;,\n",
              "                                                                   SimpleImputer(strategy=&#x27;most_frequent&#x27;)),\n",
              "                                                                  (&#x27;onehotencoder&#x27;,\n",
              "                                                                   OneHotEncoder(handle_unknown=&#x27;ignore&#x27;,\n",
              "                                                                                 sparse=False))]),\n",
              "                                                  &lt;sklearn.compose._column_transformer.make_column_selector object at 0x7f6d28a90350&gt;)])),\n",
              "                (&#x27;linearregression&#x27;, LinearRegression())])</pre><b>Please rerun this cell to show the HTML repr or trust the notebook.</b></div><div class=\"sk-container\" hidden><div class=\"sk-item sk-dashed-wrapped\"><div class=\"sk-label-container\"><div class=\"sk-label sk-toggleable\"><input class=\"sk-toggleable__control sk-hidden--visually\" id=\"64c2520c-48c1-42bf-be7c-907b30b91f76\" type=\"checkbox\" ><label for=\"64c2520c-48c1-42bf-be7c-907b30b91f76\" class=\"sk-toggleable__label sk-toggleable__label-arrow\">Pipeline</label><div class=\"sk-toggleable__content\"><pre>Pipeline(steps=[(&#x27;columntransformer&#x27;,\n",
              "                 ColumnTransformer(transformers=[(&#x27;pipeline-1&#x27;,\n",
              "                                                  Pipeline(steps=[(&#x27;simpleimputer&#x27;,\n",
              "                                                                   SimpleImputer()),\n",
              "                                                                  (&#x27;standardscaler&#x27;,\n",
              "                                                                   StandardScaler())]),\n",
              "                                                  &lt;sklearn.compose._column_transformer.make_column_selector object at 0x7f6d28a90310&gt;),\n",
              "                                                 (&#x27;pipeline-2&#x27;,\n",
              "                                                  Pipeline(steps=[(&#x27;simpleimputer&#x27;,\n",
              "                                                                   SimpleImputer(strategy=&#x27;most_frequent&#x27;)),\n",
              "                                                                  (&#x27;onehotencoder&#x27;,\n",
              "                                                                   OneHotEncoder(handle_unknown=&#x27;ignore&#x27;,\n",
              "                                                                                 sparse=False))]),\n",
              "                                                  &lt;sklearn.compose._column_transformer.make_column_selector object at 0x7f6d28a90350&gt;)])),\n",
              "                (&#x27;linearregression&#x27;, LinearRegression())])</pre></div></div></div><div class=\"sk-serial\"><div class=\"sk-item sk-dashed-wrapped\"><div class=\"sk-label-container\"><div class=\"sk-label sk-toggleable\"><input class=\"sk-toggleable__control sk-hidden--visually\" id=\"252ddf3f-8c4b-401e-8a1c-1b2e97f75ee1\" type=\"checkbox\" ><label for=\"252ddf3f-8c4b-401e-8a1c-1b2e97f75ee1\" class=\"sk-toggleable__label sk-toggleable__label-arrow\">columntransformer: ColumnTransformer</label><div class=\"sk-toggleable__content\"><pre>ColumnTransformer(transformers=[(&#x27;pipeline-1&#x27;,\n",
              "                                 Pipeline(steps=[(&#x27;simpleimputer&#x27;,\n",
              "                                                  SimpleImputer()),\n",
              "                                                 (&#x27;standardscaler&#x27;,\n",
              "                                                  StandardScaler())]),\n",
              "                                 &lt;sklearn.compose._column_transformer.make_column_selector object at 0x7f6d28a90310&gt;),\n",
              "                                (&#x27;pipeline-2&#x27;,\n",
              "                                 Pipeline(steps=[(&#x27;simpleimputer&#x27;,\n",
              "                                                  SimpleImputer(strategy=&#x27;most_frequent&#x27;)),\n",
              "                                                 (&#x27;onehotencoder&#x27;,\n",
              "                                                  OneHotEncoder(handle_unknown=&#x27;ignore&#x27;,\n",
              "                                                                sparse=False))]),\n",
              "                                 &lt;sklearn.compose._column_transformer.make_column_selector object at 0x7f6d28a90350&gt;)])</pre></div></div></div><div class=\"sk-parallel\"><div class=\"sk-parallel-item\"><div class=\"sk-item\"><div class=\"sk-label-container\"><div class=\"sk-label sk-toggleable\"><input class=\"sk-toggleable__control sk-hidden--visually\" id=\"55ecc6b0-5a88-4fe1-9cb0-6331c7ebea46\" type=\"checkbox\" ><label for=\"55ecc6b0-5a88-4fe1-9cb0-6331c7ebea46\" class=\"sk-toggleable__label sk-toggleable__label-arrow\">pipeline-1</label><div class=\"sk-toggleable__content\"><pre>&lt;sklearn.compose._column_transformer.make_column_selector object at 0x7f6d28a90310&gt;</pre></div></div></div><div class=\"sk-serial\"><div class=\"sk-item\"><div class=\"sk-serial\"><div class=\"sk-item\"><div class=\"sk-estimator sk-toggleable\"><input class=\"sk-toggleable__control sk-hidden--visually\" id=\"317ed227-16cc-4cbb-b965-b5a8f60cf28c\" type=\"checkbox\" ><label for=\"317ed227-16cc-4cbb-b965-b5a8f60cf28c\" class=\"sk-toggleable__label sk-toggleable__label-arrow\">SimpleImputer</label><div class=\"sk-toggleable__content\"><pre>SimpleImputer()</pre></div></div></div><div class=\"sk-item\"><div class=\"sk-estimator sk-toggleable\"><input class=\"sk-toggleable__control sk-hidden--visually\" id=\"55244a49-486e-42c6-932a-657173e77e43\" type=\"checkbox\" ><label for=\"55244a49-486e-42c6-932a-657173e77e43\" class=\"sk-toggleable__label sk-toggleable__label-arrow\">StandardScaler</label><div class=\"sk-toggleable__content\"><pre>StandardScaler()</pre></div></div></div></div></div></div></div></div><div class=\"sk-parallel-item\"><div class=\"sk-item\"><div class=\"sk-label-container\"><div class=\"sk-label sk-toggleable\"><input class=\"sk-toggleable__control sk-hidden--visually\" id=\"5e97f33f-cccd-4c01-8a90-1a0cfbd69a7f\" type=\"checkbox\" ><label for=\"5e97f33f-cccd-4c01-8a90-1a0cfbd69a7f\" class=\"sk-toggleable__label sk-toggleable__label-arrow\">pipeline-2</label><div class=\"sk-toggleable__content\"><pre>&lt;sklearn.compose._column_transformer.make_column_selector object at 0x7f6d28a90350&gt;</pre></div></div></div><div class=\"sk-serial\"><div class=\"sk-item\"><div class=\"sk-serial\"><div class=\"sk-item\"><div class=\"sk-estimator sk-toggleable\"><input class=\"sk-toggleable__control sk-hidden--visually\" id=\"a2c7614f-f861-4233-8c6e-2a15c90bd1ea\" type=\"checkbox\" ><label for=\"a2c7614f-f861-4233-8c6e-2a15c90bd1ea\" class=\"sk-toggleable__label sk-toggleable__label-arrow\">SimpleImputer</label><div class=\"sk-toggleable__content\"><pre>SimpleImputer(strategy=&#x27;most_frequent&#x27;)</pre></div></div></div><div class=\"sk-item\"><div class=\"sk-estimator sk-toggleable\"><input class=\"sk-toggleable__control sk-hidden--visually\" id=\"ad8a82cd-1db6-45e1-afbc-7839e62bee2a\" type=\"checkbox\" ><label for=\"ad8a82cd-1db6-45e1-afbc-7839e62bee2a\" class=\"sk-toggleable__label sk-toggleable__label-arrow\">OneHotEncoder</label><div class=\"sk-toggleable__content\"><pre>OneHotEncoder(handle_unknown=&#x27;ignore&#x27;, sparse=False)</pre></div></div></div></div></div></div></div></div></div></div><div class=\"sk-item\"><div class=\"sk-estimator sk-toggleable\"><input class=\"sk-toggleable__control sk-hidden--visually\" id=\"7f64a522-05f1-4da5-9511-daa92d27d7e1\" type=\"checkbox\" ><label for=\"7f64a522-05f1-4da5-9511-daa92d27d7e1\" class=\"sk-toggleable__label sk-toggleable__label-arrow\">LinearRegression</label><div class=\"sk-toggleable__content\"><pre>LinearRegression()</pre></div></div></div></div></div></div></div>"
            ]
          },
          "metadata": {},
          "execution_count": 44
        }
      ]
    },
    {
      "cell_type": "code",
      "source": [
        "# Step 4: Make predictions using the testing data.\n",
        "predictions = reg_pipe.predict(X_test)"
      ],
      "metadata": {
        "id": "0Kii_HvEXqXt"
      },
      "execution_count": 45,
      "outputs": []
    },
    {
      "cell_type": "code",
      "source": [
        "# see how our predictions compare to the original values\n",
        "prediction_df = X_test.copy()\n",
        "prediction_df['True Median Price'] = y_test\n",
        "prediction_df['Predicted Median Price'] = predictions\n",
        "prediction_df['Error'] = predictions - y_test\n",
        "prediction_df.head()"
      ],
      "metadata": {
        "colab": {
          "base_uri": "https://localhost:8080/",
          "height": 348
        },
        "id": "-wVHF7VoXwSn",
        "outputId": "a7c611ca-1e69-41c7-a561-5e75f63af078"
      },
      "execution_count": 46,
      "outputs": [
        {
          "output_type": "execute_result",
          "data": {
            "text/plain": [
              "     Item_Identifier Item_Fat_Content  Item_Visibility           Item_Type  \\\n",
              "7503           FDI28          Low Fat         0.026300        Frozen Foods   \n",
              "2957           NCM17          Low Fat         0.071136  Health and Hygiene   \n",
              "7031           FDC14          Regular         0.041313              Canned   \n",
              "1084           DRC36          Regular         0.044767         Soft Drinks   \n",
              "856            FDS27          Regular         0.012456                Meat   \n",
              "\n",
              "      Item_MRP Outlet_Identifier  Outlet_Establishment_Year  \\\n",
              "7503   79.4302            OUT013                       1987   \n",
              "2957   42.7086            OUT046                       1997   \n",
              "7031   42.0454            OUT049                       1999   \n",
              "1084  173.7054            OUT027                       1985   \n",
              "856   197.5110            OUT035                       2004   \n",
              "\n",
              "     Outlet_Location_Type        Outlet_Type  True Median Price  \\\n",
              "7503               Tier 3  Supermarket Type1          1743.0644   \n",
              "2957               Tier 1  Supermarket Type1           356.8688   \n",
              "7031               Tier 1  Supermarket Type1           377.5086   \n",
              "1084               Tier 3  Supermarket Type3          5778.4782   \n",
              "856                Tier 2  Supermarket Type1          2356.9320   \n",
              "\n",
              "      Predicted Median Price      Error  \n",
              "7503                   846.0  -897.0644  \n",
              "2957                  1030.0   673.1312  \n",
              "7031                  1302.0   924.4914  \n",
              "1084                  3682.0 -2096.4782  \n",
              "856                   1860.0  -496.9320  "
            ],
            "text/html": [
              "<div>\n",
              "<style scoped>\n",
              "    .dataframe tbody tr th:only-of-type {\n",
              "        vertical-align: middle;\n",
              "    }\n",
              "\n",
              "    .dataframe tbody tr th {\n",
              "        vertical-align: top;\n",
              "    }\n",
              "\n",
              "    .dataframe thead th {\n",
              "        text-align: right;\n",
              "    }\n",
              "</style>\n",
              "<table border=\"1\" class=\"dataframe\">\n",
              "  <thead>\n",
              "    <tr style=\"text-align: right;\">\n",
              "      <th></th>\n",
              "      <th>Item_Identifier</th>\n",
              "      <th>Item_Fat_Content</th>\n",
              "      <th>Item_Visibility</th>\n",
              "      <th>Item_Type</th>\n",
              "      <th>Item_MRP</th>\n",
              "      <th>Outlet_Identifier</th>\n",
              "      <th>Outlet_Establishment_Year</th>\n",
              "      <th>Outlet_Location_Type</th>\n",
              "      <th>Outlet_Type</th>\n",
              "      <th>True Median Price</th>\n",
              "      <th>Predicted Median Price</th>\n",
              "      <th>Error</th>\n",
              "    </tr>\n",
              "  </thead>\n",
              "  <tbody>\n",
              "    <tr>\n",
              "      <th>7503</th>\n",
              "      <td>FDI28</td>\n",
              "      <td>Low Fat</td>\n",
              "      <td>0.026300</td>\n",
              "      <td>Frozen Foods</td>\n",
              "      <td>79.4302</td>\n",
              "      <td>OUT013</td>\n",
              "      <td>1987</td>\n",
              "      <td>Tier 3</td>\n",
              "      <td>Supermarket Type1</td>\n",
              "      <td>1743.0644</td>\n",
              "      <td>846.0</td>\n",
              "      <td>-897.0644</td>\n",
              "    </tr>\n",
              "    <tr>\n",
              "      <th>2957</th>\n",
              "      <td>NCM17</td>\n",
              "      <td>Low Fat</td>\n",
              "      <td>0.071136</td>\n",
              "      <td>Health and Hygiene</td>\n",
              "      <td>42.7086</td>\n",
              "      <td>OUT046</td>\n",
              "      <td>1997</td>\n",
              "      <td>Tier 1</td>\n",
              "      <td>Supermarket Type1</td>\n",
              "      <td>356.8688</td>\n",
              "      <td>1030.0</td>\n",
              "      <td>673.1312</td>\n",
              "    </tr>\n",
              "    <tr>\n",
              "      <th>7031</th>\n",
              "      <td>FDC14</td>\n",
              "      <td>Regular</td>\n",
              "      <td>0.041313</td>\n",
              "      <td>Canned</td>\n",
              "      <td>42.0454</td>\n",
              "      <td>OUT049</td>\n",
              "      <td>1999</td>\n",
              "      <td>Tier 1</td>\n",
              "      <td>Supermarket Type1</td>\n",
              "      <td>377.5086</td>\n",
              "      <td>1302.0</td>\n",
              "      <td>924.4914</td>\n",
              "    </tr>\n",
              "    <tr>\n",
              "      <th>1084</th>\n",
              "      <td>DRC36</td>\n",
              "      <td>Regular</td>\n",
              "      <td>0.044767</td>\n",
              "      <td>Soft Drinks</td>\n",
              "      <td>173.7054</td>\n",
              "      <td>OUT027</td>\n",
              "      <td>1985</td>\n",
              "      <td>Tier 3</td>\n",
              "      <td>Supermarket Type3</td>\n",
              "      <td>5778.4782</td>\n",
              "      <td>3682.0</td>\n",
              "      <td>-2096.4782</td>\n",
              "    </tr>\n",
              "    <tr>\n",
              "      <th>856</th>\n",
              "      <td>FDS27</td>\n",
              "      <td>Regular</td>\n",
              "      <td>0.012456</td>\n",
              "      <td>Meat</td>\n",
              "      <td>197.5110</td>\n",
              "      <td>OUT035</td>\n",
              "      <td>2004</td>\n",
              "      <td>Tier 2</td>\n",
              "      <td>Supermarket Type1</td>\n",
              "      <td>2356.9320</td>\n",
              "      <td>1860.0</td>\n",
              "      <td>-496.9320</td>\n",
              "    </tr>\n",
              "  </tbody>\n",
              "</table>\n",
              "</div>"
            ]
          },
          "metadata": {},
          "execution_count": 46
        }
      ]
    },
    {
      "cell_type": "code",
      "source": [
        "from sklearn.metrics import mean_absolute_error, mean_squared_error, r2_score"
      ],
      "metadata": {
        "id": "ns3CMqYzYZ0e"
      },
      "execution_count": 47,
      "outputs": []
    },
    {
      "cell_type": "code",
      "source": [
        "## Train test split\n",
        "X_train, X_test, y_train, y_test = train_test_split(X,y,random_state=42)\n",
        "X_train.shape"
      ],
      "metadata": {
        "colab": {
          "base_uri": "https://localhost:8080/"
        },
        "id": "xw_uzHFEb30V",
        "outputId": "ce9f563a-ef0b-4650-b336-6db0d741316c"
      },
      "execution_count": 48,
      "outputs": [
        {
          "output_type": "execute_result",
          "data": {
            "text/plain": [
              "(6392, 9)"
            ]
          },
          "metadata": {},
          "execution_count": 48
        }
      ]
    },
    {
      "cell_type": "code",
      "source": [
        "#Create model predictions\n",
        "train_pred = reg_pipe.predict(X_train)\n",
        "test_pred = reg_pipe.predict(X_test)"
      ],
      "metadata": {
        "id": "_PKAZVYUb5Si"
      },
      "execution_count": 49,
      "outputs": []
    },
    {
      "cell_type": "code",
      "source": [
        "train_r2 = r2_score(y_train, train_pred)\n",
        "test_r2 = r2_score(y_test, test_pred)\n",
        "\n",
        "print(f'Model Training R2: {train_r2}')\n",
        "print(f'Model Training R2: {test_r2}')"
      ],
      "metadata": {
        "colab": {
          "base_uri": "https://localhost:8080/"
        },
        "id": "rD0xZKegcEx1",
        "outputId": "d39e404b-5cd4-4a3c-dda2-dff3d46b327d"
      },
      "execution_count": 50,
      "outputs": [
        {
          "output_type": "stream",
          "name": "stdout",
          "text": [
            "Model Training R2: 0.6716902455195761\n",
            "Model Training R2: -2.5856345967184224e+19\n"
          ]
        }
      ]
    },
    {
      "cell_type": "code",
      "source": [
        "train_MAE = np.mean(np.abs(y_train - train_pred))\n",
        "test_MAE = np.mean(np.abs(y_test - test_pred))\n",
        "\n",
        "print(f'Model Training MAE: {train_MAE}')\n",
        "print(f'Model Testing MAE: {test_MAE}')"
      ],
      "metadata": {
        "colab": {
          "base_uri": "https://localhost:8080/"
        },
        "id": "b0siyBTrcH0N",
        "outputId": "04f28cb7-34dd-4390-c476-efa97e2861eb"
      },
      "execution_count": 51,
      "outputs": [
        {
          "output_type": "stream",
          "name": "stdout",
          "text": [
            "Model Training MAE: 735.7825347309141\n",
            "Model Testing MAE: 801007370912.9811\n"
          ]
        }
      ]
    },
    {
      "cell_type": "code",
      "source": [
        "train_MSE = np.mean((y_train - train_pred)**2)\n",
        "test_MSE = np.mean((y_test - test_pred)**2)\n",
        "\n",
        "print(f'Model Training MSE: {train_MSE}')\n",
        "print(f'Model Testing MSE: {test_MSE}')"
      ],
      "metadata": {
        "colab": {
          "base_uri": "https://localhost:8080/"
        },
        "id": "U8hfAW5ocPLe",
        "outputId": "e9b9013a-9952-4f7f-8886-13124896e6b5"
      },
      "execution_count": 52,
      "outputs": [
        {
          "output_type": "stream",
          "name": "stdout",
          "text": [
            "Model Training MSE: 971618.1757488053\n",
            "Model Testing MSE: 7.133707126913248e+25\n"
          ]
        }
      ]
    },
    {
      "cell_type": "code",
      "source": [
        "train_RMSE = np.sqrt(np.mean(y_train - train_pred)**2)\n",
        "test_RMSE = np.sqrt(np.mean(y_test - test_pred)**2)\n",
        "print(f'Model Training RMSE: {train_RMSE}')\n",
        "print(f'Model Testing RMSE: {test_RMSE}')"
      ],
      "metadata": {
        "colab": {
          "base_uri": "https://localhost:8080/"
        },
        "id": "qy88bm7-cb4C",
        "outputId": "853d9a66-b010-4f4c-ce4a-d35e78962a9e"
      },
      "execution_count": 53,
      "outputs": [
        {
          "output_type": "stream",
          "name": "stdout",
          "text": [
            "Model Training RMSE: 0.8939219023779479\n",
            "Model Testing RMSE: 569350123087.0142\n"
          ]
        }
      ]
    },
    {
      "cell_type": "code",
      "source": [
        "from scipy import sparse\n",
        "# Instantiate the Standard Scaler and the One hot encoder\n",
        "scaler = StandardScaler()\n",
        "ohe = OneHotEncoder(handle_unknown='ignore', sparse= False)"
      ],
      "metadata": {
        "id": "liXADXpfavmI"
      },
      "execution_count": 54,
      "outputs": []
    },
    {
      "cell_type": "code",
      "source": [
        "# Make tuples for preprocessing the categorical and numeric columns\n",
        "num_tuple = (scaler, num_selector)\n",
        "cat_tuple = (ohe, cat_selector)"
      ],
      "metadata": {
        "id": "bDrMehUta472"
      },
      "execution_count": 55,
      "outputs": []
    },
    {
      "cell_type": "code",
      "source": [
        "from sklearn.compose import make_column_transformer\n",
        "col_transformer = make_column_transformer(num_tuple, cat_tuple, remainder = 'passthrough')"
      ],
      "metadata": {
        "id": "eVPZd2NBbS3g"
      },
      "execution_count": 56,
      "outputs": []
    },
    {
      "cell_type": "code",
      "source": [
        "col_transformer.fit(X_train)"
      ],
      "metadata": {
        "colab": {
          "base_uri": "https://localhost:8080/",
          "height": 118
        },
        "id": "loHlzfX4bUHm",
        "outputId": "44f64944-c349-47fc-ae19-38c50ab3c923"
      },
      "execution_count": 57,
      "outputs": [
        {
          "output_type": "execute_result",
          "data": {
            "text/plain": [
              "ColumnTransformer(remainder='passthrough',\n",
              "                  transformers=[('standardscaler', StandardScaler(),\n",
              "                                 <sklearn.compose._column_transformer.make_column_selector object at 0x7f6d28a90310>),\n",
              "                                ('onehotencoder',\n",
              "                                 OneHotEncoder(handle_unknown='ignore',\n",
              "                                               sparse=False),\n",
              "                                 <sklearn.compose._column_transformer.make_column_selector object at 0x7f6d28a90350>)])"
            ],
            "text/html": [
              "<style>#sk-01eab194-7b20-4df4-b276-fdb7cbb3930c {color: black;background-color: white;}#sk-01eab194-7b20-4df4-b276-fdb7cbb3930c pre{padding: 0;}#sk-01eab194-7b20-4df4-b276-fdb7cbb3930c div.sk-toggleable {background-color: white;}#sk-01eab194-7b20-4df4-b276-fdb7cbb3930c label.sk-toggleable__label {cursor: pointer;display: block;width: 100%;margin-bottom: 0;padding: 0.3em;box-sizing: border-box;text-align: center;}#sk-01eab194-7b20-4df4-b276-fdb7cbb3930c label.sk-toggleable__label-arrow:before {content: \"▸\";float: left;margin-right: 0.25em;color: #696969;}#sk-01eab194-7b20-4df4-b276-fdb7cbb3930c label.sk-toggleable__label-arrow:hover:before {color: black;}#sk-01eab194-7b20-4df4-b276-fdb7cbb3930c div.sk-estimator:hover label.sk-toggleable__label-arrow:before {color: black;}#sk-01eab194-7b20-4df4-b276-fdb7cbb3930c div.sk-toggleable__content {max-height: 0;max-width: 0;overflow: hidden;text-align: left;background-color: #f0f8ff;}#sk-01eab194-7b20-4df4-b276-fdb7cbb3930c div.sk-toggleable__content pre {margin: 0.2em;color: black;border-radius: 0.25em;background-color: #f0f8ff;}#sk-01eab194-7b20-4df4-b276-fdb7cbb3930c input.sk-toggleable__control:checked~div.sk-toggleable__content {max-height: 200px;max-width: 100%;overflow: auto;}#sk-01eab194-7b20-4df4-b276-fdb7cbb3930c input.sk-toggleable__control:checked~label.sk-toggleable__label-arrow:before {content: \"▾\";}#sk-01eab194-7b20-4df4-b276-fdb7cbb3930c div.sk-estimator input.sk-toggleable__control:checked~label.sk-toggleable__label {background-color: #d4ebff;}#sk-01eab194-7b20-4df4-b276-fdb7cbb3930c div.sk-label input.sk-toggleable__control:checked~label.sk-toggleable__label {background-color: #d4ebff;}#sk-01eab194-7b20-4df4-b276-fdb7cbb3930c input.sk-hidden--visually {border: 0;clip: rect(1px 1px 1px 1px);clip: rect(1px, 1px, 1px, 1px);height: 1px;margin: -1px;overflow: hidden;padding: 0;position: absolute;width: 1px;}#sk-01eab194-7b20-4df4-b276-fdb7cbb3930c div.sk-estimator {font-family: monospace;background-color: #f0f8ff;border: 1px dotted black;border-radius: 0.25em;box-sizing: border-box;margin-bottom: 0.5em;}#sk-01eab194-7b20-4df4-b276-fdb7cbb3930c div.sk-estimator:hover {background-color: #d4ebff;}#sk-01eab194-7b20-4df4-b276-fdb7cbb3930c div.sk-parallel-item::after {content: \"\";width: 100%;border-bottom: 1px solid gray;flex-grow: 1;}#sk-01eab194-7b20-4df4-b276-fdb7cbb3930c div.sk-label:hover label.sk-toggleable__label {background-color: #d4ebff;}#sk-01eab194-7b20-4df4-b276-fdb7cbb3930c div.sk-serial::before {content: \"\";position: absolute;border-left: 1px solid gray;box-sizing: border-box;top: 2em;bottom: 0;left: 50%;}#sk-01eab194-7b20-4df4-b276-fdb7cbb3930c div.sk-serial {display: flex;flex-direction: column;align-items: center;background-color: white;padding-right: 0.2em;padding-left: 0.2em;}#sk-01eab194-7b20-4df4-b276-fdb7cbb3930c div.sk-item {z-index: 1;}#sk-01eab194-7b20-4df4-b276-fdb7cbb3930c div.sk-parallel {display: flex;align-items: stretch;justify-content: center;background-color: white;}#sk-01eab194-7b20-4df4-b276-fdb7cbb3930c div.sk-parallel::before {content: \"\";position: absolute;border-left: 1px solid gray;box-sizing: border-box;top: 2em;bottom: 0;left: 50%;}#sk-01eab194-7b20-4df4-b276-fdb7cbb3930c div.sk-parallel-item {display: flex;flex-direction: column;position: relative;background-color: white;}#sk-01eab194-7b20-4df4-b276-fdb7cbb3930c div.sk-parallel-item:first-child::after {align-self: flex-end;width: 50%;}#sk-01eab194-7b20-4df4-b276-fdb7cbb3930c div.sk-parallel-item:last-child::after {align-self: flex-start;width: 50%;}#sk-01eab194-7b20-4df4-b276-fdb7cbb3930c div.sk-parallel-item:only-child::after {width: 0;}#sk-01eab194-7b20-4df4-b276-fdb7cbb3930c div.sk-dashed-wrapped {border: 1px dashed gray;margin: 0 0.4em 0.5em 0.4em;box-sizing: border-box;padding-bottom: 0.4em;background-color: white;position: relative;}#sk-01eab194-7b20-4df4-b276-fdb7cbb3930c div.sk-label label {font-family: monospace;font-weight: bold;background-color: white;display: inline-block;line-height: 1.2em;}#sk-01eab194-7b20-4df4-b276-fdb7cbb3930c div.sk-label-container {position: relative;z-index: 2;text-align: center;}#sk-01eab194-7b20-4df4-b276-fdb7cbb3930c div.sk-container {/* jupyter's `normalize.less` sets `[hidden] { display: none; }` but bootstrap.min.css set `[hidden] { display: none !important; }` so we also need the `!important` here to be able to override the default hidden behavior on the sphinx rendered scikit-learn.org. See: https://github.com/scikit-learn/scikit-learn/issues/21755 */display: inline-block !important;position: relative;}#sk-01eab194-7b20-4df4-b276-fdb7cbb3930c div.sk-text-repr-fallback {display: none;}</style><div id=\"sk-01eab194-7b20-4df4-b276-fdb7cbb3930c\" class=\"sk-top-container\"><div class=\"sk-text-repr-fallback\"><pre>ColumnTransformer(remainder=&#x27;passthrough&#x27;,\n",
              "                  transformers=[(&#x27;standardscaler&#x27;, StandardScaler(),\n",
              "                                 &lt;sklearn.compose._column_transformer.make_column_selector object at 0x7f6d28a90310&gt;),\n",
              "                                (&#x27;onehotencoder&#x27;,\n",
              "                                 OneHotEncoder(handle_unknown=&#x27;ignore&#x27;,\n",
              "                                               sparse=False),\n",
              "                                 &lt;sklearn.compose._column_transformer.make_column_selector object at 0x7f6d28a90350&gt;)])</pre><b>Please rerun this cell to show the HTML repr or trust the notebook.</b></div><div class=\"sk-container\" hidden><div class=\"sk-item sk-dashed-wrapped\"><div class=\"sk-label-container\"><div class=\"sk-label sk-toggleable\"><input class=\"sk-toggleable__control sk-hidden--visually\" id=\"e5e5d4d0-549c-49f7-9d94-b3a6eae51187\" type=\"checkbox\" ><label for=\"e5e5d4d0-549c-49f7-9d94-b3a6eae51187\" class=\"sk-toggleable__label sk-toggleable__label-arrow\">ColumnTransformer</label><div class=\"sk-toggleable__content\"><pre>ColumnTransformer(remainder=&#x27;passthrough&#x27;,\n",
              "                  transformers=[(&#x27;standardscaler&#x27;, StandardScaler(),\n",
              "                                 &lt;sklearn.compose._column_transformer.make_column_selector object at 0x7f6d28a90310&gt;),\n",
              "                                (&#x27;onehotencoder&#x27;,\n",
              "                                 OneHotEncoder(handle_unknown=&#x27;ignore&#x27;,\n",
              "                                               sparse=False),\n",
              "                                 &lt;sklearn.compose._column_transformer.make_column_selector object at 0x7f6d28a90350&gt;)])</pre></div></div></div><div class=\"sk-parallel\"><div class=\"sk-parallel-item\"><div class=\"sk-item\"><div class=\"sk-label-container\"><div class=\"sk-label sk-toggleable\"><input class=\"sk-toggleable__control sk-hidden--visually\" id=\"de124cda-2c57-46d3-b8f3-1842558f55bb\" type=\"checkbox\" ><label for=\"de124cda-2c57-46d3-b8f3-1842558f55bb\" class=\"sk-toggleable__label sk-toggleable__label-arrow\">standardscaler</label><div class=\"sk-toggleable__content\"><pre>&lt;sklearn.compose._column_transformer.make_column_selector object at 0x7f6d28a90310&gt;</pre></div></div></div><div class=\"sk-serial\"><div class=\"sk-item\"><div class=\"sk-estimator sk-toggleable\"><input class=\"sk-toggleable__control sk-hidden--visually\" id=\"29eaab00-a3e7-4588-bcd4-7b3509c80105\" type=\"checkbox\" ><label for=\"29eaab00-a3e7-4588-bcd4-7b3509c80105\" class=\"sk-toggleable__label sk-toggleable__label-arrow\">StandardScaler</label><div class=\"sk-toggleable__content\"><pre>StandardScaler()</pre></div></div></div></div></div></div><div class=\"sk-parallel-item\"><div class=\"sk-item\"><div class=\"sk-label-container\"><div class=\"sk-label sk-toggleable\"><input class=\"sk-toggleable__control sk-hidden--visually\" id=\"8b1f10fa-1dc0-4d0e-b73f-55bb4a2eae48\" type=\"checkbox\" ><label for=\"8b1f10fa-1dc0-4d0e-b73f-55bb4a2eae48\" class=\"sk-toggleable__label sk-toggleable__label-arrow\">onehotencoder</label><div class=\"sk-toggleable__content\"><pre>&lt;sklearn.compose._column_transformer.make_column_selector object at 0x7f6d28a90350&gt;</pre></div></div></div><div class=\"sk-serial\"><div class=\"sk-item\"><div class=\"sk-estimator sk-toggleable\"><input class=\"sk-toggleable__control sk-hidden--visually\" id=\"0b530280-5210-4724-9d17-a17350dcbad2\" type=\"checkbox\" ><label for=\"0b530280-5210-4724-9d17-a17350dcbad2\" class=\"sk-toggleable__label sk-toggleable__label-arrow\">OneHotEncoder</label><div class=\"sk-toggleable__content\"><pre>OneHotEncoder(handle_unknown=&#x27;ignore&#x27;, sparse=False)</pre></div></div></div></div></div></div><div class=\"sk-parallel-item\"><div class=\"sk-item\"><div class=\"sk-label-container\"><div class=\"sk-label sk-toggleable\"><input class=\"sk-toggleable__control sk-hidden--visually\" id=\"f86f5607-624f-4294-ad8e-68b48df1521e\" type=\"checkbox\" ><label for=\"f86f5607-624f-4294-ad8e-68b48df1521e\" class=\"sk-toggleable__label sk-toggleable__label-arrow\">remainder</label><div class=\"sk-toggleable__content\"><pre>[]</pre></div></div></div><div class=\"sk-serial\"><div class=\"sk-item\"><div class=\"sk-estimator sk-toggleable\"><input class=\"sk-toggleable__control sk-hidden--visually\" id=\"44e008ea-32c0-4489-95df-69e28d83df5a\" type=\"checkbox\" ><label for=\"44e008ea-32c0-4489-95df-69e28d83df5a\" class=\"sk-toggleable__label sk-toggleable__label-arrow\">passthrough</label><div class=\"sk-toggleable__content\"><pre>passthrough</pre></div></div></div></div></div></div></div></div></div></div>"
            ]
          },
          "metadata": {},
          "execution_count": 57
        }
      ]
    },
    {
      "cell_type": "code",
      "source": [
        "X_train_processed = col_transformer.transform(X_train)\n",
        "X_test_processed = col_transformer.transform(X_test)"
      ],
      "metadata": {
        "id": "mMItOqaSbfM1"
      },
      "execution_count": 58,
      "outputs": []
    },
    {
      "cell_type": "code",
      "source": [
        "X_train_df = pd.DataFrame(X_train_processed)\n",
        "X_train_df.head()"
      ],
      "metadata": {
        "colab": {
          "base_uri": "https://localhost:8080/",
          "height": 236
        },
        "id": "gEEPuQHhbmkO",
        "outputId": "e9b87bf5-c3e3-442d-ab58-50dfc263e62b"
      },
      "execution_count": 59,
      "outputs": [
        {
          "output_type": "execute_result",
          "data": {
            "text/plain": [
              "       0         1         2     3     4     5     6     7     8     9     \\\n",
              "0 -0.712775  1.828109  1.327849   0.0   0.0   0.0   0.0   0.0   0.0   0.0   \n",
              "1 -1.291052  0.603369  1.327849   0.0   0.0   0.0   0.0   0.0   0.0   0.0   \n",
              "2  1.813319  0.244541  0.136187   0.0   0.0   0.0   0.0   0.0   0.0   0.0   \n",
              "3 -1.004931 -0.952591  0.732018   0.0   0.0   0.0   0.0   0.0   0.0   0.0   \n",
              "4 -0.965484 -0.336460  0.493686   0.0   0.0   0.0   0.0   0.0   0.0   0.0   \n",
              "\n",
              "   ...  1578  1579  1580  1581  1582  1583  1584  1585  1586  1587  \n",
              "0  ...   0.0   0.0   0.0   0.0   0.0   1.0   0.0   0.0   1.0   0.0  \n",
              "1  ...   0.0   0.0   0.0   0.0   0.0   1.0   0.0   0.0   1.0   0.0  \n",
              "2  ...   0.0   0.0   1.0   1.0   0.0   0.0   0.0   1.0   0.0   0.0  \n",
              "3  ...   0.0   0.0   0.0   0.0   1.0   0.0   0.0   1.0   0.0   0.0  \n",
              "4  ...   1.0   0.0   0.0   0.0   1.0   0.0   0.0   1.0   0.0   0.0  \n",
              "\n",
              "[5 rows x 1588 columns]"
            ],
            "text/html": [
              "<div>\n",
              "<style scoped>\n",
              "    .dataframe tbody tr th:only-of-type {\n",
              "        vertical-align: middle;\n",
              "    }\n",
              "\n",
              "    .dataframe tbody tr th {\n",
              "        vertical-align: top;\n",
              "    }\n",
              "\n",
              "    .dataframe thead th {\n",
              "        text-align: right;\n",
              "    }\n",
              "</style>\n",
              "<table border=\"1\" class=\"dataframe\">\n",
              "  <thead>\n",
              "    <tr style=\"text-align: right;\">\n",
              "      <th></th>\n",
              "      <th>0</th>\n",
              "      <th>1</th>\n",
              "      <th>2</th>\n",
              "      <th>3</th>\n",
              "      <th>4</th>\n",
              "      <th>5</th>\n",
              "      <th>6</th>\n",
              "      <th>7</th>\n",
              "      <th>8</th>\n",
              "      <th>9</th>\n",
              "      <th>...</th>\n",
              "      <th>1578</th>\n",
              "      <th>1579</th>\n",
              "      <th>1580</th>\n",
              "      <th>1581</th>\n",
              "      <th>1582</th>\n",
              "      <th>1583</th>\n",
              "      <th>1584</th>\n",
              "      <th>1585</th>\n",
              "      <th>1586</th>\n",
              "      <th>1587</th>\n",
              "    </tr>\n",
              "  </thead>\n",
              "  <tbody>\n",
              "    <tr>\n",
              "      <th>0</th>\n",
              "      <td>-0.712775</td>\n",
              "      <td>1.828109</td>\n",
              "      <td>1.327849</td>\n",
              "      <td>0.0</td>\n",
              "      <td>0.0</td>\n",
              "      <td>0.0</td>\n",
              "      <td>0.0</td>\n",
              "      <td>0.0</td>\n",
              "      <td>0.0</td>\n",
              "      <td>0.0</td>\n",
              "      <td>...</td>\n",
              "      <td>0.0</td>\n",
              "      <td>0.0</td>\n",
              "      <td>0.0</td>\n",
              "      <td>0.0</td>\n",
              "      <td>0.0</td>\n",
              "      <td>1.0</td>\n",
              "      <td>0.0</td>\n",
              "      <td>0.0</td>\n",
              "      <td>1.0</td>\n",
              "      <td>0.0</td>\n",
              "    </tr>\n",
              "    <tr>\n",
              "      <th>1</th>\n",
              "      <td>-1.291052</td>\n",
              "      <td>0.603369</td>\n",
              "      <td>1.327849</td>\n",
              "      <td>0.0</td>\n",
              "      <td>0.0</td>\n",
              "      <td>0.0</td>\n",
              "      <td>0.0</td>\n",
              "      <td>0.0</td>\n",
              "      <td>0.0</td>\n",
              "      <td>0.0</td>\n",
              "      <td>...</td>\n",
              "      <td>0.0</td>\n",
              "      <td>0.0</td>\n",
              "      <td>0.0</td>\n",
              "      <td>0.0</td>\n",
              "      <td>0.0</td>\n",
              "      <td>1.0</td>\n",
              "      <td>0.0</td>\n",
              "      <td>0.0</td>\n",
              "      <td>1.0</td>\n",
              "      <td>0.0</td>\n",
              "    </tr>\n",
              "    <tr>\n",
              "      <th>2</th>\n",
              "      <td>1.813319</td>\n",
              "      <td>0.244541</td>\n",
              "      <td>0.136187</td>\n",
              "      <td>0.0</td>\n",
              "      <td>0.0</td>\n",
              "      <td>0.0</td>\n",
              "      <td>0.0</td>\n",
              "      <td>0.0</td>\n",
              "      <td>0.0</td>\n",
              "      <td>0.0</td>\n",
              "      <td>...</td>\n",
              "      <td>0.0</td>\n",
              "      <td>0.0</td>\n",
              "      <td>1.0</td>\n",
              "      <td>1.0</td>\n",
              "      <td>0.0</td>\n",
              "      <td>0.0</td>\n",
              "      <td>0.0</td>\n",
              "      <td>1.0</td>\n",
              "      <td>0.0</td>\n",
              "      <td>0.0</td>\n",
              "    </tr>\n",
              "    <tr>\n",
              "      <th>3</th>\n",
              "      <td>-1.004931</td>\n",
              "      <td>-0.952591</td>\n",
              "      <td>0.732018</td>\n",
              "      <td>0.0</td>\n",
              "      <td>0.0</td>\n",
              "      <td>0.0</td>\n",
              "      <td>0.0</td>\n",
              "      <td>0.0</td>\n",
              "      <td>0.0</td>\n",
              "      <td>0.0</td>\n",
              "      <td>...</td>\n",
              "      <td>0.0</td>\n",
              "      <td>0.0</td>\n",
              "      <td>0.0</td>\n",
              "      <td>0.0</td>\n",
              "      <td>1.0</td>\n",
              "      <td>0.0</td>\n",
              "      <td>0.0</td>\n",
              "      <td>1.0</td>\n",
              "      <td>0.0</td>\n",
              "      <td>0.0</td>\n",
              "    </tr>\n",
              "    <tr>\n",
              "      <th>4</th>\n",
              "      <td>-0.965484</td>\n",
              "      <td>-0.336460</td>\n",
              "      <td>0.493686</td>\n",
              "      <td>0.0</td>\n",
              "      <td>0.0</td>\n",
              "      <td>0.0</td>\n",
              "      <td>0.0</td>\n",
              "      <td>0.0</td>\n",
              "      <td>0.0</td>\n",
              "      <td>0.0</td>\n",
              "      <td>...</td>\n",
              "      <td>1.0</td>\n",
              "      <td>0.0</td>\n",
              "      <td>0.0</td>\n",
              "      <td>0.0</td>\n",
              "      <td>1.0</td>\n",
              "      <td>0.0</td>\n",
              "      <td>0.0</td>\n",
              "      <td>1.0</td>\n",
              "      <td>0.0</td>\n",
              "      <td>0.0</td>\n",
              "    </tr>\n",
              "  </tbody>\n",
              "</table>\n",
              "<p>5 rows × 1588 columns</p>\n",
              "</div>"
            ]
          },
          "metadata": {},
          "execution_count": 59
        }
      ]
    },
    {
      "cell_type": "code",
      "source": [
        " # Imputers\n",
        "freq_imputer = SimpleImputer(strategy='most_frequent')\n",
        "mean_imputer = SimpleImputer(strategy='mean')\n",
        "# Scaler\n",
        "scaler = StandardScaler()\n",
        "# One-hot encoder\n",
        "ohe = OneHotEncoder(handle_unknown='ignore', sparse=False)"
      ],
      "metadata": {
        "id": "GlR9UWTNbs8r"
      },
      "execution_count": 60,
      "outputs": []
    },
    {
      "cell_type": "code",
      "source": [
        "# Numeric pipeline\n",
        "numeric_pipe = make_pipeline(mean_imputer, scaler)\n",
        "numeric_pipe"
      ],
      "metadata": {
        "colab": {
          "base_uri": "https://localhost:8080/",
          "height": 126
        },
        "id": "c3JDL5DKb44J",
        "outputId": "8b25e0a3-5af1-413a-e373-8e19fafe730d"
      },
      "execution_count": 61,
      "outputs": [
        {
          "output_type": "execute_result",
          "data": {
            "text/plain": [
              "Pipeline(steps=[('simpleimputer', SimpleImputer()),\n",
              "                ('standardscaler', StandardScaler())])"
            ],
            "text/html": [
              "<style>#sk-f5a7aa4b-77e5-4e68-8661-a51d87fb3000 {color: black;background-color: white;}#sk-f5a7aa4b-77e5-4e68-8661-a51d87fb3000 pre{padding: 0;}#sk-f5a7aa4b-77e5-4e68-8661-a51d87fb3000 div.sk-toggleable {background-color: white;}#sk-f5a7aa4b-77e5-4e68-8661-a51d87fb3000 label.sk-toggleable__label {cursor: pointer;display: block;width: 100%;margin-bottom: 0;padding: 0.3em;box-sizing: border-box;text-align: center;}#sk-f5a7aa4b-77e5-4e68-8661-a51d87fb3000 label.sk-toggleable__label-arrow:before {content: \"▸\";float: left;margin-right: 0.25em;color: #696969;}#sk-f5a7aa4b-77e5-4e68-8661-a51d87fb3000 label.sk-toggleable__label-arrow:hover:before {color: black;}#sk-f5a7aa4b-77e5-4e68-8661-a51d87fb3000 div.sk-estimator:hover label.sk-toggleable__label-arrow:before {color: black;}#sk-f5a7aa4b-77e5-4e68-8661-a51d87fb3000 div.sk-toggleable__content {max-height: 0;max-width: 0;overflow: hidden;text-align: left;background-color: #f0f8ff;}#sk-f5a7aa4b-77e5-4e68-8661-a51d87fb3000 div.sk-toggleable__content pre {margin: 0.2em;color: black;border-radius: 0.25em;background-color: #f0f8ff;}#sk-f5a7aa4b-77e5-4e68-8661-a51d87fb3000 input.sk-toggleable__control:checked~div.sk-toggleable__content {max-height: 200px;max-width: 100%;overflow: auto;}#sk-f5a7aa4b-77e5-4e68-8661-a51d87fb3000 input.sk-toggleable__control:checked~label.sk-toggleable__label-arrow:before {content: \"▾\";}#sk-f5a7aa4b-77e5-4e68-8661-a51d87fb3000 div.sk-estimator input.sk-toggleable__control:checked~label.sk-toggleable__label {background-color: #d4ebff;}#sk-f5a7aa4b-77e5-4e68-8661-a51d87fb3000 div.sk-label input.sk-toggleable__control:checked~label.sk-toggleable__label {background-color: #d4ebff;}#sk-f5a7aa4b-77e5-4e68-8661-a51d87fb3000 input.sk-hidden--visually {border: 0;clip: rect(1px 1px 1px 1px);clip: rect(1px, 1px, 1px, 1px);height: 1px;margin: -1px;overflow: hidden;padding: 0;position: absolute;width: 1px;}#sk-f5a7aa4b-77e5-4e68-8661-a51d87fb3000 div.sk-estimator {font-family: monospace;background-color: #f0f8ff;border: 1px dotted black;border-radius: 0.25em;box-sizing: border-box;margin-bottom: 0.5em;}#sk-f5a7aa4b-77e5-4e68-8661-a51d87fb3000 div.sk-estimator:hover {background-color: #d4ebff;}#sk-f5a7aa4b-77e5-4e68-8661-a51d87fb3000 div.sk-parallel-item::after {content: \"\";width: 100%;border-bottom: 1px solid gray;flex-grow: 1;}#sk-f5a7aa4b-77e5-4e68-8661-a51d87fb3000 div.sk-label:hover label.sk-toggleable__label {background-color: #d4ebff;}#sk-f5a7aa4b-77e5-4e68-8661-a51d87fb3000 div.sk-serial::before {content: \"\";position: absolute;border-left: 1px solid gray;box-sizing: border-box;top: 2em;bottom: 0;left: 50%;}#sk-f5a7aa4b-77e5-4e68-8661-a51d87fb3000 div.sk-serial {display: flex;flex-direction: column;align-items: center;background-color: white;padding-right: 0.2em;padding-left: 0.2em;}#sk-f5a7aa4b-77e5-4e68-8661-a51d87fb3000 div.sk-item {z-index: 1;}#sk-f5a7aa4b-77e5-4e68-8661-a51d87fb3000 div.sk-parallel {display: flex;align-items: stretch;justify-content: center;background-color: white;}#sk-f5a7aa4b-77e5-4e68-8661-a51d87fb3000 div.sk-parallel::before {content: \"\";position: absolute;border-left: 1px solid gray;box-sizing: border-box;top: 2em;bottom: 0;left: 50%;}#sk-f5a7aa4b-77e5-4e68-8661-a51d87fb3000 div.sk-parallel-item {display: flex;flex-direction: column;position: relative;background-color: white;}#sk-f5a7aa4b-77e5-4e68-8661-a51d87fb3000 div.sk-parallel-item:first-child::after {align-self: flex-end;width: 50%;}#sk-f5a7aa4b-77e5-4e68-8661-a51d87fb3000 div.sk-parallel-item:last-child::after {align-self: flex-start;width: 50%;}#sk-f5a7aa4b-77e5-4e68-8661-a51d87fb3000 div.sk-parallel-item:only-child::after {width: 0;}#sk-f5a7aa4b-77e5-4e68-8661-a51d87fb3000 div.sk-dashed-wrapped {border: 1px dashed gray;margin: 0 0.4em 0.5em 0.4em;box-sizing: border-box;padding-bottom: 0.4em;background-color: white;position: relative;}#sk-f5a7aa4b-77e5-4e68-8661-a51d87fb3000 div.sk-label label {font-family: monospace;font-weight: bold;background-color: white;display: inline-block;line-height: 1.2em;}#sk-f5a7aa4b-77e5-4e68-8661-a51d87fb3000 div.sk-label-container {position: relative;z-index: 2;text-align: center;}#sk-f5a7aa4b-77e5-4e68-8661-a51d87fb3000 div.sk-container {/* jupyter's `normalize.less` sets `[hidden] { display: none; }` but bootstrap.min.css set `[hidden] { display: none !important; }` so we also need the `!important` here to be able to override the default hidden behavior on the sphinx rendered scikit-learn.org. See: https://github.com/scikit-learn/scikit-learn/issues/21755 */display: inline-block !important;position: relative;}#sk-f5a7aa4b-77e5-4e68-8661-a51d87fb3000 div.sk-text-repr-fallback {display: none;}</style><div id=\"sk-f5a7aa4b-77e5-4e68-8661-a51d87fb3000\" class=\"sk-top-container\"><div class=\"sk-text-repr-fallback\"><pre>Pipeline(steps=[(&#x27;simpleimputer&#x27;, SimpleImputer()),\n",
              "                (&#x27;standardscaler&#x27;, StandardScaler())])</pre><b>Please rerun this cell to show the HTML repr or trust the notebook.</b></div><div class=\"sk-container\" hidden><div class=\"sk-item sk-dashed-wrapped\"><div class=\"sk-label-container\"><div class=\"sk-label sk-toggleable\"><input class=\"sk-toggleable__control sk-hidden--visually\" id=\"0c14bd32-3a6f-4e7f-bbd1-0dcac5f216d3\" type=\"checkbox\" ><label for=\"0c14bd32-3a6f-4e7f-bbd1-0dcac5f216d3\" class=\"sk-toggleable__label sk-toggleable__label-arrow\">Pipeline</label><div class=\"sk-toggleable__content\"><pre>Pipeline(steps=[(&#x27;simpleimputer&#x27;, SimpleImputer()),\n",
              "                (&#x27;standardscaler&#x27;, StandardScaler())])</pre></div></div></div><div class=\"sk-serial\"><div class=\"sk-item\"><div class=\"sk-estimator sk-toggleable\"><input class=\"sk-toggleable__control sk-hidden--visually\" id=\"f3c40b22-c4bf-432a-89d2-f96cb7124e24\" type=\"checkbox\" ><label for=\"f3c40b22-c4bf-432a-89d2-f96cb7124e24\" class=\"sk-toggleable__label sk-toggleable__label-arrow\">SimpleImputer</label><div class=\"sk-toggleable__content\"><pre>SimpleImputer()</pre></div></div></div><div class=\"sk-item\"><div class=\"sk-estimator sk-toggleable\"><input class=\"sk-toggleable__control sk-hidden--visually\" id=\"4cf79e7c-d4b2-4f1b-97f0-e30e0f9a3070\" type=\"checkbox\" ><label for=\"4cf79e7c-d4b2-4f1b-97f0-e30e0f9a3070\" class=\"sk-toggleable__label sk-toggleable__label-arrow\">StandardScaler</label><div class=\"sk-toggleable__content\"><pre>StandardScaler()</pre></div></div></div></div></div></div></div>"
            ]
          },
          "metadata": {},
          "execution_count": 61
        }
      ]
    },
    {
      "cell_type": "code",
      "source": [
        "# Categorical pipeline\n",
        "categorical_pipe = make_pipeline(freq_imputer, ohe)\n",
        "categorical_pipe"
      ],
      "metadata": {
        "colab": {
          "base_uri": "https://localhost:8080/",
          "height": 126
        },
        "id": "jpjfoOJ_cBjS",
        "outputId": "9d40766c-747f-4714-9c18-5bf2d45cc0d2"
      },
      "execution_count": 62,
      "outputs": [
        {
          "output_type": "execute_result",
          "data": {
            "text/plain": [
              "Pipeline(steps=[('simpleimputer', SimpleImputer(strategy='most_frequent')),\n",
              "                ('onehotencoder',\n",
              "                 OneHotEncoder(handle_unknown='ignore', sparse=False))])"
            ],
            "text/html": [
              "<style>#sk-7cccad4d-8b73-4b25-805c-9358f50ea03d {color: black;background-color: white;}#sk-7cccad4d-8b73-4b25-805c-9358f50ea03d pre{padding: 0;}#sk-7cccad4d-8b73-4b25-805c-9358f50ea03d div.sk-toggleable {background-color: white;}#sk-7cccad4d-8b73-4b25-805c-9358f50ea03d label.sk-toggleable__label {cursor: pointer;display: block;width: 100%;margin-bottom: 0;padding: 0.3em;box-sizing: border-box;text-align: center;}#sk-7cccad4d-8b73-4b25-805c-9358f50ea03d label.sk-toggleable__label-arrow:before {content: \"▸\";float: left;margin-right: 0.25em;color: #696969;}#sk-7cccad4d-8b73-4b25-805c-9358f50ea03d label.sk-toggleable__label-arrow:hover:before {color: black;}#sk-7cccad4d-8b73-4b25-805c-9358f50ea03d div.sk-estimator:hover label.sk-toggleable__label-arrow:before {color: black;}#sk-7cccad4d-8b73-4b25-805c-9358f50ea03d div.sk-toggleable__content {max-height: 0;max-width: 0;overflow: hidden;text-align: left;background-color: #f0f8ff;}#sk-7cccad4d-8b73-4b25-805c-9358f50ea03d div.sk-toggleable__content pre {margin: 0.2em;color: black;border-radius: 0.25em;background-color: #f0f8ff;}#sk-7cccad4d-8b73-4b25-805c-9358f50ea03d input.sk-toggleable__control:checked~div.sk-toggleable__content {max-height: 200px;max-width: 100%;overflow: auto;}#sk-7cccad4d-8b73-4b25-805c-9358f50ea03d input.sk-toggleable__control:checked~label.sk-toggleable__label-arrow:before {content: \"▾\";}#sk-7cccad4d-8b73-4b25-805c-9358f50ea03d div.sk-estimator input.sk-toggleable__control:checked~label.sk-toggleable__label {background-color: #d4ebff;}#sk-7cccad4d-8b73-4b25-805c-9358f50ea03d div.sk-label input.sk-toggleable__control:checked~label.sk-toggleable__label {background-color: #d4ebff;}#sk-7cccad4d-8b73-4b25-805c-9358f50ea03d input.sk-hidden--visually {border: 0;clip: rect(1px 1px 1px 1px);clip: rect(1px, 1px, 1px, 1px);height: 1px;margin: -1px;overflow: hidden;padding: 0;position: absolute;width: 1px;}#sk-7cccad4d-8b73-4b25-805c-9358f50ea03d div.sk-estimator {font-family: monospace;background-color: #f0f8ff;border: 1px dotted black;border-radius: 0.25em;box-sizing: border-box;margin-bottom: 0.5em;}#sk-7cccad4d-8b73-4b25-805c-9358f50ea03d div.sk-estimator:hover {background-color: #d4ebff;}#sk-7cccad4d-8b73-4b25-805c-9358f50ea03d div.sk-parallel-item::after {content: \"\";width: 100%;border-bottom: 1px solid gray;flex-grow: 1;}#sk-7cccad4d-8b73-4b25-805c-9358f50ea03d div.sk-label:hover label.sk-toggleable__label {background-color: #d4ebff;}#sk-7cccad4d-8b73-4b25-805c-9358f50ea03d div.sk-serial::before {content: \"\";position: absolute;border-left: 1px solid gray;box-sizing: border-box;top: 2em;bottom: 0;left: 50%;}#sk-7cccad4d-8b73-4b25-805c-9358f50ea03d div.sk-serial {display: flex;flex-direction: column;align-items: center;background-color: white;padding-right: 0.2em;padding-left: 0.2em;}#sk-7cccad4d-8b73-4b25-805c-9358f50ea03d div.sk-item {z-index: 1;}#sk-7cccad4d-8b73-4b25-805c-9358f50ea03d div.sk-parallel {display: flex;align-items: stretch;justify-content: center;background-color: white;}#sk-7cccad4d-8b73-4b25-805c-9358f50ea03d div.sk-parallel::before {content: \"\";position: absolute;border-left: 1px solid gray;box-sizing: border-box;top: 2em;bottom: 0;left: 50%;}#sk-7cccad4d-8b73-4b25-805c-9358f50ea03d div.sk-parallel-item {display: flex;flex-direction: column;position: relative;background-color: white;}#sk-7cccad4d-8b73-4b25-805c-9358f50ea03d div.sk-parallel-item:first-child::after {align-self: flex-end;width: 50%;}#sk-7cccad4d-8b73-4b25-805c-9358f50ea03d div.sk-parallel-item:last-child::after {align-self: flex-start;width: 50%;}#sk-7cccad4d-8b73-4b25-805c-9358f50ea03d div.sk-parallel-item:only-child::after {width: 0;}#sk-7cccad4d-8b73-4b25-805c-9358f50ea03d div.sk-dashed-wrapped {border: 1px dashed gray;margin: 0 0.4em 0.5em 0.4em;box-sizing: border-box;padding-bottom: 0.4em;background-color: white;position: relative;}#sk-7cccad4d-8b73-4b25-805c-9358f50ea03d div.sk-label label {font-family: monospace;font-weight: bold;background-color: white;display: inline-block;line-height: 1.2em;}#sk-7cccad4d-8b73-4b25-805c-9358f50ea03d div.sk-label-container {position: relative;z-index: 2;text-align: center;}#sk-7cccad4d-8b73-4b25-805c-9358f50ea03d div.sk-container {/* jupyter's `normalize.less` sets `[hidden] { display: none; }` but bootstrap.min.css set `[hidden] { display: none !important; }` so we also need the `!important` here to be able to override the default hidden behavior on the sphinx rendered scikit-learn.org. See: https://github.com/scikit-learn/scikit-learn/issues/21755 */display: inline-block !important;position: relative;}#sk-7cccad4d-8b73-4b25-805c-9358f50ea03d div.sk-text-repr-fallback {display: none;}</style><div id=\"sk-7cccad4d-8b73-4b25-805c-9358f50ea03d\" class=\"sk-top-container\"><div class=\"sk-text-repr-fallback\"><pre>Pipeline(steps=[(&#x27;simpleimputer&#x27;, SimpleImputer(strategy=&#x27;most_frequent&#x27;)),\n",
              "                (&#x27;onehotencoder&#x27;,\n",
              "                 OneHotEncoder(handle_unknown=&#x27;ignore&#x27;, sparse=False))])</pre><b>Please rerun this cell to show the HTML repr or trust the notebook.</b></div><div class=\"sk-container\" hidden><div class=\"sk-item sk-dashed-wrapped\"><div class=\"sk-label-container\"><div class=\"sk-label sk-toggleable\"><input class=\"sk-toggleable__control sk-hidden--visually\" id=\"1a102513-c8fc-418a-8f6e-110de5898b4e\" type=\"checkbox\" ><label for=\"1a102513-c8fc-418a-8f6e-110de5898b4e\" class=\"sk-toggleable__label sk-toggleable__label-arrow\">Pipeline</label><div class=\"sk-toggleable__content\"><pre>Pipeline(steps=[(&#x27;simpleimputer&#x27;, SimpleImputer(strategy=&#x27;most_frequent&#x27;)),\n",
              "                (&#x27;onehotencoder&#x27;,\n",
              "                 OneHotEncoder(handle_unknown=&#x27;ignore&#x27;, sparse=False))])</pre></div></div></div><div class=\"sk-serial\"><div class=\"sk-item\"><div class=\"sk-estimator sk-toggleable\"><input class=\"sk-toggleable__control sk-hidden--visually\" id=\"ffa5a2c8-1adb-46d2-a5b9-336c415b4568\" type=\"checkbox\" ><label for=\"ffa5a2c8-1adb-46d2-a5b9-336c415b4568\" class=\"sk-toggleable__label sk-toggleable__label-arrow\">SimpleImputer</label><div class=\"sk-toggleable__content\"><pre>SimpleImputer(strategy=&#x27;most_frequent&#x27;)</pre></div></div></div><div class=\"sk-item\"><div class=\"sk-estimator sk-toggleable\"><input class=\"sk-toggleable__control sk-hidden--visually\" id=\"999d3b87-64fc-47d7-8f96-2b83eb41ab6e\" type=\"checkbox\" ><label for=\"999d3b87-64fc-47d7-8f96-2b83eb41ab6e\" class=\"sk-toggleable__label sk-toggleable__label-arrow\">OneHotEncoder</label><div class=\"sk-toggleable__content\"><pre>OneHotEncoder(handle_unknown=&#x27;ignore&#x27;, sparse=False)</pre></div></div></div></div></div></div></div>"
            ]
          },
          "metadata": {},
          "execution_count": 62
        }
      ]
    },
    {
      "cell_type": "code",
      "source": [
        "# Tuples for Column Transformer\n",
        "number_tuple = (numeric_pipe, num_selector)\n",
        "category_tuple = (categorical_pipe, cat_selector)\n",
        "# ColumnTransformer\n",
        "preprocessor = make_column_transformer(number_tuple, category_tuple)\n",
        "preprocessor"
      ],
      "metadata": {
        "colab": {
          "base_uri": "https://localhost:8080/",
          "height": 152
        },
        "id": "uNEUavc-cGqB",
        "outputId": "bc2026a2-0cc4-43a4-c2d8-f226e5588b64"
      },
      "execution_count": 63,
      "outputs": [
        {
          "output_type": "execute_result",
          "data": {
            "text/plain": [
              "ColumnTransformer(transformers=[('pipeline-1',\n",
              "                                 Pipeline(steps=[('simpleimputer',\n",
              "                                                  SimpleImputer()),\n",
              "                                                 ('standardscaler',\n",
              "                                                  StandardScaler())]),\n",
              "                                 <sklearn.compose._column_transformer.make_column_selector object at 0x7f6d28a90310>),\n",
              "                                ('pipeline-2',\n",
              "                                 Pipeline(steps=[('simpleimputer',\n",
              "                                                  SimpleImputer(strategy='most_frequent')),\n",
              "                                                 ('onehotencoder',\n",
              "                                                  OneHotEncoder(handle_unknown='ignore',\n",
              "                                                                sparse=False))]),\n",
              "                                 <sklearn.compose._column_transformer.make_column_selector object at 0x7f6d28a90350>)])"
            ],
            "text/html": [
              "<style>#sk-3772b310-f36c-4d7f-ba7f-d621d288bd8c {color: black;background-color: white;}#sk-3772b310-f36c-4d7f-ba7f-d621d288bd8c pre{padding: 0;}#sk-3772b310-f36c-4d7f-ba7f-d621d288bd8c div.sk-toggleable {background-color: white;}#sk-3772b310-f36c-4d7f-ba7f-d621d288bd8c label.sk-toggleable__label {cursor: pointer;display: block;width: 100%;margin-bottom: 0;padding: 0.3em;box-sizing: border-box;text-align: center;}#sk-3772b310-f36c-4d7f-ba7f-d621d288bd8c label.sk-toggleable__label-arrow:before {content: \"▸\";float: left;margin-right: 0.25em;color: #696969;}#sk-3772b310-f36c-4d7f-ba7f-d621d288bd8c label.sk-toggleable__label-arrow:hover:before {color: black;}#sk-3772b310-f36c-4d7f-ba7f-d621d288bd8c div.sk-estimator:hover label.sk-toggleable__label-arrow:before {color: black;}#sk-3772b310-f36c-4d7f-ba7f-d621d288bd8c div.sk-toggleable__content {max-height: 0;max-width: 0;overflow: hidden;text-align: left;background-color: #f0f8ff;}#sk-3772b310-f36c-4d7f-ba7f-d621d288bd8c div.sk-toggleable__content pre {margin: 0.2em;color: black;border-radius: 0.25em;background-color: #f0f8ff;}#sk-3772b310-f36c-4d7f-ba7f-d621d288bd8c input.sk-toggleable__control:checked~div.sk-toggleable__content {max-height: 200px;max-width: 100%;overflow: auto;}#sk-3772b310-f36c-4d7f-ba7f-d621d288bd8c input.sk-toggleable__control:checked~label.sk-toggleable__label-arrow:before {content: \"▾\";}#sk-3772b310-f36c-4d7f-ba7f-d621d288bd8c div.sk-estimator input.sk-toggleable__control:checked~label.sk-toggleable__label {background-color: #d4ebff;}#sk-3772b310-f36c-4d7f-ba7f-d621d288bd8c div.sk-label input.sk-toggleable__control:checked~label.sk-toggleable__label {background-color: #d4ebff;}#sk-3772b310-f36c-4d7f-ba7f-d621d288bd8c input.sk-hidden--visually {border: 0;clip: rect(1px 1px 1px 1px);clip: rect(1px, 1px, 1px, 1px);height: 1px;margin: -1px;overflow: hidden;padding: 0;position: absolute;width: 1px;}#sk-3772b310-f36c-4d7f-ba7f-d621d288bd8c div.sk-estimator {font-family: monospace;background-color: #f0f8ff;border: 1px dotted black;border-radius: 0.25em;box-sizing: border-box;margin-bottom: 0.5em;}#sk-3772b310-f36c-4d7f-ba7f-d621d288bd8c div.sk-estimator:hover {background-color: #d4ebff;}#sk-3772b310-f36c-4d7f-ba7f-d621d288bd8c div.sk-parallel-item::after {content: \"\";width: 100%;border-bottom: 1px solid gray;flex-grow: 1;}#sk-3772b310-f36c-4d7f-ba7f-d621d288bd8c div.sk-label:hover label.sk-toggleable__label {background-color: #d4ebff;}#sk-3772b310-f36c-4d7f-ba7f-d621d288bd8c div.sk-serial::before {content: \"\";position: absolute;border-left: 1px solid gray;box-sizing: border-box;top: 2em;bottom: 0;left: 50%;}#sk-3772b310-f36c-4d7f-ba7f-d621d288bd8c div.sk-serial {display: flex;flex-direction: column;align-items: center;background-color: white;padding-right: 0.2em;padding-left: 0.2em;}#sk-3772b310-f36c-4d7f-ba7f-d621d288bd8c div.sk-item {z-index: 1;}#sk-3772b310-f36c-4d7f-ba7f-d621d288bd8c div.sk-parallel {display: flex;align-items: stretch;justify-content: center;background-color: white;}#sk-3772b310-f36c-4d7f-ba7f-d621d288bd8c div.sk-parallel::before {content: \"\";position: absolute;border-left: 1px solid gray;box-sizing: border-box;top: 2em;bottom: 0;left: 50%;}#sk-3772b310-f36c-4d7f-ba7f-d621d288bd8c div.sk-parallel-item {display: flex;flex-direction: column;position: relative;background-color: white;}#sk-3772b310-f36c-4d7f-ba7f-d621d288bd8c div.sk-parallel-item:first-child::after {align-self: flex-end;width: 50%;}#sk-3772b310-f36c-4d7f-ba7f-d621d288bd8c div.sk-parallel-item:last-child::after {align-self: flex-start;width: 50%;}#sk-3772b310-f36c-4d7f-ba7f-d621d288bd8c div.sk-parallel-item:only-child::after {width: 0;}#sk-3772b310-f36c-4d7f-ba7f-d621d288bd8c div.sk-dashed-wrapped {border: 1px dashed gray;margin: 0 0.4em 0.5em 0.4em;box-sizing: border-box;padding-bottom: 0.4em;background-color: white;position: relative;}#sk-3772b310-f36c-4d7f-ba7f-d621d288bd8c div.sk-label label {font-family: monospace;font-weight: bold;background-color: white;display: inline-block;line-height: 1.2em;}#sk-3772b310-f36c-4d7f-ba7f-d621d288bd8c div.sk-label-container {position: relative;z-index: 2;text-align: center;}#sk-3772b310-f36c-4d7f-ba7f-d621d288bd8c div.sk-container {/* jupyter's `normalize.less` sets `[hidden] { display: none; }` but bootstrap.min.css set `[hidden] { display: none !important; }` so we also need the `!important` here to be able to override the default hidden behavior on the sphinx rendered scikit-learn.org. See: https://github.com/scikit-learn/scikit-learn/issues/21755 */display: inline-block !important;position: relative;}#sk-3772b310-f36c-4d7f-ba7f-d621d288bd8c div.sk-text-repr-fallback {display: none;}</style><div id=\"sk-3772b310-f36c-4d7f-ba7f-d621d288bd8c\" class=\"sk-top-container\"><div class=\"sk-text-repr-fallback\"><pre>ColumnTransformer(transformers=[(&#x27;pipeline-1&#x27;,\n",
              "                                 Pipeline(steps=[(&#x27;simpleimputer&#x27;,\n",
              "                                                  SimpleImputer()),\n",
              "                                                 (&#x27;standardscaler&#x27;,\n",
              "                                                  StandardScaler())]),\n",
              "                                 &lt;sklearn.compose._column_transformer.make_column_selector object at 0x7f6d28a90310&gt;),\n",
              "                                (&#x27;pipeline-2&#x27;,\n",
              "                                 Pipeline(steps=[(&#x27;simpleimputer&#x27;,\n",
              "                                                  SimpleImputer(strategy=&#x27;most_frequent&#x27;)),\n",
              "                                                 (&#x27;onehotencoder&#x27;,\n",
              "                                                  OneHotEncoder(handle_unknown=&#x27;ignore&#x27;,\n",
              "                                                                sparse=False))]),\n",
              "                                 &lt;sklearn.compose._column_transformer.make_column_selector object at 0x7f6d28a90350&gt;)])</pre><b>Please rerun this cell to show the HTML repr or trust the notebook.</b></div><div class=\"sk-container\" hidden><div class=\"sk-item sk-dashed-wrapped\"><div class=\"sk-label-container\"><div class=\"sk-label sk-toggleable\"><input class=\"sk-toggleable__control sk-hidden--visually\" id=\"a3104686-5115-4a62-970a-7fc3d9c3eb63\" type=\"checkbox\" ><label for=\"a3104686-5115-4a62-970a-7fc3d9c3eb63\" class=\"sk-toggleable__label sk-toggleable__label-arrow\">ColumnTransformer</label><div class=\"sk-toggleable__content\"><pre>ColumnTransformer(transformers=[(&#x27;pipeline-1&#x27;,\n",
              "                                 Pipeline(steps=[(&#x27;simpleimputer&#x27;,\n",
              "                                                  SimpleImputer()),\n",
              "                                                 (&#x27;standardscaler&#x27;,\n",
              "                                                  StandardScaler())]),\n",
              "                                 &lt;sklearn.compose._column_transformer.make_column_selector object at 0x7f6d28a90310&gt;),\n",
              "                                (&#x27;pipeline-2&#x27;,\n",
              "                                 Pipeline(steps=[(&#x27;simpleimputer&#x27;,\n",
              "                                                  SimpleImputer(strategy=&#x27;most_frequent&#x27;)),\n",
              "                                                 (&#x27;onehotencoder&#x27;,\n",
              "                                                  OneHotEncoder(handle_unknown=&#x27;ignore&#x27;,\n",
              "                                                                sparse=False))]),\n",
              "                                 &lt;sklearn.compose._column_transformer.make_column_selector object at 0x7f6d28a90350&gt;)])</pre></div></div></div><div class=\"sk-parallel\"><div class=\"sk-parallel-item\"><div class=\"sk-item\"><div class=\"sk-label-container\"><div class=\"sk-label sk-toggleable\"><input class=\"sk-toggleable__control sk-hidden--visually\" id=\"5f5989a0-fd5b-40ad-82d5-05112c777bfd\" type=\"checkbox\" ><label for=\"5f5989a0-fd5b-40ad-82d5-05112c777bfd\" class=\"sk-toggleable__label sk-toggleable__label-arrow\">pipeline-1</label><div class=\"sk-toggleable__content\"><pre>&lt;sklearn.compose._column_transformer.make_column_selector object at 0x7f6d28a90310&gt;</pre></div></div></div><div class=\"sk-serial\"><div class=\"sk-item\"><div class=\"sk-serial\"><div class=\"sk-item\"><div class=\"sk-estimator sk-toggleable\"><input class=\"sk-toggleable__control sk-hidden--visually\" id=\"bf73ac92-c48f-40f1-b85d-0bd961e4f7c2\" type=\"checkbox\" ><label for=\"bf73ac92-c48f-40f1-b85d-0bd961e4f7c2\" class=\"sk-toggleable__label sk-toggleable__label-arrow\">SimpleImputer</label><div class=\"sk-toggleable__content\"><pre>SimpleImputer()</pre></div></div></div><div class=\"sk-item\"><div class=\"sk-estimator sk-toggleable\"><input class=\"sk-toggleable__control sk-hidden--visually\" id=\"b730880b-92c6-40e9-b417-5a94a9c43d51\" type=\"checkbox\" ><label for=\"b730880b-92c6-40e9-b417-5a94a9c43d51\" class=\"sk-toggleable__label sk-toggleable__label-arrow\">StandardScaler</label><div class=\"sk-toggleable__content\"><pre>StandardScaler()</pre></div></div></div></div></div></div></div></div><div class=\"sk-parallel-item\"><div class=\"sk-item\"><div class=\"sk-label-container\"><div class=\"sk-label sk-toggleable\"><input class=\"sk-toggleable__control sk-hidden--visually\" id=\"ee013a84-f341-4e24-9016-03c4ccb21e0e\" type=\"checkbox\" ><label for=\"ee013a84-f341-4e24-9016-03c4ccb21e0e\" class=\"sk-toggleable__label sk-toggleable__label-arrow\">pipeline-2</label><div class=\"sk-toggleable__content\"><pre>&lt;sklearn.compose._column_transformer.make_column_selector object at 0x7f6d28a90350&gt;</pre></div></div></div><div class=\"sk-serial\"><div class=\"sk-item\"><div class=\"sk-serial\"><div class=\"sk-item\"><div class=\"sk-estimator sk-toggleable\"><input class=\"sk-toggleable__control sk-hidden--visually\" id=\"ea010833-9437-419c-bea0-e7c23d06f8e2\" type=\"checkbox\" ><label for=\"ea010833-9437-419c-bea0-e7c23d06f8e2\" class=\"sk-toggleable__label sk-toggleable__label-arrow\">SimpleImputer</label><div class=\"sk-toggleable__content\"><pre>SimpleImputer(strategy=&#x27;most_frequent&#x27;)</pre></div></div></div><div class=\"sk-item\"><div class=\"sk-estimator sk-toggleable\"><input class=\"sk-toggleable__control sk-hidden--visually\" id=\"b70b1752-d7c6-47d0-9ad5-74361eb5d77e\" type=\"checkbox\" ><label for=\"b70b1752-d7c6-47d0-9ad5-74361eb5d77e\" class=\"sk-toggleable__label sk-toggleable__label-arrow\">OneHotEncoder</label><div class=\"sk-toggleable__content\"><pre>OneHotEncoder(handle_unknown=&#x27;ignore&#x27;, sparse=False)</pre></div></div></div></div></div></div></div></div></div></div></div></div>"
            ]
          },
          "metadata": {},
          "execution_count": 63
        }
      ]
    },
    {
      "cell_type": "code",
      "source": [
        "# fit on train\n",
        "preprocessor.fit(X_train)"
      ],
      "metadata": {
        "colab": {
          "base_uri": "https://localhost:8080/",
          "height": 152
        },
        "id": "GQeeEghZclDI",
        "outputId": "17c8c135-9e81-4b77-87ec-0cf43a52a795"
      },
      "execution_count": 64,
      "outputs": [
        {
          "output_type": "execute_result",
          "data": {
            "text/plain": [
              "ColumnTransformer(transformers=[('pipeline-1',\n",
              "                                 Pipeline(steps=[('simpleimputer',\n",
              "                                                  SimpleImputer()),\n",
              "                                                 ('standardscaler',\n",
              "                                                  StandardScaler())]),\n",
              "                                 <sklearn.compose._column_transformer.make_column_selector object at 0x7f6d28a90310>),\n",
              "                                ('pipeline-2',\n",
              "                                 Pipeline(steps=[('simpleimputer',\n",
              "                                                  SimpleImputer(strategy='most_frequent')),\n",
              "                                                 ('onehotencoder',\n",
              "                                                  OneHotEncoder(handle_unknown='ignore',\n",
              "                                                                sparse=False))]),\n",
              "                                 <sklearn.compose._column_transformer.make_column_selector object at 0x7f6d28a90350>)])"
            ],
            "text/html": [
              "<style>#sk-0f0ab166-1435-4622-b095-3845cc023a8b {color: black;background-color: white;}#sk-0f0ab166-1435-4622-b095-3845cc023a8b pre{padding: 0;}#sk-0f0ab166-1435-4622-b095-3845cc023a8b div.sk-toggleable {background-color: white;}#sk-0f0ab166-1435-4622-b095-3845cc023a8b label.sk-toggleable__label {cursor: pointer;display: block;width: 100%;margin-bottom: 0;padding: 0.3em;box-sizing: border-box;text-align: center;}#sk-0f0ab166-1435-4622-b095-3845cc023a8b label.sk-toggleable__label-arrow:before {content: \"▸\";float: left;margin-right: 0.25em;color: #696969;}#sk-0f0ab166-1435-4622-b095-3845cc023a8b label.sk-toggleable__label-arrow:hover:before {color: black;}#sk-0f0ab166-1435-4622-b095-3845cc023a8b div.sk-estimator:hover label.sk-toggleable__label-arrow:before {color: black;}#sk-0f0ab166-1435-4622-b095-3845cc023a8b div.sk-toggleable__content {max-height: 0;max-width: 0;overflow: hidden;text-align: left;background-color: #f0f8ff;}#sk-0f0ab166-1435-4622-b095-3845cc023a8b div.sk-toggleable__content pre {margin: 0.2em;color: black;border-radius: 0.25em;background-color: #f0f8ff;}#sk-0f0ab166-1435-4622-b095-3845cc023a8b input.sk-toggleable__control:checked~div.sk-toggleable__content {max-height: 200px;max-width: 100%;overflow: auto;}#sk-0f0ab166-1435-4622-b095-3845cc023a8b input.sk-toggleable__control:checked~label.sk-toggleable__label-arrow:before {content: \"▾\";}#sk-0f0ab166-1435-4622-b095-3845cc023a8b div.sk-estimator input.sk-toggleable__control:checked~label.sk-toggleable__label {background-color: #d4ebff;}#sk-0f0ab166-1435-4622-b095-3845cc023a8b div.sk-label input.sk-toggleable__control:checked~label.sk-toggleable__label {background-color: #d4ebff;}#sk-0f0ab166-1435-4622-b095-3845cc023a8b input.sk-hidden--visually {border: 0;clip: rect(1px 1px 1px 1px);clip: rect(1px, 1px, 1px, 1px);height: 1px;margin: -1px;overflow: hidden;padding: 0;position: absolute;width: 1px;}#sk-0f0ab166-1435-4622-b095-3845cc023a8b div.sk-estimator {font-family: monospace;background-color: #f0f8ff;border: 1px dotted black;border-radius: 0.25em;box-sizing: border-box;margin-bottom: 0.5em;}#sk-0f0ab166-1435-4622-b095-3845cc023a8b div.sk-estimator:hover {background-color: #d4ebff;}#sk-0f0ab166-1435-4622-b095-3845cc023a8b div.sk-parallel-item::after {content: \"\";width: 100%;border-bottom: 1px solid gray;flex-grow: 1;}#sk-0f0ab166-1435-4622-b095-3845cc023a8b div.sk-label:hover label.sk-toggleable__label {background-color: #d4ebff;}#sk-0f0ab166-1435-4622-b095-3845cc023a8b div.sk-serial::before {content: \"\";position: absolute;border-left: 1px solid gray;box-sizing: border-box;top: 2em;bottom: 0;left: 50%;}#sk-0f0ab166-1435-4622-b095-3845cc023a8b div.sk-serial {display: flex;flex-direction: column;align-items: center;background-color: white;padding-right: 0.2em;padding-left: 0.2em;}#sk-0f0ab166-1435-4622-b095-3845cc023a8b div.sk-item {z-index: 1;}#sk-0f0ab166-1435-4622-b095-3845cc023a8b div.sk-parallel {display: flex;align-items: stretch;justify-content: center;background-color: white;}#sk-0f0ab166-1435-4622-b095-3845cc023a8b div.sk-parallel::before {content: \"\";position: absolute;border-left: 1px solid gray;box-sizing: border-box;top: 2em;bottom: 0;left: 50%;}#sk-0f0ab166-1435-4622-b095-3845cc023a8b div.sk-parallel-item {display: flex;flex-direction: column;position: relative;background-color: white;}#sk-0f0ab166-1435-4622-b095-3845cc023a8b div.sk-parallel-item:first-child::after {align-self: flex-end;width: 50%;}#sk-0f0ab166-1435-4622-b095-3845cc023a8b div.sk-parallel-item:last-child::after {align-self: flex-start;width: 50%;}#sk-0f0ab166-1435-4622-b095-3845cc023a8b div.sk-parallel-item:only-child::after {width: 0;}#sk-0f0ab166-1435-4622-b095-3845cc023a8b div.sk-dashed-wrapped {border: 1px dashed gray;margin: 0 0.4em 0.5em 0.4em;box-sizing: border-box;padding-bottom: 0.4em;background-color: white;position: relative;}#sk-0f0ab166-1435-4622-b095-3845cc023a8b div.sk-label label {font-family: monospace;font-weight: bold;background-color: white;display: inline-block;line-height: 1.2em;}#sk-0f0ab166-1435-4622-b095-3845cc023a8b div.sk-label-container {position: relative;z-index: 2;text-align: center;}#sk-0f0ab166-1435-4622-b095-3845cc023a8b div.sk-container {/* jupyter's `normalize.less` sets `[hidden] { display: none; }` but bootstrap.min.css set `[hidden] { display: none !important; }` so we also need the `!important` here to be able to override the default hidden behavior on the sphinx rendered scikit-learn.org. See: https://github.com/scikit-learn/scikit-learn/issues/21755 */display: inline-block !important;position: relative;}#sk-0f0ab166-1435-4622-b095-3845cc023a8b div.sk-text-repr-fallback {display: none;}</style><div id=\"sk-0f0ab166-1435-4622-b095-3845cc023a8b\" class=\"sk-top-container\"><div class=\"sk-text-repr-fallback\"><pre>ColumnTransformer(transformers=[(&#x27;pipeline-1&#x27;,\n",
              "                                 Pipeline(steps=[(&#x27;simpleimputer&#x27;,\n",
              "                                                  SimpleImputer()),\n",
              "                                                 (&#x27;standardscaler&#x27;,\n",
              "                                                  StandardScaler())]),\n",
              "                                 &lt;sklearn.compose._column_transformer.make_column_selector object at 0x7f6d28a90310&gt;),\n",
              "                                (&#x27;pipeline-2&#x27;,\n",
              "                                 Pipeline(steps=[(&#x27;simpleimputer&#x27;,\n",
              "                                                  SimpleImputer(strategy=&#x27;most_frequent&#x27;)),\n",
              "                                                 (&#x27;onehotencoder&#x27;,\n",
              "                                                  OneHotEncoder(handle_unknown=&#x27;ignore&#x27;,\n",
              "                                                                sparse=False))]),\n",
              "                                 &lt;sklearn.compose._column_transformer.make_column_selector object at 0x7f6d28a90350&gt;)])</pre><b>Please rerun this cell to show the HTML repr or trust the notebook.</b></div><div class=\"sk-container\" hidden><div class=\"sk-item sk-dashed-wrapped\"><div class=\"sk-label-container\"><div class=\"sk-label sk-toggleable\"><input class=\"sk-toggleable__control sk-hidden--visually\" id=\"60dc80c7-39d7-4811-bc75-554188b99d28\" type=\"checkbox\" ><label for=\"60dc80c7-39d7-4811-bc75-554188b99d28\" class=\"sk-toggleable__label sk-toggleable__label-arrow\">ColumnTransformer</label><div class=\"sk-toggleable__content\"><pre>ColumnTransformer(transformers=[(&#x27;pipeline-1&#x27;,\n",
              "                                 Pipeline(steps=[(&#x27;simpleimputer&#x27;,\n",
              "                                                  SimpleImputer()),\n",
              "                                                 (&#x27;standardscaler&#x27;,\n",
              "                                                  StandardScaler())]),\n",
              "                                 &lt;sklearn.compose._column_transformer.make_column_selector object at 0x7f6d28a90310&gt;),\n",
              "                                (&#x27;pipeline-2&#x27;,\n",
              "                                 Pipeline(steps=[(&#x27;simpleimputer&#x27;,\n",
              "                                                  SimpleImputer(strategy=&#x27;most_frequent&#x27;)),\n",
              "                                                 (&#x27;onehotencoder&#x27;,\n",
              "                                                  OneHotEncoder(handle_unknown=&#x27;ignore&#x27;,\n",
              "                                                                sparse=False))]),\n",
              "                                 &lt;sklearn.compose._column_transformer.make_column_selector object at 0x7f6d28a90350&gt;)])</pre></div></div></div><div class=\"sk-parallel\"><div class=\"sk-parallel-item\"><div class=\"sk-item\"><div class=\"sk-label-container\"><div class=\"sk-label sk-toggleable\"><input class=\"sk-toggleable__control sk-hidden--visually\" id=\"eb36d1f1-fcd4-4fcf-bb5d-b65845c0a3ee\" type=\"checkbox\" ><label for=\"eb36d1f1-fcd4-4fcf-bb5d-b65845c0a3ee\" class=\"sk-toggleable__label sk-toggleable__label-arrow\">pipeline-1</label><div class=\"sk-toggleable__content\"><pre>&lt;sklearn.compose._column_transformer.make_column_selector object at 0x7f6d28a90310&gt;</pre></div></div></div><div class=\"sk-serial\"><div class=\"sk-item\"><div class=\"sk-serial\"><div class=\"sk-item\"><div class=\"sk-estimator sk-toggleable\"><input class=\"sk-toggleable__control sk-hidden--visually\" id=\"932bb521-984b-499f-8000-7bf144c02ddf\" type=\"checkbox\" ><label for=\"932bb521-984b-499f-8000-7bf144c02ddf\" class=\"sk-toggleable__label sk-toggleable__label-arrow\">SimpleImputer</label><div class=\"sk-toggleable__content\"><pre>SimpleImputer()</pre></div></div></div><div class=\"sk-item\"><div class=\"sk-estimator sk-toggleable\"><input class=\"sk-toggleable__control sk-hidden--visually\" id=\"29086271-779d-46b1-a83e-4dceb5364ced\" type=\"checkbox\" ><label for=\"29086271-779d-46b1-a83e-4dceb5364ced\" class=\"sk-toggleable__label sk-toggleable__label-arrow\">StandardScaler</label><div class=\"sk-toggleable__content\"><pre>StandardScaler()</pre></div></div></div></div></div></div></div></div><div class=\"sk-parallel-item\"><div class=\"sk-item\"><div class=\"sk-label-container\"><div class=\"sk-label sk-toggleable\"><input class=\"sk-toggleable__control sk-hidden--visually\" id=\"64bb6ad7-1661-4eb8-8270-15192f6de587\" type=\"checkbox\" ><label for=\"64bb6ad7-1661-4eb8-8270-15192f6de587\" class=\"sk-toggleable__label sk-toggleable__label-arrow\">pipeline-2</label><div class=\"sk-toggleable__content\"><pre>&lt;sklearn.compose._column_transformer.make_column_selector object at 0x7f6d28a90350&gt;</pre></div></div></div><div class=\"sk-serial\"><div class=\"sk-item\"><div class=\"sk-serial\"><div class=\"sk-item\"><div class=\"sk-estimator sk-toggleable\"><input class=\"sk-toggleable__control sk-hidden--visually\" id=\"d582e08a-7c4a-44bb-955d-e8d2a83fbe0a\" type=\"checkbox\" ><label for=\"d582e08a-7c4a-44bb-955d-e8d2a83fbe0a\" class=\"sk-toggleable__label sk-toggleable__label-arrow\">SimpleImputer</label><div class=\"sk-toggleable__content\"><pre>SimpleImputer(strategy=&#x27;most_frequent&#x27;)</pre></div></div></div><div class=\"sk-item\"><div class=\"sk-estimator sk-toggleable\"><input class=\"sk-toggleable__control sk-hidden--visually\" id=\"b590b66c-e0ae-448f-a7b8-d73e1ff5af16\" type=\"checkbox\" ><label for=\"b590b66c-e0ae-448f-a7b8-d73e1ff5af16\" class=\"sk-toggleable__label sk-toggleable__label-arrow\">OneHotEncoder</label><div class=\"sk-toggleable__content\"><pre>OneHotEncoder(handle_unknown=&#x27;ignore&#x27;, sparse=False)</pre></div></div></div></div></div></div></div></div></div></div></div></div>"
            ]
          },
          "metadata": {},
          "execution_count": 64
        }
      ]
    },
    {
      "cell_type": "code",
      "source": [
        "# transform train and test\n",
        "X_train_processed = preprocessor.transform(X_train)\n",
        "X_test_processed = preprocessor.transform(X_test)"
      ],
      "metadata": {
        "id": "C2bQJ6Bdcr0l"
      },
      "execution_count": 65,
      "outputs": []
    },
    {
      "cell_type": "code",
      "source": [
        "# Check for missing values and that data is scaled and one-hot encoded\n",
        "print(np.isnan(X_train_processed).sum().sum(), 'missing values in training data')\n",
        "print(np.isnan(X_test_processed).sum().sum(), 'missing values in testing data')\n",
        "print('\\n')\n",
        "print('All data in X_train_processed are', X_train_processed.dtype)\n",
        "print('All data in X_test_processed are', X_test_processed.dtype)\n",
        "print('\\n')\n",
        "print('shape of data is', X_train_processed.shape)\n",
        "print('\\n')\n",
        "X_train_processed"
      ],
      "metadata": {
        "colab": {
          "base_uri": "https://localhost:8080/"
        },
        "id": "n8_bxAYnczxD",
        "outputId": "fd435d29-a0b3-4ce0-d7cd-01fd15fa50a4"
      },
      "execution_count": 66,
      "outputs": [
        {
          "output_type": "stream",
          "name": "stdout",
          "text": [
            "0 missing values in training data\n",
            "0 missing values in testing data\n",
            "\n",
            "\n",
            "All data in X_train_processed are float64\n",
            "All data in X_test_processed are float64\n",
            "\n",
            "\n",
            "shape of data is (6392, 1588)\n",
            "\n",
            "\n"
          ]
        },
        {
          "output_type": "execute_result",
          "data": {
            "text/plain": [
              "array([[-0.71277507,  1.82810922,  1.32784893, ...,  0.        ,\n",
              "         1.        ,  0.        ],\n",
              "       [-1.29105225,  0.60336888,  1.32784893, ...,  0.        ,\n",
              "         1.        ,  0.        ],\n",
              "       [ 1.81331864,  0.24454056,  0.13618724, ...,  1.        ,\n",
              "         0.        ,  0.        ],\n",
              "       ...,\n",
              "       [-0.92052713,  1.52302674,  0.49368575, ...,  1.        ,\n",
              "         0.        ,  0.        ],\n",
              "       [-0.2277552 , -0.38377708,  1.0895166 , ...,  1.        ,\n",
              "         0.        ,  0.        ],\n",
              "       [-0.95867683, -0.73836105, -0.10214509, ...,  1.        ,\n",
              "         0.        ,  0.        ]])"
            ]
          },
          "metadata": {},
          "execution_count": 66
        }
      ]
    },
    {
      "cell_type": "code",
      "source": [
        "# Step 1: Import the model you want to use\n",
        "from sklearn.tree import DecisionTreeRegressor\n",
        "dec_tree = DecisionTreeRegressor(random_state = 42)"
      ],
      "metadata": {
        "id": "PAFBV0K0dmFW"
      },
      "execution_count": 67,
      "outputs": []
    },
    {
      "cell_type": "code",
      "source": [
        "# Step 2: Create a modeling pipeline\n",
        "from sklearn.pipeline import make_pipeline\n",
        "dec_tree_pipe = make_pipeline(preprocessor, dec_tree)"
      ],
      "metadata": {
        "id": "cAo2Odj6eLzH"
      },
      "execution_count": 68,
      "outputs": []
    },
    {
      "cell_type": "code",
      "source": [
        "# Step 3: Fit the model using your training data.  \n",
        "dec_tree_pipe.fit(X_train, y_train)"
      ],
      "metadata": {
        "colab": {
          "base_uri": "https://localhost:8080/",
          "height": 227
        },
        "id": "9wpvC2O5eegi",
        "outputId": "a2cd2fc3-1f34-45da-fa12-9861cff43698"
      },
      "execution_count": 69,
      "outputs": [
        {
          "output_type": "execute_result",
          "data": {
            "text/plain": [
              "Pipeline(steps=[('columntransformer',\n",
              "                 ColumnTransformer(transformers=[('pipeline-1',\n",
              "                                                  Pipeline(steps=[('simpleimputer',\n",
              "                                                                   SimpleImputer()),\n",
              "                                                                  ('standardscaler',\n",
              "                                                                   StandardScaler())]),\n",
              "                                                  <sklearn.compose._column_transformer.make_column_selector object at 0x7f6d28a90310>),\n",
              "                                                 ('pipeline-2',\n",
              "                                                  Pipeline(steps=[('simpleimputer',\n",
              "                                                                   SimpleImputer(strategy='most_frequent')),\n",
              "                                                                  ('onehotencoder',\n",
              "                                                                   OneHotEncoder(handle_unknown='ignore',\n",
              "                                                                                 sparse=False))]),\n",
              "                                                  <sklearn.compose._column_transformer.make_column_selector object at 0x7f6d28a90350>)])),\n",
              "                ('decisiontreeregressor',\n",
              "                 DecisionTreeRegressor(random_state=42))])"
            ],
            "text/html": [
              "<style>#sk-950a374d-be0f-4dee-a6b5-39096651f22a {color: black;background-color: white;}#sk-950a374d-be0f-4dee-a6b5-39096651f22a pre{padding: 0;}#sk-950a374d-be0f-4dee-a6b5-39096651f22a div.sk-toggleable {background-color: white;}#sk-950a374d-be0f-4dee-a6b5-39096651f22a label.sk-toggleable__label {cursor: pointer;display: block;width: 100%;margin-bottom: 0;padding: 0.3em;box-sizing: border-box;text-align: center;}#sk-950a374d-be0f-4dee-a6b5-39096651f22a label.sk-toggleable__label-arrow:before {content: \"▸\";float: left;margin-right: 0.25em;color: #696969;}#sk-950a374d-be0f-4dee-a6b5-39096651f22a label.sk-toggleable__label-arrow:hover:before {color: black;}#sk-950a374d-be0f-4dee-a6b5-39096651f22a div.sk-estimator:hover label.sk-toggleable__label-arrow:before {color: black;}#sk-950a374d-be0f-4dee-a6b5-39096651f22a div.sk-toggleable__content {max-height: 0;max-width: 0;overflow: hidden;text-align: left;background-color: #f0f8ff;}#sk-950a374d-be0f-4dee-a6b5-39096651f22a div.sk-toggleable__content pre {margin: 0.2em;color: black;border-radius: 0.25em;background-color: #f0f8ff;}#sk-950a374d-be0f-4dee-a6b5-39096651f22a input.sk-toggleable__control:checked~div.sk-toggleable__content {max-height: 200px;max-width: 100%;overflow: auto;}#sk-950a374d-be0f-4dee-a6b5-39096651f22a input.sk-toggleable__control:checked~label.sk-toggleable__label-arrow:before {content: \"▾\";}#sk-950a374d-be0f-4dee-a6b5-39096651f22a div.sk-estimator input.sk-toggleable__control:checked~label.sk-toggleable__label {background-color: #d4ebff;}#sk-950a374d-be0f-4dee-a6b5-39096651f22a div.sk-label input.sk-toggleable__control:checked~label.sk-toggleable__label {background-color: #d4ebff;}#sk-950a374d-be0f-4dee-a6b5-39096651f22a input.sk-hidden--visually {border: 0;clip: rect(1px 1px 1px 1px);clip: rect(1px, 1px, 1px, 1px);height: 1px;margin: -1px;overflow: hidden;padding: 0;position: absolute;width: 1px;}#sk-950a374d-be0f-4dee-a6b5-39096651f22a div.sk-estimator {font-family: monospace;background-color: #f0f8ff;border: 1px dotted black;border-radius: 0.25em;box-sizing: border-box;margin-bottom: 0.5em;}#sk-950a374d-be0f-4dee-a6b5-39096651f22a div.sk-estimator:hover {background-color: #d4ebff;}#sk-950a374d-be0f-4dee-a6b5-39096651f22a div.sk-parallel-item::after {content: \"\";width: 100%;border-bottom: 1px solid gray;flex-grow: 1;}#sk-950a374d-be0f-4dee-a6b5-39096651f22a div.sk-label:hover label.sk-toggleable__label {background-color: #d4ebff;}#sk-950a374d-be0f-4dee-a6b5-39096651f22a div.sk-serial::before {content: \"\";position: absolute;border-left: 1px solid gray;box-sizing: border-box;top: 2em;bottom: 0;left: 50%;}#sk-950a374d-be0f-4dee-a6b5-39096651f22a div.sk-serial {display: flex;flex-direction: column;align-items: center;background-color: white;padding-right: 0.2em;padding-left: 0.2em;}#sk-950a374d-be0f-4dee-a6b5-39096651f22a div.sk-item {z-index: 1;}#sk-950a374d-be0f-4dee-a6b5-39096651f22a div.sk-parallel {display: flex;align-items: stretch;justify-content: center;background-color: white;}#sk-950a374d-be0f-4dee-a6b5-39096651f22a div.sk-parallel::before {content: \"\";position: absolute;border-left: 1px solid gray;box-sizing: border-box;top: 2em;bottom: 0;left: 50%;}#sk-950a374d-be0f-4dee-a6b5-39096651f22a div.sk-parallel-item {display: flex;flex-direction: column;position: relative;background-color: white;}#sk-950a374d-be0f-4dee-a6b5-39096651f22a div.sk-parallel-item:first-child::after {align-self: flex-end;width: 50%;}#sk-950a374d-be0f-4dee-a6b5-39096651f22a div.sk-parallel-item:last-child::after {align-self: flex-start;width: 50%;}#sk-950a374d-be0f-4dee-a6b5-39096651f22a div.sk-parallel-item:only-child::after {width: 0;}#sk-950a374d-be0f-4dee-a6b5-39096651f22a div.sk-dashed-wrapped {border: 1px dashed gray;margin: 0 0.4em 0.5em 0.4em;box-sizing: border-box;padding-bottom: 0.4em;background-color: white;position: relative;}#sk-950a374d-be0f-4dee-a6b5-39096651f22a div.sk-label label {font-family: monospace;font-weight: bold;background-color: white;display: inline-block;line-height: 1.2em;}#sk-950a374d-be0f-4dee-a6b5-39096651f22a div.sk-label-container {position: relative;z-index: 2;text-align: center;}#sk-950a374d-be0f-4dee-a6b5-39096651f22a div.sk-container {/* jupyter's `normalize.less` sets `[hidden] { display: none; }` but bootstrap.min.css set `[hidden] { display: none !important; }` so we also need the `!important` here to be able to override the default hidden behavior on the sphinx rendered scikit-learn.org. See: https://github.com/scikit-learn/scikit-learn/issues/21755 */display: inline-block !important;position: relative;}#sk-950a374d-be0f-4dee-a6b5-39096651f22a div.sk-text-repr-fallback {display: none;}</style><div id=\"sk-950a374d-be0f-4dee-a6b5-39096651f22a\" class=\"sk-top-container\"><div class=\"sk-text-repr-fallback\"><pre>Pipeline(steps=[(&#x27;columntransformer&#x27;,\n",
              "                 ColumnTransformer(transformers=[(&#x27;pipeline-1&#x27;,\n",
              "                                                  Pipeline(steps=[(&#x27;simpleimputer&#x27;,\n",
              "                                                                   SimpleImputer()),\n",
              "                                                                  (&#x27;standardscaler&#x27;,\n",
              "                                                                   StandardScaler())]),\n",
              "                                                  &lt;sklearn.compose._column_transformer.make_column_selector object at 0x7f6d28a90310&gt;),\n",
              "                                                 (&#x27;pipeline-2&#x27;,\n",
              "                                                  Pipeline(steps=[(&#x27;simpleimputer&#x27;,\n",
              "                                                                   SimpleImputer(strategy=&#x27;most_frequent&#x27;)),\n",
              "                                                                  (&#x27;onehotencoder&#x27;,\n",
              "                                                                   OneHotEncoder(handle_unknown=&#x27;ignore&#x27;,\n",
              "                                                                                 sparse=False))]),\n",
              "                                                  &lt;sklearn.compose._column_transformer.make_column_selector object at 0x7f6d28a90350&gt;)])),\n",
              "                (&#x27;decisiontreeregressor&#x27;,\n",
              "                 DecisionTreeRegressor(random_state=42))])</pre><b>Please rerun this cell to show the HTML repr or trust the notebook.</b></div><div class=\"sk-container\" hidden><div class=\"sk-item sk-dashed-wrapped\"><div class=\"sk-label-container\"><div class=\"sk-label sk-toggleable\"><input class=\"sk-toggleable__control sk-hidden--visually\" id=\"ee9ccfb5-7e5f-43d6-814e-ba48cd4e8bea\" type=\"checkbox\" ><label for=\"ee9ccfb5-7e5f-43d6-814e-ba48cd4e8bea\" class=\"sk-toggleable__label sk-toggleable__label-arrow\">Pipeline</label><div class=\"sk-toggleable__content\"><pre>Pipeline(steps=[(&#x27;columntransformer&#x27;,\n",
              "                 ColumnTransformer(transformers=[(&#x27;pipeline-1&#x27;,\n",
              "                                                  Pipeline(steps=[(&#x27;simpleimputer&#x27;,\n",
              "                                                                   SimpleImputer()),\n",
              "                                                                  (&#x27;standardscaler&#x27;,\n",
              "                                                                   StandardScaler())]),\n",
              "                                                  &lt;sklearn.compose._column_transformer.make_column_selector object at 0x7f6d28a90310&gt;),\n",
              "                                                 (&#x27;pipeline-2&#x27;,\n",
              "                                                  Pipeline(steps=[(&#x27;simpleimputer&#x27;,\n",
              "                                                                   SimpleImputer(strategy=&#x27;most_frequent&#x27;)),\n",
              "                                                                  (&#x27;onehotencoder&#x27;,\n",
              "                                                                   OneHotEncoder(handle_unknown=&#x27;ignore&#x27;,\n",
              "                                                                                 sparse=False))]),\n",
              "                                                  &lt;sklearn.compose._column_transformer.make_column_selector object at 0x7f6d28a90350&gt;)])),\n",
              "                (&#x27;decisiontreeregressor&#x27;,\n",
              "                 DecisionTreeRegressor(random_state=42))])</pre></div></div></div><div class=\"sk-serial\"><div class=\"sk-item sk-dashed-wrapped\"><div class=\"sk-label-container\"><div class=\"sk-label sk-toggleable\"><input class=\"sk-toggleable__control sk-hidden--visually\" id=\"de94b596-64ed-4e71-abcc-da672f9163f1\" type=\"checkbox\" ><label for=\"de94b596-64ed-4e71-abcc-da672f9163f1\" class=\"sk-toggleable__label sk-toggleable__label-arrow\">columntransformer: ColumnTransformer</label><div class=\"sk-toggleable__content\"><pre>ColumnTransformer(transformers=[(&#x27;pipeline-1&#x27;,\n",
              "                                 Pipeline(steps=[(&#x27;simpleimputer&#x27;,\n",
              "                                                  SimpleImputer()),\n",
              "                                                 (&#x27;standardscaler&#x27;,\n",
              "                                                  StandardScaler())]),\n",
              "                                 &lt;sklearn.compose._column_transformer.make_column_selector object at 0x7f6d28a90310&gt;),\n",
              "                                (&#x27;pipeline-2&#x27;,\n",
              "                                 Pipeline(steps=[(&#x27;simpleimputer&#x27;,\n",
              "                                                  SimpleImputer(strategy=&#x27;most_frequent&#x27;)),\n",
              "                                                 (&#x27;onehotencoder&#x27;,\n",
              "                                                  OneHotEncoder(handle_unknown=&#x27;ignore&#x27;,\n",
              "                                                                sparse=False))]),\n",
              "                                 &lt;sklearn.compose._column_transformer.make_column_selector object at 0x7f6d28a90350&gt;)])</pre></div></div></div><div class=\"sk-parallel\"><div class=\"sk-parallel-item\"><div class=\"sk-item\"><div class=\"sk-label-container\"><div class=\"sk-label sk-toggleable\"><input class=\"sk-toggleable__control sk-hidden--visually\" id=\"df26313a-9542-40ba-80bc-a3adaa27f18f\" type=\"checkbox\" ><label for=\"df26313a-9542-40ba-80bc-a3adaa27f18f\" class=\"sk-toggleable__label sk-toggleable__label-arrow\">pipeline-1</label><div class=\"sk-toggleable__content\"><pre>&lt;sklearn.compose._column_transformer.make_column_selector object at 0x7f6d28a90310&gt;</pre></div></div></div><div class=\"sk-serial\"><div class=\"sk-item\"><div class=\"sk-serial\"><div class=\"sk-item\"><div class=\"sk-estimator sk-toggleable\"><input class=\"sk-toggleable__control sk-hidden--visually\" id=\"59a1d7f9-240f-4c72-baba-755dfe682b98\" type=\"checkbox\" ><label for=\"59a1d7f9-240f-4c72-baba-755dfe682b98\" class=\"sk-toggleable__label sk-toggleable__label-arrow\">SimpleImputer</label><div class=\"sk-toggleable__content\"><pre>SimpleImputer()</pre></div></div></div><div class=\"sk-item\"><div class=\"sk-estimator sk-toggleable\"><input class=\"sk-toggleable__control sk-hidden--visually\" id=\"3bfdb519-0988-412b-8a5e-4ccfa3dde07a\" type=\"checkbox\" ><label for=\"3bfdb519-0988-412b-8a5e-4ccfa3dde07a\" class=\"sk-toggleable__label sk-toggleable__label-arrow\">StandardScaler</label><div class=\"sk-toggleable__content\"><pre>StandardScaler()</pre></div></div></div></div></div></div></div></div><div class=\"sk-parallel-item\"><div class=\"sk-item\"><div class=\"sk-label-container\"><div class=\"sk-label sk-toggleable\"><input class=\"sk-toggleable__control sk-hidden--visually\" id=\"9bc102bd-aaf0-4ccd-82cb-f7c435aa4140\" type=\"checkbox\" ><label for=\"9bc102bd-aaf0-4ccd-82cb-f7c435aa4140\" class=\"sk-toggleable__label sk-toggleable__label-arrow\">pipeline-2</label><div class=\"sk-toggleable__content\"><pre>&lt;sklearn.compose._column_transformer.make_column_selector object at 0x7f6d28a90350&gt;</pre></div></div></div><div class=\"sk-serial\"><div class=\"sk-item\"><div class=\"sk-serial\"><div class=\"sk-item\"><div class=\"sk-estimator sk-toggleable\"><input class=\"sk-toggleable__control sk-hidden--visually\" id=\"8ec317b2-a54a-428a-82b7-02bb1e2265d5\" type=\"checkbox\" ><label for=\"8ec317b2-a54a-428a-82b7-02bb1e2265d5\" class=\"sk-toggleable__label sk-toggleable__label-arrow\">SimpleImputer</label><div class=\"sk-toggleable__content\"><pre>SimpleImputer(strategy=&#x27;most_frequent&#x27;)</pre></div></div></div><div class=\"sk-item\"><div class=\"sk-estimator sk-toggleable\"><input class=\"sk-toggleable__control sk-hidden--visually\" id=\"6e341106-05cb-4042-bc46-8947aac6d87f\" type=\"checkbox\" ><label for=\"6e341106-05cb-4042-bc46-8947aac6d87f\" class=\"sk-toggleable__label sk-toggleable__label-arrow\">OneHotEncoder</label><div class=\"sk-toggleable__content\"><pre>OneHotEncoder(handle_unknown=&#x27;ignore&#x27;, sparse=False)</pre></div></div></div></div></div></div></div></div></div></div><div class=\"sk-item\"><div class=\"sk-estimator sk-toggleable\"><input class=\"sk-toggleable__control sk-hidden--visually\" id=\"bffd8a09-e1e0-49bc-aef5-912ca692b00f\" type=\"checkbox\" ><label for=\"bffd8a09-e1e0-49bc-aef5-912ca692b00f\" class=\"sk-toggleable__label sk-toggleable__label-arrow\">DecisionTreeRegressor</label><div class=\"sk-toggleable__content\"><pre>DecisionTreeRegressor(random_state=42)</pre></div></div></div></div></div></div></div>"
            ]
          },
          "metadata": {},
          "execution_count": 69
        }
      ]
    },
    {
      "cell_type": "code",
      "source": [
        "# Step 4: Predict the target values for the training set and the test set\n",
        "train_preds = dec_tree_pipe.predict(X_train)\n",
        "test_preds = dec_tree_pipe.predict(X_test)"
      ],
      "metadata": {
        "id": "XASdqeye_AHm"
      },
      "execution_count": 70,
      "outputs": []
    },
    {
      "cell_type": "code",
      "source": [
        "# Step 5: Evaluate the Model\n",
        "train_score = dec_tree_pipe.score(X_train, y_train)\n",
        "test_score = dec_tree_pipe.score(X_test, y_test)\n",
        "print(train_score)\n",
        "print(test_score)"
      ],
      "metadata": {
        "colab": {
          "base_uri": "https://localhost:8080/"
        },
        "id": "P_UWykfd-UUr",
        "outputId": "89abd2af-1f91-4346-df93-2c44a1721d9e"
      },
      "execution_count": 77,
      "outputs": [
        {
          "output_type": "stream",
          "name": "stdout",
          "text": [
            "1.0\n",
            "0.22196924437673815\n"
          ]
        }
      ]
    },
    {
      "cell_type": "markdown",
      "source": [
        "Neither model is ideal, as they are both over or underfit. However, if we weremto compare the 2 models between the linear regression or the regression tree, the regression tree is the better model due to the training and testing data scores being the closest together."
      ],
      "metadata": {
        "id": "bb8UfsN5gpAS"
      }
    }
  ]
}